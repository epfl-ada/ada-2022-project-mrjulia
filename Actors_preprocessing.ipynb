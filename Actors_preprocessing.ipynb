{
 "cells": [
  {
   "cell_type": "code",
   "execution_count": 1,
   "id": "045d4458",
   "metadata": {},
   "outputs": [],
   "source": [
    "import pandas as pd \n",
    "import numpy as np\n",
    "import matplotlib.pyplot as plt\n",
    "import seaborn as sns\n",
    "import scipy.stats as stats"
   ]
  },
  {
   "cell_type": "code",
   "execution_count": 2,
   "id": "82b32153",
   "metadata": {},
   "outputs": [
    {
     "data": {
      "text/html": [
       "<div>\n",
       "<style scoped>\n",
       "    .dataframe tbody tr th:only-of-type {\n",
       "        vertical-align: middle;\n",
       "    }\n",
       "\n",
       "    .dataframe tbody tr th {\n",
       "        vertical-align: top;\n",
       "    }\n",
       "\n",
       "    .dataframe thead th {\n",
       "        text-align: right;\n",
       "    }\n",
       "</style>\n",
       "<table border=\"1\" class=\"dataframe\">\n",
       "  <thead>\n",
       "    <tr style=\"text-align: right;\">\n",
       "      <th></th>\n",
       "      <th>imdbID</th>\n",
       "      <th>Freebase movie ID</th>\n",
       "      <th>Movie name</th>\n",
       "      <th>Movie release date</th>\n",
       "      <th>Year released</th>\n",
       "      <th>Movie genres</th>\n",
       "      <th>MBO_revenue</th>\n",
       "      <th>budget</th>\n",
       "      <th>averageRating</th>\n",
       "      <th>numVotes</th>\n",
       "      <th>Movie runtime</th>\n",
       "      <th>Profit</th>\n",
       "      <th>weighted_rating</th>\n",
       "    </tr>\n",
       "  </thead>\n",
       "  <tbody>\n",
       "    <tr>\n",
       "      <th>0</th>\n",
       "      <td>tt0206314</td>\n",
       "      <td>/m/08pbld</td>\n",
       "      <td>Joy Ride</td>\n",
       "      <td>2001-10-05</td>\n",
       "      <td>2001</td>\n",
       "      <td>['Thriller', 'Crime Thriller', 'Horror', 'Psyc...</td>\n",
       "      <td>4.511683e+07</td>\n",
       "      <td>2.831896e+07</td>\n",
       "      <td>6.6</td>\n",
       "      <td>70075</td>\n",
       "      <td>97</td>\n",
       "      <td>1.679787e+07</td>\n",
       "      <td>6.427211</td>\n",
       "    </tr>\n",
       "    <tr>\n",
       "      <th>1</th>\n",
       "      <td>tt0117571</td>\n",
       "      <td>/m/0sy44</td>\n",
       "      <td>Scream</td>\n",
       "      <td>1996-12-18</td>\n",
       "      <td>1996</td>\n",
       "      <td>['Crime Fiction', 'Mystery', 'Horror']</td>\n",
       "      <td>2.404963e+08</td>\n",
       "      <td>1.945688e+07</td>\n",
       "      <td>7.4</td>\n",
       "      <td>339095</td>\n",
       "      <td>111</td>\n",
       "      <td>2.210394e+08</td>\n",
       "      <td>7.136848</td>\n",
       "    </tr>\n",
       "    <tr>\n",
       "      <th>2</th>\n",
       "      <td>tt0246460</td>\n",
       "      <td>/m/014kq6</td>\n",
       "      <td>Die Another Day</td>\n",
       "      <td>2002-11-18</td>\n",
       "      <td>2002</td>\n",
       "      <td>['Thriller', 'Glamorized Spy Film', 'Action', ...</td>\n",
       "      <td>5.236253e+08</td>\n",
       "      <td>1.721176e+08</td>\n",
       "      <td>6.1</td>\n",
       "      <td>219579</td>\n",
       "      <td>133</td>\n",
       "      <td>3.515077e+08</td>\n",
       "      <td>6.171448</td>\n",
       "    </tr>\n",
       "    <tr>\n",
       "      <th>3</th>\n",
       "      <td>tt1172991</td>\n",
       "      <td>/m/07kd1dr</td>\n",
       "      <td>The Company Men</td>\n",
       "      <td>2010-01-22</td>\n",
       "      <td>2010</td>\n",
       "      <td>['Drama', 'Indie']</td>\n",
       "      <td>4.882577e+06</td>\n",
       "      <td>1.500000e+07</td>\n",
       "      <td>6.7</td>\n",
       "      <td>45923</td>\n",
       "      <td>104</td>\n",
       "      <td>-1.011742e+07</td>\n",
       "      <td>6.429922</td>\n",
       "    </tr>\n",
       "    <tr>\n",
       "      <th>4</th>\n",
       "      <td>tt1375666</td>\n",
       "      <td>/m/0661ql3</td>\n",
       "      <td>Inception</td>\n",
       "      <td>2010-07-08</td>\n",
       "      <td>2010</td>\n",
       "      <td>['Thriller', 'Science Fiction', 'Adventure', '...</td>\n",
       "      <td>2.925873e+08</td>\n",
       "      <td>1.600000e+08</td>\n",
       "      <td>8.8</td>\n",
       "      <td>2321244</td>\n",
       "      <td>148</td>\n",
       "      <td>1.325873e+08</td>\n",
       "      <td>8.688890</td>\n",
       "    </tr>\n",
       "  </tbody>\n",
       "</table>\n",
       "</div>"
      ],
      "text/plain": [
       "      imdbID Freebase movie ID       Movie name Movie release date  \\\n",
       "0  tt0206314         /m/08pbld         Joy Ride         2001-10-05   \n",
       "1  tt0117571          /m/0sy44           Scream         1996-12-18   \n",
       "2  tt0246460         /m/014kq6  Die Another Day         2002-11-18   \n",
       "3  tt1172991        /m/07kd1dr  The Company Men         2010-01-22   \n",
       "4  tt1375666        /m/0661ql3        Inception         2010-07-08   \n",
       "\n",
       "   Year released                                       Movie genres  \\\n",
       "0           2001  ['Thriller', 'Crime Thriller', 'Horror', 'Psyc...   \n",
       "1           1996             ['Crime Fiction', 'Mystery', 'Horror']   \n",
       "2           2002  ['Thriller', 'Glamorized Spy Film', 'Action', ...   \n",
       "3           2010                                 ['Drama', 'Indie']   \n",
       "4           2010  ['Thriller', 'Science Fiction', 'Adventure', '...   \n",
       "\n",
       "    MBO_revenue        budget  averageRating  numVotes  Movie runtime  \\\n",
       "0  4.511683e+07  2.831896e+07            6.6     70075             97   \n",
       "1  2.404963e+08  1.945688e+07            7.4    339095            111   \n",
       "2  5.236253e+08  1.721176e+08            6.1    219579            133   \n",
       "3  4.882577e+06  1.500000e+07            6.7     45923            104   \n",
       "4  2.925873e+08  1.600000e+08            8.8   2321244            148   \n",
       "\n",
       "         Profit  weighted_rating  \n",
       "0  1.679787e+07         6.427211  \n",
       "1  2.210394e+08         7.136848  \n",
       "2  3.515077e+08         6.171448  \n",
       "3 -1.011742e+07         6.429922  \n",
       "4  1.325873e+08         8.688890  "
      ]
     },
     "execution_count": 2,
     "metadata": {},
     "output_type": "execute_result"
    }
   ],
   "source": [
    "#read data file of movies scraped and merged with cmu movie corpus \n",
    "df_movies = pd.read_csv('df_with_ratings.csv',sep=',')\n",
    "df_movies.head()"
   ]
  },
  {
   "cell_type": "code",
   "execution_count": 3,
   "id": "3540c53d",
   "metadata": {},
   "outputs": [
    {
     "name": "stdout",
     "output_type": "stream",
     "text": [
      "<class 'pandas.core.frame.DataFrame'>\n",
      "RangeIndex: 3367 entries, 0 to 3366\n",
      "Data columns (total 13 columns):\n",
      " #   Column              Non-Null Count  Dtype  \n",
      "---  ------              --------------  -----  \n",
      " 0   imdbID              3367 non-null   object \n",
      " 1   Freebase movie ID   3367 non-null   object \n",
      " 2   Movie name          3367 non-null   object \n",
      " 3   Movie release date  3367 non-null   object \n",
      " 4   Year released       3367 non-null   int64  \n",
      " 5   Movie genres        3367 non-null   object \n",
      " 6   MBO_revenue         3367 non-null   float64\n",
      " 7   budget              3367 non-null   float64\n",
      " 8   averageRating       3367 non-null   float64\n",
      " 9   numVotes            3367 non-null   int64  \n",
      " 10  Movie runtime       3367 non-null   int64  \n",
      " 11  Profit              3367 non-null   float64\n",
      " 12  weighted_rating     3367 non-null   float64\n",
      "dtypes: float64(5), int64(3), object(5)\n",
      "memory usage: 342.1+ KB\n"
     ]
    }
   ],
   "source": [
    "df_movies.info()"
   ]
  },
  {
   "cell_type": "code",
   "execution_count": 4,
   "id": "4b69c2d7",
   "metadata": {},
   "outputs": [
    {
     "data": {
      "text/html": [
       "<div>\n",
       "<style scoped>\n",
       "    .dataframe tbody tr th:only-of-type {\n",
       "        vertical-align: middle;\n",
       "    }\n",
       "\n",
       "    .dataframe tbody tr th {\n",
       "        vertical-align: top;\n",
       "    }\n",
       "\n",
       "    .dataframe thead th {\n",
       "        text-align: right;\n",
       "    }\n",
       "</style>\n",
       "<table border=\"1\" class=\"dataframe\">\n",
       "  <thead>\n",
       "    <tr style=\"text-align: right;\">\n",
       "      <th></th>\n",
       "      <th>Wikipedia movie ID</th>\n",
       "      <th>Freebase movie ID</th>\n",
       "      <th>Movie release date</th>\n",
       "      <th>character name</th>\n",
       "      <th>actor date of birth</th>\n",
       "      <th>actor gender</th>\n",
       "      <th>actor height</th>\n",
       "      <th>actor ethnicity</th>\n",
       "      <th>actor name</th>\n",
       "      <th>actor age at movie release</th>\n",
       "      <th>freebase character/actor map id</th>\n",
       "      <th>freebase character id</th>\n",
       "      <th>freebase actor id</th>\n",
       "    </tr>\n",
       "  </thead>\n",
       "  <tbody>\n",
       "    <tr>\n",
       "      <th>0</th>\n",
       "      <td>975900</td>\n",
       "      <td>/m/03vyhn</td>\n",
       "      <td>2001-08-24</td>\n",
       "      <td>Akooshay</td>\n",
       "      <td>1958-08-26</td>\n",
       "      <td>F</td>\n",
       "      <td>1.620</td>\n",
       "      <td>NaN</td>\n",
       "      <td>Wanda De Jesus</td>\n",
       "      <td>42.0</td>\n",
       "      <td>/m/0bgchxw</td>\n",
       "      <td>/m/0bgcj3x</td>\n",
       "      <td>/m/03wcfv7</td>\n",
       "    </tr>\n",
       "    <tr>\n",
       "      <th>1</th>\n",
       "      <td>975900</td>\n",
       "      <td>/m/03vyhn</td>\n",
       "      <td>2001-08-24</td>\n",
       "      <td>Lieutenant Melanie Ballard</td>\n",
       "      <td>1974-08-15</td>\n",
       "      <td>F</td>\n",
       "      <td>1.780</td>\n",
       "      <td>/m/044038p</td>\n",
       "      <td>Natasha Henstridge</td>\n",
       "      <td>27.0</td>\n",
       "      <td>/m/0jys3m</td>\n",
       "      <td>/m/0bgchn4</td>\n",
       "      <td>/m/0346l4</td>\n",
       "    </tr>\n",
       "    <tr>\n",
       "      <th>2</th>\n",
       "      <td>975900</td>\n",
       "      <td>/m/03vyhn</td>\n",
       "      <td>2001-08-24</td>\n",
       "      <td>Desolation Williams</td>\n",
       "      <td>1969-06-15</td>\n",
       "      <td>M</td>\n",
       "      <td>1.727</td>\n",
       "      <td>/m/0x67</td>\n",
       "      <td>Ice Cube</td>\n",
       "      <td>32.0</td>\n",
       "      <td>/m/0jys3g</td>\n",
       "      <td>/m/0bgchn_</td>\n",
       "      <td>/m/01vw26l</td>\n",
       "    </tr>\n",
       "    <tr>\n",
       "      <th>3</th>\n",
       "      <td>975900</td>\n",
       "      <td>/m/03vyhn</td>\n",
       "      <td>2001-08-24</td>\n",
       "      <td>Sgt Jericho Butler</td>\n",
       "      <td>1967-09-12</td>\n",
       "      <td>M</td>\n",
       "      <td>1.750</td>\n",
       "      <td>NaN</td>\n",
       "      <td>Jason Statham</td>\n",
       "      <td>33.0</td>\n",
       "      <td>/m/02vchl6</td>\n",
       "      <td>/m/0bgchnq</td>\n",
       "      <td>/m/034hyc</td>\n",
       "    </tr>\n",
       "    <tr>\n",
       "      <th>4</th>\n",
       "      <td>975900</td>\n",
       "      <td>/m/03vyhn</td>\n",
       "      <td>2001-08-24</td>\n",
       "      <td>Bashira Kincaid</td>\n",
       "      <td>1977-09-25</td>\n",
       "      <td>F</td>\n",
       "      <td>1.650</td>\n",
       "      <td>NaN</td>\n",
       "      <td>Clea DuVall</td>\n",
       "      <td>23.0</td>\n",
       "      <td>/m/02vbb3r</td>\n",
       "      <td>/m/0bgchp9</td>\n",
       "      <td>/m/01y9xg</td>\n",
       "    </tr>\n",
       "  </tbody>\n",
       "</table>\n",
       "</div>"
      ],
      "text/plain": [
       "   Wikipedia movie ID Freebase movie ID Movie release date  \\\n",
       "0              975900         /m/03vyhn         2001-08-24   \n",
       "1              975900         /m/03vyhn         2001-08-24   \n",
       "2              975900         /m/03vyhn         2001-08-24   \n",
       "3              975900         /m/03vyhn         2001-08-24   \n",
       "4              975900         /m/03vyhn         2001-08-24   \n",
       "\n",
       "               character name actor date of birth actor gender  actor height  \\\n",
       "0                    Akooshay          1958-08-26            F         1.620   \n",
       "1  Lieutenant Melanie Ballard          1974-08-15            F         1.780   \n",
       "2         Desolation Williams          1969-06-15            M         1.727   \n",
       "3          Sgt Jericho Butler          1967-09-12            M         1.750   \n",
       "4             Bashira Kincaid          1977-09-25            F         1.650   \n",
       "\n",
       "  actor ethnicity          actor name  actor age at movie release  \\\n",
       "0             NaN      Wanda De Jesus                        42.0   \n",
       "1      /m/044038p  Natasha Henstridge                        27.0   \n",
       "2         /m/0x67            Ice Cube                        32.0   \n",
       "3             NaN       Jason Statham                        33.0   \n",
       "4             NaN         Clea DuVall                        23.0   \n",
       "\n",
       "  freebase character/actor map id freebase character id freebase actor id  \n",
       "0                      /m/0bgchxw            /m/0bgcj3x        /m/03wcfv7  \n",
       "1                       /m/0jys3m            /m/0bgchn4         /m/0346l4  \n",
       "2                       /m/0jys3g            /m/0bgchn_        /m/01vw26l  \n",
       "3                      /m/02vchl6            /m/0bgchnq         /m/034hyc  \n",
       "4                      /m/02vbb3r            /m/0bgchp9         /m/01y9xg  "
      ]
     },
     "execution_count": 4,
     "metadata": {},
     "output_type": "execute_result"
    }
   ],
   "source": [
    "#read the data file containing various information about characters and actors\n",
    "colnames1 = [\"Wikipedia movie ID\",\"Freebase movie ID\",\"Movie release date\",\"character name\",\"actor date of birth\",\"actor gender\",\"actor height\",\"actor ethnicity\",\"actor name\",\"actor age at movie release\",\"freebase character/actor map id\",\"freebase character id\",\"freebase actor id\"]\n",
    "df_characters=pd.read_csv('./MovieSummaries/character.metadata.tsv', sep=\"\\t\", names = colnames1)\n",
    "df_characters.head()"
   ]
  },
  {
   "cell_type": "code",
   "execution_count": 5,
   "id": "13c9e5ff",
   "metadata": {},
   "outputs": [
    {
     "data": {
      "text/plain": [
       "449854"
      ]
     },
     "execution_count": 5,
     "metadata": {},
     "output_type": "execute_result"
    }
   ],
   "source": [
    "df_characters = df_characters[~df_characters[\"freebase actor id\"].isna()]\n",
    "len(df_characters)"
   ]
  },
  {
   "cell_type": "code",
   "execution_count": 6,
   "id": "0a7b2f41",
   "metadata": {},
   "outputs": [
    {
     "name": "stdout",
     "output_type": "stream",
     "text": [
      "<class 'pandas.core.frame.DataFrame'>\n",
      "Int64Index: 449854 entries, 0 to 450668\n",
      "Data columns (total 13 columns):\n",
      " #   Column                           Non-Null Count   Dtype  \n",
      "---  ------                           --------------   -----  \n",
      " 0   Wikipedia movie ID               449854 non-null  int64  \n",
      " 1   Freebase movie ID                449854 non-null  object \n",
      " 2   Movie release date               439874 non-null  object \n",
      " 3   character name                   192465 non-null  object \n",
      " 4   actor date of birth              344524 non-null  object \n",
      " 5   actor gender                     405060 non-null  object \n",
      " 6   actor height                     154824 non-null  float64\n",
      " 7   actor ethnicity                  106058 non-null  object \n",
      " 8   actor name                       449441 non-null  object \n",
      " 9   actor age at movie release       292556 non-null  float64\n",
      " 10  freebase character/actor map id  449854 non-null  object \n",
      " 11  freebase character id            192475 non-null  object \n",
      " 12  freebase actor id                449854 non-null  object \n",
      "dtypes: float64(2), int64(1), object(10)\n",
      "memory usage: 48.0+ MB\n"
     ]
    }
   ],
   "source": [
    "df_characters.info()"
   ]
  },
  {
   "cell_type": "code",
   "execution_count": 7,
   "id": "2f988adb",
   "metadata": {},
   "outputs": [
    {
     "data": {
      "text/html": [
       "<div>\n",
       "<style scoped>\n",
       "    .dataframe tbody tr th:only-of-type {\n",
       "        vertical-align: middle;\n",
       "    }\n",
       "\n",
       "    .dataframe tbody tr th {\n",
       "        vertical-align: top;\n",
       "    }\n",
       "\n",
       "    .dataframe thead th {\n",
       "        text-align: right;\n",
       "    }\n",
       "</style>\n",
       "<table border=\"1\" class=\"dataframe\">\n",
       "  <thead>\n",
       "    <tr style=\"text-align: right;\">\n",
       "      <th></th>\n",
       "      <th>imdbID</th>\n",
       "      <th>Freebase movie ID</th>\n",
       "      <th>Movie name</th>\n",
       "      <th>Movie release date</th>\n",
       "      <th>Year released</th>\n",
       "      <th>Movie genres</th>\n",
       "      <th>MBO_revenue</th>\n",
       "      <th>budget</th>\n",
       "      <th>averageRating</th>\n",
       "      <th>numVotes</th>\n",
       "      <th>Movie runtime</th>\n",
       "      <th>Profit</th>\n",
       "      <th>weighted_rating</th>\n",
       "      <th>nb actors</th>\n",
       "    </tr>\n",
       "  </thead>\n",
       "  <tbody>\n",
       "    <tr>\n",
       "      <th>0</th>\n",
       "      <td>tt0206314</td>\n",
       "      <td>/m/08pbld</td>\n",
       "      <td>Joy Ride</td>\n",
       "      <td>2001-10-05</td>\n",
       "      <td>2001</td>\n",
       "      <td>['Thriller', 'Crime Thriller', 'Horror', 'Psyc...</td>\n",
       "      <td>4.511683e+07</td>\n",
       "      <td>2.831896e+07</td>\n",
       "      <td>6.6</td>\n",
       "      <td>70075</td>\n",
       "      <td>97</td>\n",
       "      <td>1.679787e+07</td>\n",
       "      <td>6.427211</td>\n",
       "      <td>13</td>\n",
       "    </tr>\n",
       "    <tr>\n",
       "      <th>1</th>\n",
       "      <td>tt0117571</td>\n",
       "      <td>/m/0sy44</td>\n",
       "      <td>Scream</td>\n",
       "      <td>1996-12-18</td>\n",
       "      <td>1996</td>\n",
       "      <td>['Crime Fiction', 'Mystery', 'Horror']</td>\n",
       "      <td>2.404963e+08</td>\n",
       "      <td>1.945688e+07</td>\n",
       "      <td>7.4</td>\n",
       "      <td>339095</td>\n",
       "      <td>111</td>\n",
       "      <td>2.210394e+08</td>\n",
       "      <td>7.136848</td>\n",
       "      <td>20</td>\n",
       "    </tr>\n",
       "    <tr>\n",
       "      <th>2</th>\n",
       "      <td>tt0246460</td>\n",
       "      <td>/m/014kq6</td>\n",
       "      <td>Die Another Day</td>\n",
       "      <td>2002-11-18</td>\n",
       "      <td>2002</td>\n",
       "      <td>['Thriller', 'Glamorized Spy Film', 'Action', ...</td>\n",
       "      <td>5.236253e+08</td>\n",
       "      <td>1.721176e+08</td>\n",
       "      <td>6.1</td>\n",
       "      <td>219579</td>\n",
       "      <td>133</td>\n",
       "      <td>3.515077e+08</td>\n",
       "      <td>6.171448</td>\n",
       "      <td>17</td>\n",
       "    </tr>\n",
       "    <tr>\n",
       "      <th>3</th>\n",
       "      <td>tt1172991</td>\n",
       "      <td>/m/07kd1dr</td>\n",
       "      <td>The Company Men</td>\n",
       "      <td>2010-01-22</td>\n",
       "      <td>2010</td>\n",
       "      <td>['Drama', 'Indie']</td>\n",
       "      <td>4.882577e+06</td>\n",
       "      <td>1.500000e+07</td>\n",
       "      <td>6.7</td>\n",
       "      <td>45923</td>\n",
       "      <td>104</td>\n",
       "      <td>-1.011742e+07</td>\n",
       "      <td>6.429922</td>\n",
       "      <td>25</td>\n",
       "    </tr>\n",
       "    <tr>\n",
       "      <th>4</th>\n",
       "      <td>tt1375666</td>\n",
       "      <td>/m/0661ql3</td>\n",
       "      <td>Inception</td>\n",
       "      <td>2010-07-08</td>\n",
       "      <td>2010</td>\n",
       "      <td>['Thriller', 'Science Fiction', 'Adventure', '...</td>\n",
       "      <td>2.925873e+08</td>\n",
       "      <td>1.600000e+08</td>\n",
       "      <td>8.8</td>\n",
       "      <td>2321244</td>\n",
       "      <td>148</td>\n",
       "      <td>1.325873e+08</td>\n",
       "      <td>8.688890</td>\n",
       "      <td>15</td>\n",
       "    </tr>\n",
       "  </tbody>\n",
       "</table>\n",
       "</div>"
      ],
      "text/plain": [
       "      imdbID Freebase movie ID       Movie name Movie release date  \\\n",
       "0  tt0206314         /m/08pbld         Joy Ride         2001-10-05   \n",
       "1  tt0117571          /m/0sy44           Scream         1996-12-18   \n",
       "2  tt0246460         /m/014kq6  Die Another Day         2002-11-18   \n",
       "3  tt1172991        /m/07kd1dr  The Company Men         2010-01-22   \n",
       "4  tt1375666        /m/0661ql3        Inception         2010-07-08   \n",
       "\n",
       "   Year released                                       Movie genres  \\\n",
       "0           2001  ['Thriller', 'Crime Thriller', 'Horror', 'Psyc...   \n",
       "1           1996             ['Crime Fiction', 'Mystery', 'Horror']   \n",
       "2           2002  ['Thriller', 'Glamorized Spy Film', 'Action', ...   \n",
       "3           2010                                 ['Drama', 'Indie']   \n",
       "4           2010  ['Thriller', 'Science Fiction', 'Adventure', '...   \n",
       "\n",
       "    MBO_revenue        budget  averageRating  numVotes  Movie runtime  \\\n",
       "0  4.511683e+07  2.831896e+07            6.6     70075             97   \n",
       "1  2.404963e+08  1.945688e+07            7.4    339095            111   \n",
       "2  5.236253e+08  1.721176e+08            6.1    219579            133   \n",
       "3  4.882577e+06  1.500000e+07            6.7     45923            104   \n",
       "4  2.925873e+08  1.600000e+08            8.8   2321244            148   \n",
       "\n",
       "         Profit  weighted_rating  nb actors  \n",
       "0  1.679787e+07         6.427211         13  \n",
       "1  2.210394e+08         7.136848         20  \n",
       "2  3.515077e+08         6.171448         17  \n",
       "3 -1.011742e+07         6.429922         25  \n",
       "4  1.325873e+08         8.688890         15  "
      ]
     },
     "execution_count": 7,
     "metadata": {},
     "output_type": "execute_result"
    }
   ],
   "source": [
    "#count number of charactes per distinct movie\n",
    "nb_actors = df_characters.groupby(\"Freebase movie ID\")[\"freebase actor id\"].apply(\n",
    "    lambda x: x.count()\n",
    ")\n",
    "\n",
    "nb_actors.name = \"nb actors\"\n",
    "\n",
    "#merge with the movies dataframe\n",
    "df_movies = df_movies.merge(nb_actors, left_on=\"Freebase movie ID\", right_index=True)\n",
    "df_movies.head()"
   ]
  },
  {
   "cell_type": "code",
   "execution_count": 8,
   "id": "963abb0f",
   "metadata": {},
   "outputs": [
    {
     "data": {
      "image/png": "[encoded data removed]",
      "text/plain": [
       "<Figure size 432x288 with 1 Axes>"
      ]
     },
     "metadata": {
      "needs_background": "light"
     },
     "output_type": "display_data"
    }
   ],
   "source": [
    "# plot the distribution of actors\n",
    "maximum = np.max(df_movies[\"nb actors\"])\n",
    "bins = np.arange(maximum)\n",
    "plt.hist(df_movies[\"nb actors\"], bins=bins,log = True)\n",
    "plt.xlabel(\"Number of actors\")\n",
    "plt.ylabel(\"Number of movies\")\n",
    "plt.title(\"Distribution of actors\")\n",
    "plt.show()"
   ]
  },
  {
   "cell_type": "code",
   "execution_count": 9,
   "id": "acc19e92",
   "metadata": {},
   "outputs": [
    {
     "data": {
      "text/plain": [
       "count    3349.000000\n",
       "mean       14.576291\n",
       "std         6.474972\n",
       "min         1.000000\n",
       "25%        11.000000\n",
       "50%        14.000000\n",
       "75%        17.000000\n",
       "max        87.000000\n",
       "Name: nb actors, dtype: float64"
      ]
     },
     "execution_count": 9,
     "metadata": {},
     "output_type": "execute_result"
    }
   ],
   "source": [
    "df_movies[\"nb actors\"].describe()"
   ]
  },
  {
   "cell_type": "markdown",
   "id": "e73fce74",
   "metadata": {},
   "source": [
    "Comment\n",
    "\n",
    "we set the axis of the historgram to a log scale because when we group, the distribution that we obtain is heavy-tailed."
   ]
  },
  {
   "cell_type": "code",
   "execution_count": 10,
   "id": "40f540ec",
   "metadata": {},
   "outputs": [
    {
     "data": {
      "text/plain": [
       "[Text(0.5, 1.0, 'Relationship between the presence of a number of actors in a movie with its box office revenue')]"
      ]
     },
     "execution_count": 10,
     "metadata": {},
     "output_type": "execute_result"
    },
    {
     "data": {
      "image/png": "[encoded data removed]",
      "text/plain": [
       "<Figure size 432x288 with 1 Axes>"
      ]
     },
     "metadata": {
      "needs_background": "light"
     },
     "output_type": "display_data"
    }
   ],
   "source": [
    "#scatter plot to check relationship between two variables : number of actors and the box office revenue\n",
    "splot = sns.regplot(x=\"nb actors\", y=\"MBO_revenue\", \n",
    "                    data=df_movies,scatter_kws={'alpha':0.15}, fit_reg=False)\n",
    "splot.set(yscale=\"log\")\n",
    "splot.set(title='Relationship between the presence of a number of actors in a movie with its box office revenue')"
   ]
  },
  {
   "cell_type": "code",
   "execution_count": 11,
   "id": "064a66c1",
   "metadata": {},
   "outputs": [
    {
     "data": {
      "text/plain": [
       "SpearmanrResult(correlation=0.31232886285772604, pvalue=1.1090860105757853e-76)"
      ]
     },
     "execution_count": 11,
     "metadata": {},
     "output_type": "execute_result"
    }
   ],
   "source": [
    "stats.spearmanr(df_movies[\"nb actors\"], df_movies[\"MBO_revenue\"])"
   ]
  },
  {
   "cell_type": "markdown",
   "id": "12b053c8",
   "metadata": {},
   "source": [
    "correlation  of 0.35 which means that the relationship is weak uphill (positive).It is still significant since the p value is of 0 and do we should look closer into the relationship between the number of actors and the movie box office revenue"
   ]
  },
  {
   "cell_type": "code",
   "execution_count": 12,
   "id": "b6a5a310",
   "metadata": {},
   "outputs": [
    {
     "data": {
      "text/plain": [
       "[Text(0.5, 1.0, 'Relationship between the presence of a number of actors in a movie with its budget')]"
      ]
     },
     "execution_count": 12,
     "metadata": {},
     "output_type": "execute_result"
    },
    {
     "data": {
      "image/png": "[encoded data removed]",
      "text/plain": [
       "<Figure size 432x288 with 1 Axes>"
      ]
     },
     "metadata": {
      "needs_background": "light"
     },
     "output_type": "display_data"
    }
   ],
   "source": [
    "#scatter plot to check relationship between two variables : number of actors and the movie budget\n",
    "splot = sns.regplot(x=\"nb actors\", y=\"budget\", \n",
    "                    data=df_movies,scatter_kws={'alpha':0.15}, fit_reg=False)\n",
    "splot.set(yscale=\"log\")\n",
    "splot.set(title='Relationship between the presence of a number of actors in a movie with its budget')"
   ]
  },
  {
   "cell_type": "code",
   "execution_count": 13,
   "id": "6e5ea21a",
   "metadata": {},
   "outputs": [
    {
     "data": {
      "text/plain": [
       "SpearmanrResult(correlation=0.26341111595595645, pvalue=2.841675674746885e-54)"
      ]
     },
     "execution_count": 13,
     "metadata": {},
     "output_type": "execute_result"
    }
   ],
   "source": [
    "stats.spearmanr(df_movies[\"nb actors\"], df_movies[\"budget\"])"
   ]
  },
  {
   "cell_type": "code",
   "execution_count": 14,
   "id": "2ea81738",
   "metadata": {},
   "outputs": [
    {
     "data": {
      "text/plain": [
       "[Text(0.5, 1.0, 'Relationship between the presence of a number of actors in a movie with its profit')]"
      ]
     },
     "execution_count": 14,
     "metadata": {},
     "output_type": "execute_result"
    },
    {
     "data": {
      "image/png": "[encoded data removed]",
      "text/plain": [
       "<Figure size 432x288 with 1 Axes>"
      ]
     },
     "metadata": {
      "needs_background": "light"
     },
     "output_type": "display_data"
    }
   ],
   "source": [
    "#scatter plot to check relationship between two variables : number of actors and the profit made by the movie\n",
    "splot = sns.regplot(x=\"nb actors\", y=\"Profit\", \n",
    "                    data=df_movies,scatter_kws={'alpha':0.15}, fit_reg=False)\n",
    "splot.set(yscale=\"log\")\n",
    "splot.set(title='Relationship between the presence of a number of actors in a movie with its profit')"
   ]
  },
  {
   "cell_type": "code",
   "execution_count": 15,
   "id": "e97797d7",
   "metadata": {},
   "outputs": [
    {
     "data": {
      "text/plain": [
       "SpearmanrResult(correlation=0.21994357594519529, pvalue=5.717509826693048e-38)"
      ]
     },
     "execution_count": 15,
     "metadata": {},
     "output_type": "execute_result"
    }
   ],
   "source": [
    "stats.spearmanr(df_movies[\"nb actors\"], df_movies[\"Profit\"])"
   ]
  },
  {
   "cell_type": "code",
   "execution_count": 16,
   "id": "abdeee61",
   "metadata": {},
   "outputs": [],
   "source": [
    "#drop na values so that we can be able to compute correlation\n",
    "df_characters = df_characters[~df_characters[\"actor ethnicity\"].isna()]"
   ]
  },
  {
   "cell_type": "code",
   "execution_count": 17,
   "id": "87994b54",
   "metadata": {},
   "outputs": [
    {
     "data": {
      "text/html": [
       "<div>\n",
       "<style scoped>\n",
       "    .dataframe tbody tr th:only-of-type {\n",
       "        vertical-align: middle;\n",
       "    }\n",
       "\n",
       "    .dataframe tbody tr th {\n",
       "        vertical-align: top;\n",
       "    }\n",
       "\n",
       "    .dataframe thead th {\n",
       "        text-align: right;\n",
       "    }\n",
       "</style>\n",
       "<table border=\"1\" class=\"dataframe\">\n",
       "  <thead>\n",
       "    <tr style=\"text-align: right;\">\n",
       "      <th></th>\n",
       "      <th>imdbID</th>\n",
       "      <th>Freebase movie ID</th>\n",
       "      <th>Movie name</th>\n",
       "      <th>Movie release date</th>\n",
       "      <th>Year released</th>\n",
       "      <th>Movie genres</th>\n",
       "      <th>MBO_revenue</th>\n",
       "      <th>budget</th>\n",
       "      <th>averageRating</th>\n",
       "      <th>numVotes</th>\n",
       "      <th>Movie runtime</th>\n",
       "      <th>Profit</th>\n",
       "      <th>weighted_rating</th>\n",
       "      <th>nb actors</th>\n",
       "      <th>diversity</th>\n",
       "    </tr>\n",
       "  </thead>\n",
       "  <tbody>\n",
       "    <tr>\n",
       "      <th>0</th>\n",
       "      <td>tt0206314</td>\n",
       "      <td>/m/08pbld</td>\n",
       "      <td>Joy Ride</td>\n",
       "      <td>2001-10-05</td>\n",
       "      <td>2001</td>\n",
       "      <td>['Thriller', 'Crime Thriller', 'Horror', 'Psyc...</td>\n",
       "      <td>4.511683e+07</td>\n",
       "      <td>2.831896e+07</td>\n",
       "      <td>6.6</td>\n",
       "      <td>70075</td>\n",
       "      <td>97</td>\n",
       "      <td>1.679787e+07</td>\n",
       "      <td>6.427211</td>\n",
       "      <td>13</td>\n",
       "      <td>4</td>\n",
       "    </tr>\n",
       "    <tr>\n",
       "      <th>1</th>\n",
       "      <td>tt0117571</td>\n",
       "      <td>/m/0sy44</td>\n",
       "      <td>Scream</td>\n",
       "      <td>1996-12-18</td>\n",
       "      <td>1996</td>\n",
       "      <td>['Crime Fiction', 'Mystery', 'Horror']</td>\n",
       "      <td>2.404963e+08</td>\n",
       "      <td>1.945688e+07</td>\n",
       "      <td>7.4</td>\n",
       "      <td>339095</td>\n",
       "      <td>111</td>\n",
       "      <td>2.210394e+08</td>\n",
       "      <td>7.136848</td>\n",
       "      <td>20</td>\n",
       "      <td>5</td>\n",
       "    </tr>\n",
       "    <tr>\n",
       "      <th>2</th>\n",
       "      <td>tt0246460</td>\n",
       "      <td>/m/014kq6</td>\n",
       "      <td>Die Another Day</td>\n",
       "      <td>2002-11-18</td>\n",
       "      <td>2002</td>\n",
       "      <td>['Thriller', 'Glamorized Spy Film', 'Action', ...</td>\n",
       "      <td>5.236253e+08</td>\n",
       "      <td>1.721176e+08</td>\n",
       "      <td>6.1</td>\n",
       "      <td>219579</td>\n",
       "      <td>133</td>\n",
       "      <td>3.515077e+08</td>\n",
       "      <td>6.171448</td>\n",
       "      <td>17</td>\n",
       "      <td>8</td>\n",
       "    </tr>\n",
       "    <tr>\n",
       "      <th>3</th>\n",
       "      <td>tt1172991</td>\n",
       "      <td>/m/07kd1dr</td>\n",
       "      <td>The Company Men</td>\n",
       "      <td>2010-01-22</td>\n",
       "      <td>2010</td>\n",
       "      <td>['Drama', 'Indie']</td>\n",
       "      <td>4.882577e+06</td>\n",
       "      <td>1.500000e+07</td>\n",
       "      <td>6.7</td>\n",
       "      <td>45923</td>\n",
       "      <td>104</td>\n",
       "      <td>-1.011742e+07</td>\n",
       "      <td>6.429922</td>\n",
       "      <td>25</td>\n",
       "      <td>5</td>\n",
       "    </tr>\n",
       "    <tr>\n",
       "      <th>4</th>\n",
       "      <td>tt1375666</td>\n",
       "      <td>/m/0661ql3</td>\n",
       "      <td>Inception</td>\n",
       "      <td>2010-07-08</td>\n",
       "      <td>2010</td>\n",
       "      <td>['Thriller', 'Science Fiction', 'Adventure', '...</td>\n",
       "      <td>2.925873e+08</td>\n",
       "      <td>1.600000e+08</td>\n",
       "      <td>8.8</td>\n",
       "      <td>2321244</td>\n",
       "      <td>148</td>\n",
       "      <td>1.325873e+08</td>\n",
       "      <td>8.688890</td>\n",
       "      <td>15</td>\n",
       "      <td>8</td>\n",
       "    </tr>\n",
       "  </tbody>\n",
       "</table>\n",
       "</div>"
      ],
      "text/plain": [
       "      imdbID Freebase movie ID       Movie name Movie release date  \\\n",
       "0  tt0206314         /m/08pbld         Joy Ride         2001-10-05   \n",
       "1  tt0117571          /m/0sy44           Scream         1996-12-18   \n",
       "2  tt0246460         /m/014kq6  Die Another Day         2002-11-18   \n",
       "3  tt1172991        /m/07kd1dr  The Company Men         2010-01-22   \n",
       "4  tt1375666        /m/0661ql3        Inception         2010-07-08   \n",
       "\n",
       "   Year released                                       Movie genres  \\\n",
       "0           2001  ['Thriller', 'Crime Thriller', 'Horror', 'Psyc...   \n",
       "1           1996             ['Crime Fiction', 'Mystery', 'Horror']   \n",
       "2           2002  ['Thriller', 'Glamorized Spy Film', 'Action', ...   \n",
       "3           2010                                 ['Drama', 'Indie']   \n",
       "4           2010  ['Thriller', 'Science Fiction', 'Adventure', '...   \n",
       "\n",
       "    MBO_revenue        budget  averageRating  numVotes  Movie runtime  \\\n",
       "0  4.511683e+07  2.831896e+07            6.6     70075             97   \n",
       "1  2.404963e+08  1.945688e+07            7.4    339095            111   \n",
       "2  5.236253e+08  1.721176e+08            6.1    219579            133   \n",
       "3  4.882577e+06  1.500000e+07            6.7     45923            104   \n",
       "4  2.925873e+08  1.600000e+08            8.8   2321244            148   \n",
       "\n",
       "         Profit  weighted_rating  nb actors  diversity  \n",
       "0  1.679787e+07         6.427211         13          4  \n",
       "1  2.210394e+08         7.136848         20          5  \n",
       "2  3.515077e+08         6.171448         17          8  \n",
       "3 -1.011742e+07         6.429922         25          5  \n",
       "4  1.325873e+08         8.688890         15          8  "
      ]
     },
     "execution_count": 17,
     "metadata": {},
     "output_type": "execute_result"
    }
   ],
   "source": [
    "#number of unique ethnicities per movie\n",
    "num_ethnicity = df_characters.groupby(\"Freebase movie ID\")[\"actor ethnicity\"].apply(\n",
    "    lambda x: x.nunique()\n",
    ")\n",
    "\n",
    "num_ethnicity.name = \"diversity\"\n",
    "\n",
    "\n",
    "#merge with the movies data frame\n",
    "df_movies = df_movies.merge(num_ethnicity, left_on=\"Freebase movie ID\", right_index=True)\n",
    "df_movies.head()\n",
    "\n"
   ]
  },
  {
   "cell_type": "code",
   "execution_count": 18,
   "id": "8178aea6",
   "metadata": {},
   "outputs": [
    {
     "data": {
      "text/plain": [
       "[Text(0.5, 1.0, 'Relationship between the presence of a number of ethnicities in a movie casting with its box office revenue')]"
      ]
     },
     "execution_count": 18,
     "metadata": {},
     "output_type": "execute_result"
    },
    {
     "data": {
      "image/png": "[encoded data removed]",
      "text/plain": [
       "<Figure size 432x288 with 1 Axes>"
      ]
     },
     "metadata": {
      "needs_background": "light"
     },
     "output_type": "display_data"
    }
   ],
   "source": [
    "#scatter plot to check relationship between two variables : number of ethnicities and the movie box office revenue\n",
    "splot = sns.regplot(x=\"diversity\", y=\"MBO_revenue\", \n",
    "                    data=df_movies,scatter_kws={'alpha':0.15}, fit_reg=False)\n",
    "splot.set(yscale=\"log\")\n",
    "splot.set(title='Relationship between the presence of a number of ethnicities in a movie casting with its box office revenue')"
   ]
  },
  {
   "cell_type": "code",
   "execution_count": 19,
   "id": "6a4e7318",
   "metadata": {},
   "outputs": [
    {
     "data": {
      "text/plain": [
       "SpearmanrResult(correlation=0.3035810503059591, pvalue=6.390145012083539e-70)"
      ]
     },
     "execution_count": 19,
     "metadata": {},
     "output_type": "execute_result"
    }
   ],
   "source": [
    "stats.spearmanr(df_movies[\"diversity\"], df_movies[\"MBO_revenue\"])"
   ]
  },
  {
   "cell_type": "code",
   "execution_count": 20,
   "id": "f713c623",
   "metadata": {},
   "outputs": [
    {
     "name": "stdout",
     "output_type": "stream",
     "text": [
      "<class 'pandas.core.frame.DataFrame'>\n",
      "Int64Index: 106058 entries, 1 to 450666\n",
      "Data columns (total 13 columns):\n",
      " #   Column                           Non-Null Count   Dtype  \n",
      "---  ------                           --------------   -----  \n",
      " 0   Wikipedia movie ID               106058 non-null  int64  \n",
      " 1   Freebase movie ID                106058 non-null  object \n",
      " 2   Movie release date               102842 non-null  object \n",
      " 3   character name                   62858 non-null   object \n",
      " 4   actor date of birth              101736 non-null  object \n",
      " 5   actor gender                     106011 non-null  object \n",
      " 6   actor height                     71977 non-null   float64\n",
      " 7   actor ethnicity                  106058 non-null  object \n",
      " 8   actor name                       106058 non-null  object \n",
      " 9   actor age at movie release       93341 non-null   float64\n",
      " 10  freebase character/actor map id  106058 non-null  object \n",
      " 11  freebase character id            62858 non-null   object \n",
      " 12  freebase actor id                106058 non-null  object \n",
      "dtypes: float64(2), int64(1), object(10)\n",
      "memory usage: 11.3+ MB\n"
     ]
    }
   ],
   "source": [
    "df_characters.info()"
   ]
  },
  {
   "cell_type": "code",
   "execution_count": 21,
   "id": "b2ed49b2",
   "metadata": {},
   "outputs": [],
   "source": [
    "#drop nan values\n",
    "df_characters = df_characters[~df_characters[\"actor gender\"].isna()]"
   ]
  },
  {
   "cell_type": "code",
   "execution_count": 22,
   "id": "6cc2154b",
   "metadata": {},
   "outputs": [],
   "source": [
    "#change the type to string to be able to filter out males from females\n",
    "df_characters[\"actor gender\"] = df_characters[\"actor gender\"].astype(str)"
   ]
  },
  {
   "cell_type": "code",
   "execution_count": 23,
   "id": "c8c1c788",
   "metadata": {},
   "outputs": [
    {
     "data": {
      "text/html": [
       "<div>\n",
       "<style scoped>\n",
       "    .dataframe tbody tr th:only-of-type {\n",
       "        vertical-align: middle;\n",
       "    }\n",
       "\n",
       "    .dataframe tbody tr th {\n",
       "        vertical-align: top;\n",
       "    }\n",
       "\n",
       "    .dataframe thead th {\n",
       "        text-align: right;\n",
       "    }\n",
       "</style>\n",
       "<table border=\"1\" class=\"dataframe\">\n",
       "  <thead>\n",
       "    <tr style=\"text-align: right;\">\n",
       "      <th></th>\n",
       "      <th>imdbID</th>\n",
       "      <th>Freebase movie ID</th>\n",
       "      <th>Movie name</th>\n",
       "      <th>Movie release date</th>\n",
       "      <th>Year released</th>\n",
       "      <th>Movie genres</th>\n",
       "      <th>MBO_revenue</th>\n",
       "      <th>budget</th>\n",
       "      <th>averageRating</th>\n",
       "      <th>numVotes</th>\n",
       "      <th>Movie runtime</th>\n",
       "      <th>Profit</th>\n",
       "      <th>weighted_rating</th>\n",
       "      <th>nb actors</th>\n",
       "      <th>diversity</th>\n",
       "      <th>nb_female</th>\n",
       "    </tr>\n",
       "  </thead>\n",
       "  <tbody>\n",
       "    <tr>\n",
       "      <th>0</th>\n",
       "      <td>tt0206314</td>\n",
       "      <td>/m/08pbld</td>\n",
       "      <td>Joy Ride</td>\n",
       "      <td>2001-10-05</td>\n",
       "      <td>2001</td>\n",
       "      <td>['Thriller', 'Crime Thriller', 'Horror', 'Psyc...</td>\n",
       "      <td>4.511683e+07</td>\n",
       "      <td>2.831896e+07</td>\n",
       "      <td>6.6</td>\n",
       "      <td>70075</td>\n",
       "      <td>97</td>\n",
       "      <td>1.679787e+07</td>\n",
       "      <td>6.427211</td>\n",
       "      <td>13</td>\n",
       "      <td>4</td>\n",
       "      <td>1</td>\n",
       "    </tr>\n",
       "    <tr>\n",
       "      <th>1</th>\n",
       "      <td>tt0117571</td>\n",
       "      <td>/m/0sy44</td>\n",
       "      <td>Scream</td>\n",
       "      <td>1996-12-18</td>\n",
       "      <td>1996</td>\n",
       "      <td>['Crime Fiction', 'Mystery', 'Horror']</td>\n",
       "      <td>2.404963e+08</td>\n",
       "      <td>1.945688e+07</td>\n",
       "      <td>7.4</td>\n",
       "      <td>339095</td>\n",
       "      <td>111</td>\n",
       "      <td>2.210394e+08</td>\n",
       "      <td>7.136848</td>\n",
       "      <td>20</td>\n",
       "      <td>5</td>\n",
       "      <td>4</td>\n",
       "    </tr>\n",
       "    <tr>\n",
       "      <th>2</th>\n",
       "      <td>tt0246460</td>\n",
       "      <td>/m/014kq6</td>\n",
       "      <td>Die Another Day</td>\n",
       "      <td>2002-11-18</td>\n",
       "      <td>2002</td>\n",
       "      <td>['Thriller', 'Glamorized Spy Film', 'Action', ...</td>\n",
       "      <td>5.236253e+08</td>\n",
       "      <td>1.721176e+08</td>\n",
       "      <td>6.1</td>\n",
       "      <td>219579</td>\n",
       "      <td>133</td>\n",
       "      <td>3.515077e+08</td>\n",
       "      <td>6.171448</td>\n",
       "      <td>17</td>\n",
       "      <td>8</td>\n",
       "      <td>5</td>\n",
       "    </tr>\n",
       "  </tbody>\n",
       "</table>\n",
       "</div>"
      ],
      "text/plain": [
       "      imdbID Freebase movie ID       Movie name Movie release date  \\\n",
       "0  tt0206314         /m/08pbld         Joy Ride         2001-10-05   \n",
       "1  tt0117571          /m/0sy44           Scream         1996-12-18   \n",
       "2  tt0246460         /m/014kq6  Die Another Day         2002-11-18   \n",
       "\n",
       "   Year released                                       Movie genres  \\\n",
       "0           2001  ['Thriller', 'Crime Thriller', 'Horror', 'Psyc...   \n",
       "1           1996             ['Crime Fiction', 'Mystery', 'Horror']   \n",
       "2           2002  ['Thriller', 'Glamorized Spy Film', 'Action', ...   \n",
       "\n",
       "    MBO_revenue        budget  averageRating  numVotes  Movie runtime  \\\n",
       "0  4.511683e+07  2.831896e+07            6.6     70075             97   \n",
       "1  2.404963e+08  1.945688e+07            7.4    339095            111   \n",
       "2  5.236253e+08  1.721176e+08            6.1    219579            133   \n",
       "\n",
       "         Profit  weighted_rating  nb actors  diversity  nb_female  \n",
       "0  1.679787e+07         6.427211         13          4          1  \n",
       "1  2.210394e+08         7.136848         20          5          4  \n",
       "2  3.515077e+08         6.171448         17          8          5  "
      ]
     },
     "execution_count": 23,
     "metadata": {},
     "output_type": "execute_result"
    }
   ],
   "source": [
    "#number of females actors per movie\n",
    "female_actors = df_characters[df_characters[\"actor gender\"] == \"F\"]\n",
    "nb_female = female_actors.groupby(\"Freebase movie ID\")[\"actor gender\"].count()\n",
    "nb_female.name = \"nb_female\"\n",
    "#merge with the movie dataframe\n",
    "df_movies = df_movies.merge(nb_female, left_on=\"Freebase movie ID\", right_index=True)\n",
    "\n",
    "df_movies.head(3)"
   ]
  },
  {
   "cell_type": "code",
   "execution_count": 24,
   "id": "94e0d1e1",
   "metadata": {},
   "outputs": [
    {
     "data": {
      "text/plain": [
       "SpearmanrResult(correlation=0.3271561491224302, pvalue=4.018853118973998e-65)"
      ]
     },
     "execution_count": 24,
     "metadata": {},
     "output_type": "execute_result"
    }
   ],
   "source": [
    "stats.spearmanr(df_movies[\"Movie runtime\"],df_movies[\"budget\"])"
   ]
  },
  {
   "cell_type": "code",
   "execution_count": 25,
   "id": "dc7cfa55",
   "metadata": {},
   "outputs": [
    {
     "data": {
      "text/html": [
       "<div>\n",
       "<style scoped>\n",
       "    .dataframe tbody tr th:only-of-type {\n",
       "        vertical-align: middle;\n",
       "    }\n",
       "\n",
       "    .dataframe tbody tr th {\n",
       "        vertical-align: top;\n",
       "    }\n",
       "\n",
       "    .dataframe thead th {\n",
       "        text-align: right;\n",
       "    }\n",
       "</style>\n",
       "<table border=\"1\" class=\"dataframe\">\n",
       "  <thead>\n",
       "    <tr style=\"text-align: right;\">\n",
       "      <th></th>\n",
       "      <th>imdbID</th>\n",
       "      <th>Freebase movie ID</th>\n",
       "      <th>Movie name</th>\n",
       "      <th>Movie release date</th>\n",
       "      <th>Year released</th>\n",
       "      <th>Movie genres</th>\n",
       "      <th>MBO_revenue</th>\n",
       "      <th>budget</th>\n",
       "      <th>averageRating</th>\n",
       "      <th>numVotes</th>\n",
       "      <th>Movie runtime</th>\n",
       "      <th>Profit</th>\n",
       "      <th>weighted_rating</th>\n",
       "      <th>nb actors</th>\n",
       "      <th>diversity</th>\n",
       "      <th>nb_female</th>\n",
       "      <th>nb_male</th>\n",
       "    </tr>\n",
       "  </thead>\n",
       "  <tbody>\n",
       "    <tr>\n",
       "      <th>0</th>\n",
       "      <td>tt0206314</td>\n",
       "      <td>/m/08pbld</td>\n",
       "      <td>Joy Ride</td>\n",
       "      <td>2001-10-05</td>\n",
       "      <td>2001</td>\n",
       "      <td>['Thriller', 'Crime Thriller', 'Horror', 'Psyc...</td>\n",
       "      <td>4.511683e+07</td>\n",
       "      <td>2.831896e+07</td>\n",
       "      <td>6.6</td>\n",
       "      <td>70075</td>\n",
       "      <td>97</td>\n",
       "      <td>1.679787e+07</td>\n",
       "      <td>6.427211</td>\n",
       "      <td>13</td>\n",
       "      <td>4</td>\n",
       "      <td>1</td>\n",
       "      <td>3</td>\n",
       "    </tr>\n",
       "    <tr>\n",
       "      <th>1</th>\n",
       "      <td>tt0117571</td>\n",
       "      <td>/m/0sy44</td>\n",
       "      <td>Scream</td>\n",
       "      <td>1996-12-18</td>\n",
       "      <td>1996</td>\n",
       "      <td>['Crime Fiction', 'Mystery', 'Horror']</td>\n",
       "      <td>2.404963e+08</td>\n",
       "      <td>1.945688e+07</td>\n",
       "      <td>7.4</td>\n",
       "      <td>339095</td>\n",
       "      <td>111</td>\n",
       "      <td>2.210394e+08</td>\n",
       "      <td>7.136848</td>\n",
       "      <td>20</td>\n",
       "      <td>5</td>\n",
       "      <td>4</td>\n",
       "      <td>4</td>\n",
       "    </tr>\n",
       "    <tr>\n",
       "      <th>2</th>\n",
       "      <td>tt0246460</td>\n",
       "      <td>/m/014kq6</td>\n",
       "      <td>Die Another Day</td>\n",
       "      <td>2002-11-18</td>\n",
       "      <td>2002</td>\n",
       "      <td>['Thriller', 'Glamorized Spy Film', 'Action', ...</td>\n",
       "      <td>5.236253e+08</td>\n",
       "      <td>1.721176e+08</td>\n",
       "      <td>6.1</td>\n",
       "      <td>219579</td>\n",
       "      <td>133</td>\n",
       "      <td>3.515077e+08</td>\n",
       "      <td>6.171448</td>\n",
       "      <td>17</td>\n",
       "      <td>8</td>\n",
       "      <td>5</td>\n",
       "      <td>6</td>\n",
       "    </tr>\n",
       "    <tr>\n",
       "      <th>3</th>\n",
       "      <td>tt1172991</td>\n",
       "      <td>/m/07kd1dr</td>\n",
       "      <td>The Company Men</td>\n",
       "      <td>2010-01-22</td>\n",
       "      <td>2010</td>\n",
       "      <td>['Drama', 'Indie']</td>\n",
       "      <td>4.882577e+06</td>\n",
       "      <td>1.500000e+07</td>\n",
       "      <td>6.7</td>\n",
       "      <td>45923</td>\n",
       "      <td>104</td>\n",
       "      <td>-1.011742e+07</td>\n",
       "      <td>6.429922</td>\n",
       "      <td>25</td>\n",
       "      <td>5</td>\n",
       "      <td>3</td>\n",
       "      <td>2</td>\n",
       "    </tr>\n",
       "    <tr>\n",
       "      <th>4</th>\n",
       "      <td>tt1375666</td>\n",
       "      <td>/m/0661ql3</td>\n",
       "      <td>Inception</td>\n",
       "      <td>2010-07-08</td>\n",
       "      <td>2010</td>\n",
       "      <td>['Thriller', 'Science Fiction', 'Adventure', '...</td>\n",
       "      <td>2.925873e+08</td>\n",
       "      <td>1.600000e+08</td>\n",
       "      <td>8.8</td>\n",
       "      <td>2321244</td>\n",
       "      <td>148</td>\n",
       "      <td>1.325873e+08</td>\n",
       "      <td>8.688890</td>\n",
       "      <td>15</td>\n",
       "      <td>8</td>\n",
       "      <td>2</td>\n",
       "      <td>7</td>\n",
       "    </tr>\n",
       "  </tbody>\n",
       "</table>\n",
       "</div>"
      ],
      "text/plain": [
       "      imdbID Freebase movie ID       Movie name Movie release date  \\\n",
       "0  tt0206314         /m/08pbld         Joy Ride         2001-10-05   \n",
       "1  tt0117571          /m/0sy44           Scream         1996-12-18   \n",
       "2  tt0246460         /m/014kq6  Die Another Day         2002-11-18   \n",
       "3  tt1172991        /m/07kd1dr  The Company Men         2010-01-22   \n",
       "4  tt1375666        /m/0661ql3        Inception         2010-07-08   \n",
       "\n",
       "   Year released                                       Movie genres  \\\n",
       "0           2001  ['Thriller', 'Crime Thriller', 'Horror', 'Psyc...   \n",
       "1           1996             ['Crime Fiction', 'Mystery', 'Horror']   \n",
       "2           2002  ['Thriller', 'Glamorized Spy Film', 'Action', ...   \n",
       "3           2010                                 ['Drama', 'Indie']   \n",
       "4           2010  ['Thriller', 'Science Fiction', 'Adventure', '...   \n",
       "\n",
       "    MBO_revenue        budget  averageRating  numVotes  Movie runtime  \\\n",
       "0  4.511683e+07  2.831896e+07            6.6     70075             97   \n",
       "1  2.404963e+08  1.945688e+07            7.4    339095            111   \n",
       "2  5.236253e+08  1.721176e+08            6.1    219579            133   \n",
       "3  4.882577e+06  1.500000e+07            6.7     45923            104   \n",
       "4  2.925873e+08  1.600000e+08            8.8   2321244            148   \n",
       "\n",
       "         Profit  weighted_rating  nb actors  diversity  nb_female  nb_male  \n",
       "0  1.679787e+07         6.427211         13          4          1        3  \n",
       "1  2.210394e+08         7.136848         20          5          4        4  \n",
       "2  3.515077e+08         6.171448         17          8          5        6  \n",
       "3 -1.011742e+07         6.429922         25          5          3        2  \n",
       "4  1.325873e+08         8.688890         15          8          2        7  "
      ]
     },
     "execution_count": 25,
     "metadata": {},
     "output_type": "execute_result"
    }
   ],
   "source": [
    "#number of male actors per movie\n",
    "male_actors = df_characters[df_characters[\"actor gender\"] == \"M\"]\n",
    "nb_male= male_actors.groupby(\"Freebase movie ID\")[\"actor gender\"].count()\n",
    "nb_male.name = \"nb_male\"\n",
    "#merge with the movie dataframe\n",
    "df_movies = df_movies.merge(nb_male, left_on=\"Freebase movie ID\", right_index=True)\n",
    "\n",
    "df_movies.head()"
   ]
  },
  {
   "cell_type": "code",
   "execution_count": 26,
   "id": "c10beedf",
   "metadata": {},
   "outputs": [
    {
     "data": {
      "text/plain": [
       "[Text(0.5, 1.0, 'Relationship between the presence of a number of a number of female actors in a movie casting with its box office revenue')]"
      ]
     },
     "execution_count": 26,
     "metadata": {},
     "output_type": "execute_result"
    },
    {
     "data": {
      "image/png": "[encoded data removed]",
      "text/plain": [
       "<Figure size 432x288 with 1 Axes>"
      ]
     },
     "metadata": {
      "needs_background": "light"
     },
     "output_type": "display_data"
    }
   ],
   "source": [
    "#scatter plot to check relationship between two variables : number of female actors and the movie box office revenue\n",
    "splot = sns.regplot(x=\"nb_female\", y=\"MBO_revenue\", \n",
    "                    data=df_movies,scatter_kws={'alpha':0.15}, fit_reg=False)\n",
    "#set the scale axis to log since it is heavy tailed.\n",
    "splot.set(yscale=\"log\")\n",
    "splot.set(title='Relationship between the presence of a number of a number of female actors in a movie casting with its box office revenue')"
   ]
  },
  {
   "cell_type": "code",
   "execution_count": 27,
   "id": "ed3be5ac",
   "metadata": {},
   "outputs": [
    {
     "data": {
      "text/plain": [
       "[Text(0.5, 1.0, 'Relationship between the presence of a number of a number of male actors in a movie casting with its box office revenue')]"
      ]
     },
     "execution_count": 27,
     "metadata": {},
     "output_type": "execute_result"
    },
    {
     "data": {
      "image/png": "[encoded data removed]",
      "text/plain": [
       "<Figure size 432x288 with 1 Axes>"
      ]
     },
     "metadata": {
      "needs_background": "light"
     },
     "output_type": "display_data"
    }
   ],
   "source": [
    "#scatter plot to check relationship between two variables : number of male actors and the movie box office revenue\n",
    "splot = sns.regplot(x=\"nb_male\", y=\"MBO_revenue\", \n",
    "                    data=df_movies,scatter_kws={'alpha':0.15}, fit_reg=False)\n",
    "splot.set(yscale=\"log\")\n",
    "splot.set(title='Relationship between the presence of a number of a number of male actors in a movie casting with its box office revenue')"
   ]
  },
  {
   "cell_type": "code",
   "execution_count": 28,
   "id": "1f17add7",
   "metadata": {},
   "outputs": [
    {
     "data": {
      "text/plain": [
       "SpearmanrResult(correlation=0.2789370610579609, pvalue=1.2341150960535846e-44)"
      ]
     },
     "execution_count": 28,
     "metadata": {},
     "output_type": "execute_result"
    }
   ],
   "source": [
    "stats.spearmanr(df_movies[\"nb_male\"], df_movies[\"MBO_revenue\"])"
   ]
  },
  {
   "cell_type": "code",
   "execution_count": 29,
   "id": "1d15d348",
   "metadata": {},
   "outputs": [
    {
     "data": {
      "text/plain": [
       "SpearmanrResult(correlation=0.08405622909731249, pvalue=3.367768281167117e-05)"
      ]
     },
     "execution_count": 29,
     "metadata": {},
     "output_type": "execute_result"
    }
   ],
   "source": [
    "stats.spearmanr(df_movies[\"nb_female\"], df_movies[\"MBO_revenue\"])"
   ]
  },
  {
   "cell_type": "code",
   "execution_count": 30,
   "id": "517bc0e2",
   "metadata": {},
   "outputs": [
    {
     "data": {
      "text/plain": [
       "Text(0.5, 1.0, 'heatmap representing correlation between features')"
      ]
     },
     "execution_count": 30,
     "metadata": {},
     "output_type": "execute_result"
    },
    {
     "data": {
      "image/png": "[encoded data removed]",
      "text/plain": [
       "<Figure size 792x648 with 2 Axes>"
      ]
     },
     "metadata": {
      "needs_background": "light"
     },
     "output_type": "display_data"
    }
   ],
   "source": [
    "corr = df_movies.corr()\n",
    "# Generate a mask for the upper triangle\n",
    "mask = np.triu(np.ones_like(corr, dtype=bool))\n",
    "\n",
    "# Set up the matplotlib figure\n",
    "f, ax = plt.subplots(figsize=(11, 9))\n",
    "\n",
    "# Generate a custom diverging colormap\n",
    "cmap = sns.diverging_palette(230, 20, as_cmap=True)\n",
    "\n",
    "# Draw the heatmap with the mask and correct aspect ratio\n",
    "sns.heatmap(corr, mask=mask, cmap=cmap, annot=True, linewidths=.5, fmt= '.1f',ax=ax).set_title(\"heatmap representing correlation between features\")"
   ]
  },
  {
   "cell_type": "code",
   "execution_count": 31,
   "id": "b9650bbc",
   "metadata": {},
   "outputs": [],
   "source": [
    "#create dataframe containing only female/male actors\n",
    "males = df_characters[df_characters[\"actor gender\"]=='M']\n",
    "females = df_characters[df_characters[\"actor gender\"]=='F']\n",
    "#compute the percentage of male and female actors\n",
    "malepercent =males.size/df_characters.size\n",
    "femalepercent = females.size/df_characters.size\n"
   ]
  },
  {
   "cell_type": "code",
   "execution_count": 32,
   "id": "51201a7e",
   "metadata": {},
   "outputs": [
    {
     "data": {
      "image/png": "[encoded data removed]",
      "text/plain": [
       "<Figure size 432x288 with 1 Axes>"
      ]
     },
     "metadata": {},
     "output_type": "display_data"
    }
   ],
   "source": [
    "#define data\n",
    "data = [malepercent, femalepercent]\n",
    "labels = ['Males' ,'Females']\n",
    "\n",
    "#define Seaborn color palette to use\n",
    "colors = sns.color_palette('pastel')[0:2]\n",
    "\n",
    "#create pie chart\n",
    "plt.pie(data, labels = labels,colors=colors, autopct='%.0f%%')\n",
    "plt.title(\"Distribution of male and female actors\")\n",
    "plt.show()"
   ]
  },
  {
   "cell_type": "markdown",
   "id": "cc0f2cfe",
   "metadata": {},
   "source": [
    "** we run a query to obtain ethnicity mapping:**\n",
    "\n",
    " \n",
    "***\n",
    "    SELECT ?freebaseID ?name WHERE { \n",
    "    \n",
    "    ?ethnicity p:P646 [ps:P646 ?freebaseID].  \n",
    "    ?ethnicity rdfs:label ?name.               \n",
    "    ?ethnicity p:P31 [ps:P31 wd:Q41710].       \n",
    "    filter(lang(?name) = \"en\")            \n",
    "}  \n",
    "***"
   ]
  },
  {
   "cell_type": "code",
   "execution_count": 33,
   "id": "0b3b008e",
   "metadata": {},
   "outputs": [
    {
     "data": {
      "text/html": [
       "<div>\n",
       "<style scoped>\n",
       "    .dataframe tbody tr th:only-of-type {\n",
       "        vertical-align: middle;\n",
       "    }\n",
       "\n",
       "    .dataframe tbody tr th {\n",
       "        vertical-align: top;\n",
       "    }\n",
       "\n",
       "    .dataframe thead th {\n",
       "        text-align: right;\n",
       "    }\n",
       "</style>\n",
       "<table border=\"1\" class=\"dataframe\">\n",
       "  <thead>\n",
       "    <tr style=\"text-align: right;\">\n",
       "      <th></th>\n",
       "      <th>freebaseID</th>\n",
       "      <th>name</th>\n",
       "    </tr>\n",
       "  </thead>\n",
       "  <tbody>\n",
       "    <tr>\n",
       "      <th>0</th>\n",
       "      <td>/m/0gcmzs</td>\n",
       "      <td>Rufiji people</td>\n",
       "    </tr>\n",
       "    <tr>\n",
       "      <th>1</th>\n",
       "      <td>/m/0gczpt</td>\n",
       "      <td>Mwera people</td>\n",
       "    </tr>\n",
       "    <tr>\n",
       "      <th>2</th>\n",
       "      <td>/m/0260f5_</td>\n",
       "      <td>Auaké people</td>\n",
       "    </tr>\n",
       "    <tr>\n",
       "      <th>3</th>\n",
       "      <td>/m/025r_4p</td>\n",
       "      <td>Khas people</td>\n",
       "    </tr>\n",
       "    <tr>\n",
       "      <th>4</th>\n",
       "      <td>/m/04jq32s</td>\n",
       "      <td>Nepali Indian</td>\n",
       "    </tr>\n",
       "  </tbody>\n",
       "</table>\n",
       "</div>"
      ],
      "text/plain": [
       "   freebaseID           name\n",
       "0   /m/0gcmzs  Rufiji people\n",
       "1   /m/0gczpt   Mwera people\n",
       "2  /m/0260f5_   Auaké people\n",
       "3  /m/025r_4p    Khas people\n",
       "4  /m/04jq32s  Nepali Indian"
      ]
     },
     "execution_count": 33,
     "metadata": {},
     "output_type": "execute_result"
    }
   ],
   "source": [
    "df_ethnicities = pd.read_csv(\"query_ethnicities.csv\")\n",
    "df_ethnicities.head()"
   ]
  },
  {
   "cell_type": "code",
   "execution_count": 34,
   "id": "18a9fe6d",
   "metadata": {
    "scrolled": true
   },
   "outputs": [
    {
     "data": {
      "text/html": [
       "<div>\n",
       "<style scoped>\n",
       "    .dataframe tbody tr th:only-of-type {\n",
       "        vertical-align: middle;\n",
       "    }\n",
       "\n",
       "    .dataframe tbody tr th {\n",
       "        vertical-align: top;\n",
       "    }\n",
       "\n",
       "    .dataframe thead th {\n",
       "        text-align: right;\n",
       "    }\n",
       "</style>\n",
       "<table border=\"1\" class=\"dataframe\">\n",
       "  <thead>\n",
       "    <tr style=\"text-align: right;\">\n",
       "      <th></th>\n",
       "      <th>Wikipedia movie ID</th>\n",
       "      <th>Freebase movie ID</th>\n",
       "      <th>Movie release date</th>\n",
       "      <th>character name</th>\n",
       "      <th>actor date of birth</th>\n",
       "      <th>actor gender</th>\n",
       "      <th>actor height</th>\n",
       "      <th>actor name</th>\n",
       "      <th>actor age at movie release</th>\n",
       "      <th>freebase character/actor map id</th>\n",
       "      <th>freebase character id</th>\n",
       "      <th>freebase actor id</th>\n",
       "      <th>ethnicity</th>\n",
       "    </tr>\n",
       "  </thead>\n",
       "  <tbody>\n",
       "    <tr>\n",
       "      <th>0</th>\n",
       "      <td>975900</td>\n",
       "      <td>/m/03vyhn</td>\n",
       "      <td>2001-08-24</td>\n",
       "      <td>Tres</td>\n",
       "      <td>1959-03-09</td>\n",
       "      <td>M</td>\n",
       "      <td>NaN</td>\n",
       "      <td>Rodney A. Grant</td>\n",
       "      <td>42.0</td>\n",
       "      <td>/m/0bgchrs</td>\n",
       "      <td>/m/0bgchrw</td>\n",
       "      <td>/m/03ydsb</td>\n",
       "      <td>Omaha people</td>\n",
       "    </tr>\n",
       "    <tr>\n",
       "      <th>1</th>\n",
       "      <td>8961059</td>\n",
       "      <td>/m/04j33ft</td>\n",
       "      <td>1998</td>\n",
       "      <td>NaN</td>\n",
       "      <td>1959-03-09</td>\n",
       "      <td>M</td>\n",
       "      <td>NaN</td>\n",
       "      <td>Rodney A. Grant</td>\n",
       "      <td>38.0</td>\n",
       "      <td>/m/04j33fw</td>\n",
       "      <td>NaN</td>\n",
       "      <td>/m/03ydsb</td>\n",
       "      <td>Omaha people</td>\n",
       "    </tr>\n",
       "    <tr>\n",
       "      <th>2</th>\n",
       "      <td>129585</td>\n",
       "      <td>/m/0y_9q</td>\n",
       "      <td>1990-10-19</td>\n",
       "      <td>Wind In His Hair</td>\n",
       "      <td>1959-03-09</td>\n",
       "      <td>M</td>\n",
       "      <td>NaN</td>\n",
       "      <td>Rodney A. Grant</td>\n",
       "      <td>31.0</td>\n",
       "      <td>/m/02vb6zz</td>\n",
       "      <td>/m/05ccmj4</td>\n",
       "      <td>/m/03ydsb</td>\n",
       "      <td>Omaha people</td>\n",
       "    </tr>\n",
       "    <tr>\n",
       "      <th>3</th>\n",
       "      <td>18616886</td>\n",
       "      <td>/m/04gnjpr</td>\n",
       "      <td>1997-03-16</td>\n",
       "      <td>NaN</td>\n",
       "      <td>1959-03-09</td>\n",
       "      <td>M</td>\n",
       "      <td>NaN</td>\n",
       "      <td>Rodney A. Grant</td>\n",
       "      <td>38.0</td>\n",
       "      <td>/m/0h_05wr</td>\n",
       "      <td>NaN</td>\n",
       "      <td>/m/03ydsb</td>\n",
       "      <td>Omaha people</td>\n",
       "    </tr>\n",
       "    <tr>\n",
       "      <th>4</th>\n",
       "      <td>244610</td>\n",
       "      <td>/m/01kff7</td>\n",
       "      <td>1999-06-30</td>\n",
       "      <td>Hudson</td>\n",
       "      <td>1959-03-09</td>\n",
       "      <td>M</td>\n",
       "      <td>NaN</td>\n",
       "      <td>Rodney A. Grant</td>\n",
       "      <td>40.0</td>\n",
       "      <td>/m/0bygtv9</td>\n",
       "      <td>/m/0bygtvd</td>\n",
       "      <td>/m/03ydsb</td>\n",
       "      <td>Omaha people</td>\n",
       "    </tr>\n",
       "  </tbody>\n",
       "</table>\n",
       "</div>"
      ],
      "text/plain": [
       "   Wikipedia movie ID Freebase movie ID Movie release date    character name  \\\n",
       "0              975900         /m/03vyhn         2001-08-24              Tres   \n",
       "1             8961059        /m/04j33ft               1998               NaN   \n",
       "2              129585          /m/0y_9q         1990-10-19  Wind In His Hair   \n",
       "3            18616886        /m/04gnjpr         1997-03-16               NaN   \n",
       "4              244610         /m/01kff7         1999-06-30            Hudson   \n",
       "\n",
       "  actor date of birth actor gender  actor height       actor name  \\\n",
       "0          1959-03-09            M           NaN  Rodney A. Grant   \n",
       "1          1959-03-09            M           NaN  Rodney A. Grant   \n",
       "2          1959-03-09            M           NaN  Rodney A. Grant   \n",
       "3          1959-03-09            M           NaN  Rodney A. Grant   \n",
       "4          1959-03-09            M           NaN  Rodney A. Grant   \n",
       "\n",
       "   actor age at movie release freebase character/actor map id  \\\n",
       "0                        42.0                      /m/0bgchrs   \n",
       "1                        38.0                      /m/04j33fw   \n",
       "2                        31.0                      /m/02vb6zz   \n",
       "3                        38.0                      /m/0h_05wr   \n",
       "4                        40.0                      /m/0bygtv9   \n",
       "\n",
       "  freebase character id freebase actor id     ethnicity  \n",
       "0            /m/0bgchrw         /m/03ydsb  Omaha people  \n",
       "1                   NaN         /m/03ydsb  Omaha people  \n",
       "2            /m/05ccmj4         /m/03ydsb  Omaha people  \n",
       "3                   NaN         /m/03ydsb  Omaha people  \n",
       "4            /m/0bygtvd         /m/03ydsb  Omaha people  "
      ]
     },
     "execution_count": 34,
     "metadata": {},
     "output_type": "execute_result"
    }
   ],
   "source": [
    "#we merge the ethnicities dataframe with the characters\n",
    "res=df_characters.merge(df_ethnicities,left_on='actor ethnicity',right_on='freebaseID').drop(['freebaseID'],axis=1)\n",
    "res\n",
    "del res[\"actor ethnicity\"]\n",
    "res = res.rename(columns={'name': 'ethnicity'})\n",
    "res.head()"
   ]
  },
  {
   "cell_type": "code",
   "execution_count": 35,
   "id": "636a8c97",
   "metadata": {},
   "outputs": [
    {
     "data": {
      "text/plain": [
       "Index(['English people', 'Italian Americans', 'white Americans',\n",
       "       'Scottish American', 'Irish people', 'Italians', 'Tamil', 'Punjabis',\n",
       "       'Malayali', 'Scottish people'],\n",
       "      dtype='object')"
      ]
     },
     "execution_count": 35,
     "metadata": {},
     "output_type": "execute_result"
    }
   ],
   "source": [
    "res['ethnicity'] = res['ethnicity'].astype(str)\n",
    "res['ethnicity'].value_counts().index[0:10]"
   ]
  },
  {
   "cell_type": "markdown",
   "id": "d1f5027e",
   "metadata": {},
   "source": [
    "when checking the ethnicities of actors we can see that the top 5 ethnicities are : English people, Italian Americans, white americans, scottish american and finally irish people. This seems to be logical since we saw that english movies and more precisely movies made in the US makes most of our data and we decided to contraint the original data to this region. \n",
    "Since movies are made in the US, we should that the actors would be americans of various ethnicities and this is what we get."
   ]
  },
  {
   "cell_type": "code",
   "execution_count": 36,
   "id": "ac27de95",
   "metadata": {},
   "outputs": [
    {
     "data": {
      "image/png": "[encoded data removed]",
      "text/plain": [
       "<Figure size 432x288 with 1 Axes>"
      ]
     },
     "metadata": {},
     "output_type": "display_data"
    }
   ],
   "source": [
    "#define data\n",
    "data = [x/len(res) for x in res['ethnicity'].value_counts()[0:10]]\n",
    "labels = [x for x in res['ethnicity'].value_counts().index[0:10]]\n",
    "\n",
    "#define Seaborn color palette to use\n",
    "colors = sns.color_palette('pastel')[0:10]\n",
    "\n",
    "#create pie chart\n",
    "plt.pie(data, labels = labels,colors=colors, autopct='%.0f%%')\n",
    "plt.title(\"Distribution of various ethnicities\")\n",
    "plt.show()"
   ]
  },
  {
   "cell_type": "markdown",
   "id": "349afde5",
   "metadata": {},
   "source": [
    "***We will try to measure an actor popularity using the awards he won prior to the concerned movie  \n",
    "We will only consider famous awards won :  \n",
    "Golden Globe Awards, British Academy Film Awards, Academy Awards, Screen Actors Guild Award and Critic's choice awards***\n",
    "\n",
    " \n",
    " \n",
    "***\n",
    "    SELECT ?actor ?actorLabel ?freebaseID ?date WHERE {\n",
    "\n",
    "    VALUES ?best { wd:Q1011547 wd:Q732997 wd:Q19020 wd:Q268200 wd:Q7585305 wd:Q110145}   \n",
    "    ?actor p:P646 [ps:P646 ?freebaseID].  \n",
    "    ?actor wdt:P106 wd:Q10800557.  \n",
    "    ?actor p:P166 ?awardstatement .  \n",
    "    ?awardstatement ps:P166 ?award .  \n",
    "    ?awardstatement pq:P585 ?date.  \n",
    "    ?award wdt:P31/wdt:P279* ?best.  \n",
    "    SERVICE wikibase:label { bd:serviceParam wikibase:language \"[AUTO_LANGUAGE],en\". }  \n",
    "    }  \n",
    "    \n",
    "    GROUP BY ?actor ?actorLabel ?freebaseID ?date\n",
    "***"
   ]
  },
  {
   "cell_type": "code",
   "execution_count": 37,
   "id": "db66324c",
   "metadata": {},
   "outputs": [
    {
     "data": {
      "text/html": [
       "<div>\n",
       "<style scoped>\n",
       "    .dataframe tbody tr th:only-of-type {\n",
       "        vertical-align: middle;\n",
       "    }\n",
       "\n",
       "    .dataframe tbody tr th {\n",
       "        vertical-align: top;\n",
       "    }\n",
       "\n",
       "    .dataframe thead th {\n",
       "        text-align: right;\n",
       "    }\n",
       "</style>\n",
       "<table border=\"1\" class=\"dataframe\">\n",
       "  <thead>\n",
       "    <tr style=\"text-align: right;\">\n",
       "      <th></th>\n",
       "      <th>actor</th>\n",
       "      <th>actorLabel</th>\n",
       "      <th>freebaseID</th>\n",
       "      <th>date</th>\n",
       "    </tr>\n",
       "  </thead>\n",
       "  <tbody>\n",
       "    <tr>\n",
       "      <th>0</th>\n",
       "      <td>http://www.wikidata.org/entity/Q22101817</td>\n",
       "      <td>Richard Barclay</td>\n",
       "      <td>/m/0lt47_g</td>\n",
       "      <td>1971-01-01T00:00:00Z</td>\n",
       "    </tr>\n",
       "    <tr>\n",
       "      <th>1</th>\n",
       "      <td>http://www.wikidata.org/entity/Q22101716</td>\n",
       "      <td>Joan Keller Stern</td>\n",
       "      <td>/m/0b_n9w5</td>\n",
       "      <td>1968-01-01T00:00:00Z</td>\n",
       "    </tr>\n",
       "    <tr>\n",
       "      <th>2</th>\n",
       "      <td>http://www.wikidata.org/entity/Q22076634</td>\n",
       "      <td>Lisa Thompson</td>\n",
       "      <td>/m/0b44hrk</td>\n",
       "      <td>2014-01-01T00:00:00Z</td>\n",
       "    </tr>\n",
       "    <tr>\n",
       "      <th>3</th>\n",
       "      <td>http://www.wikidata.org/entity/Q16207879</td>\n",
       "      <td>Emerald Fennell</td>\n",
       "      <td>/m/0h4nqkp</td>\n",
       "      <td>2021-01-01T00:00:00Z</td>\n",
       "    </tr>\n",
       "    <tr>\n",
       "      <th>4</th>\n",
       "      <td>http://www.wikidata.org/entity/Q7088045</td>\n",
       "      <td>Olivia Colman</td>\n",
       "      <td>/m/061d58</td>\n",
       "      <td>2018-01-01T00:00:00Z</td>\n",
       "    </tr>\n",
       "  </tbody>\n",
       "</table>\n",
       "</div>"
      ],
      "text/plain": [
       "                                      actor         actorLabel  freebaseID  \\\n",
       "0  http://www.wikidata.org/entity/Q22101817    Richard Barclay  /m/0lt47_g   \n",
       "1  http://www.wikidata.org/entity/Q22101716  Joan Keller Stern  /m/0b_n9w5   \n",
       "2  http://www.wikidata.org/entity/Q22076634      Lisa Thompson  /m/0b44hrk   \n",
       "3  http://www.wikidata.org/entity/Q16207879    Emerald Fennell  /m/0h4nqkp   \n",
       "4   http://www.wikidata.org/entity/Q7088045      Olivia Colman   /m/061d58   \n",
       "\n",
       "                   date  \n",
       "0  1971-01-01T00:00:00Z  \n",
       "1  1968-01-01T00:00:00Z  \n",
       "2  2014-01-01T00:00:00Z  \n",
       "3  2021-01-01T00:00:00Z  \n",
       "4  2018-01-01T00:00:00Z  "
      ]
     },
     "execution_count": 37,
     "metadata": {},
     "output_type": "execute_result"
    }
   ],
   "source": [
    "#read file with actors' awards\n",
    "df_awards=pd.read_csv('query_top5_awards.csv')\n",
    "df_awards.head()"
   ]
  },
  {
   "cell_type": "code",
   "execution_count": 38,
   "id": "d76a5dee",
   "metadata": {},
   "outputs": [
    {
     "data": {
      "text/html": [
       "<div>\n",
       "<style scoped>\n",
       "    .dataframe tbody tr th:only-of-type {\n",
       "        vertical-align: middle;\n",
       "    }\n",
       "\n",
       "    .dataframe tbody tr th {\n",
       "        vertical-align: top;\n",
       "    }\n",
       "\n",
       "    .dataframe thead th {\n",
       "        text-align: right;\n",
       "    }\n",
       "</style>\n",
       "<table border=\"1\" class=\"dataframe\">\n",
       "  <thead>\n",
       "    <tr style=\"text-align: right;\">\n",
       "      <th></th>\n",
       "      <th>Wikipedia movie ID</th>\n",
       "      <th>Freebase movie ID</th>\n",
       "      <th>Movie release date</th>\n",
       "      <th>character name</th>\n",
       "      <th>actor date of birth</th>\n",
       "      <th>actor gender</th>\n",
       "      <th>actor height</th>\n",
       "      <th>actor ethnicity</th>\n",
       "      <th>actor name</th>\n",
       "      <th>actor age at movie release</th>\n",
       "      <th>freebase character/actor map id</th>\n",
       "      <th>freebase character id</th>\n",
       "      <th>freebase actor id</th>\n",
       "      <th>actorLabel</th>\n",
       "      <th>major awards prior movie</th>\n",
       "    </tr>\n",
       "  </thead>\n",
       "  <tbody>\n",
       "    <tr>\n",
       "      <th>0</th>\n",
       "      <td>3837</td>\n",
       "      <td>/m/018f8</td>\n",
       "      <td>1974-02-07</td>\n",
       "      <td>Governor WIlliam J. Lepetomane</td>\n",
       "      <td>1926-06-28</td>\n",
       "      <td>M</td>\n",
       "      <td>1.65</td>\n",
       "      <td>/m/09kr66</td>\n",
       "      <td>Mel Brooks</td>\n",
       "      <td>47.0</td>\n",
       "      <td>/m/04w0vk8</td>\n",
       "      <td>/m/04w0vkc</td>\n",
       "      <td>/m/052hl</td>\n",
       "      <td>Mel Brooks</td>\n",
       "      <td>1</td>\n",
       "    </tr>\n",
       "    <tr>\n",
       "      <th>1</th>\n",
       "      <td>4560</td>\n",
       "      <td>/m/01gc7</td>\n",
       "      <td>1995-05-18</td>\n",
       "      <td>William Wallace</td>\n",
       "      <td>1956-01-03</td>\n",
       "      <td>M</td>\n",
       "      <td>1.77</td>\n",
       "      <td>/m/03gskx0</td>\n",
       "      <td>Mel Gibson</td>\n",
       "      <td>39.0</td>\n",
       "      <td>/m/0jvrx4</td>\n",
       "      <td>/m/047ksls</td>\n",
       "      <td>/m/0c1pj</td>\n",
       "      <td>Mel Gibson</td>\n",
       "      <td>1</td>\n",
       "    </tr>\n",
       "    <tr>\n",
       "      <th>2</th>\n",
       "      <td>4726</td>\n",
       "      <td>/m/01hp5</td>\n",
       "      <td>1989-06-19</td>\n",
       "      <td>Joker</td>\n",
       "      <td>1937-04-22</td>\n",
       "      <td>M</td>\n",
       "      <td>1.77</td>\n",
       "      <td>/m/0xnvg</td>\n",
       "      <td>Jack Nicholson</td>\n",
       "      <td>52.0</td>\n",
       "      <td>/m/02wk8_m</td>\n",
       "      <td>/m/0p6vc</td>\n",
       "      <td>/m/09fb5</td>\n",
       "      <td>Jack Nicholson</td>\n",
       "      <td>6</td>\n",
       "    </tr>\n",
       "    <tr>\n",
       "      <th>3</th>\n",
       "      <td>4728</td>\n",
       "      <td>/m/01hq1</td>\n",
       "      <td>1992-06-16</td>\n",
       "      <td>Catwoman</td>\n",
       "      <td>1958-04-29</td>\n",
       "      <td>F</td>\n",
       "      <td>1.71</td>\n",
       "      <td>/m/065b6q</td>\n",
       "      <td>Michelle Pfeiffer</td>\n",
       "      <td>34.0</td>\n",
       "      <td>/m/031l11c</td>\n",
       "      <td>/m/027j55</td>\n",
       "      <td>/m/0gx_p</td>\n",
       "      <td>Michelle Pfeiffer</td>\n",
       "      <td>1</td>\n",
       "    </tr>\n",
       "    <tr>\n",
       "      <th>4</th>\n",
       "      <td>4728</td>\n",
       "      <td>/m/01hq1</td>\n",
       "      <td>1992-06-16</td>\n",
       "      <td>Max Shreck</td>\n",
       "      <td>1943-03-31</td>\n",
       "      <td>M</td>\n",
       "      <td>1.83</td>\n",
       "      <td>/m/01qhm_</td>\n",
       "      <td>Christopher Walken</td>\n",
       "      <td>49.0</td>\n",
       "      <td>/m/0jv2kp</td>\n",
       "      <td>/m/04skwd</td>\n",
       "      <td>/m/016fjj</td>\n",
       "      <td>Christopher Walken</td>\n",
       "      <td>1</td>\n",
       "    </tr>\n",
       "  </tbody>\n",
       "</table>\n",
       "</div>"
      ],
      "text/plain": [
       "   Wikipedia movie ID Freebase movie ID Movie release date  \\\n",
       "0                3837          /m/018f8         1974-02-07   \n",
       "1                4560          /m/01gc7         1995-05-18   \n",
       "2                4726          /m/01hp5         1989-06-19   \n",
       "3                4728          /m/01hq1         1992-06-16   \n",
       "4                4728          /m/01hq1         1992-06-16   \n",
       "\n",
       "                   character name actor date of birth actor gender  \\\n",
       "0  Governor WIlliam J. Lepetomane          1926-06-28            M   \n",
       "1                 William Wallace          1956-01-03            M   \n",
       "2                           Joker          1937-04-22            M   \n",
       "3                        Catwoman          1958-04-29            F   \n",
       "4                      Max Shreck          1943-03-31            M   \n",
       "\n",
       "   actor height actor ethnicity          actor name  \\\n",
       "0          1.65       /m/09kr66          Mel Brooks   \n",
       "1          1.77      /m/03gskx0          Mel Gibson   \n",
       "2          1.77        /m/0xnvg      Jack Nicholson   \n",
       "3          1.71       /m/065b6q   Michelle Pfeiffer   \n",
       "4          1.83       /m/01qhm_  Christopher Walken   \n",
       "\n",
       "   actor age at movie release freebase character/actor map id  \\\n",
       "0                        47.0                      /m/04w0vk8   \n",
       "1                        39.0                       /m/0jvrx4   \n",
       "2                        52.0                      /m/02wk8_m   \n",
       "3                        34.0                      /m/031l11c   \n",
       "4                        49.0                       /m/0jv2kp   \n",
       "\n",
       "  freebase character id freebase actor id          actorLabel  \\\n",
       "0            /m/04w0vkc          /m/052hl          Mel Brooks   \n",
       "1            /m/047ksls          /m/0c1pj          Mel Gibson   \n",
       "2              /m/0p6vc          /m/09fb5      Jack Nicholson   \n",
       "3             /m/027j55          /m/0gx_p   Michelle Pfeiffer   \n",
       "4             /m/04skwd         /m/016fjj  Christopher Walken   \n",
       "\n",
       "   major awards prior movie  \n",
       "0                         1  \n",
       "1                         1  \n",
       "2                         6  \n",
       "3                         1  \n",
       "4                         1  "
      ]
     },
     "execution_count": 38,
     "metadata": {},
     "output_type": "execute_result"
    }
   ],
   "source": [
    "#convert columns to datetime\n",
    "df_awards['date'] = pd.to_datetime(df_awards['date'], format='%Y-%m-%d',errors = 'coerce').dt.date\n",
    "df_characters['Movie release date'] = pd.to_datetime(df_characters['Movie release date'], format='%Y-%m-%d',errors = 'coerce')\n",
    "#merge number of awards won to characters dataframe\n",
    "df=df_characters.merge(df_awards,left_on='freebase actor id',right_on='freebaseID').drop(['actor','freebaseID'],axis=1)\n",
    "features = list(df.columns.drop('date'))\n",
    "#keep only awards won prior to movie release\n",
    "df=df[df['date']<df['Movie release date']]\n",
    "#count number of awards won for each actor\n",
    "df=df.groupby(features,as_index=False).count()\n",
    "df.rename(columns={'date':'major awards prior movie'},inplace=True)\n",
    "df.head()"
   ]
  },
  {
   "cell_type": "code",
   "execution_count": 39,
   "id": "fddb4775",
   "metadata": {},
   "outputs": [
    {
     "data": {
      "text/plain": [
       "Walt Disney             15\n",
       "Maggie Smith            11\n",
       "Woody Allen             10\n",
       "Jack Lemmon              9\n",
       "Meryl Streep             9\n",
       "George Clooney           9\n",
       "Betty White              8\n",
       "Jack Nicholson           8\n",
       "Gregory Peck             7\n",
       "Shirley MacLaine         7\n",
       "Alec Baldwin             7\n",
       "Angela Lansbury          7\n",
       "Allison Janney           7\n",
       "Robin Williams           6\n",
       "Jodie Foster             6\n",
       "Peter O'Toole            6\n",
       "Nicole Kidman            6\n",
       "Joanne Woodward          6\n",
       "Mickey Rooney            5\n",
       "Richard Attenborough     5\n",
       "Name: actorLabel, dtype: int64"
      ]
     },
     "execution_count": 39,
     "metadata": {},
     "output_type": "execute_result"
    }
   ],
   "source": [
    "#get actors with most awards\n",
    "df_awards[\"actorLabel\"].value_counts()[0:20]"
   ]
  },
  {
   "cell_type": "code",
   "execution_count": 40,
   "id": "c9ad8405",
   "metadata": {},
   "outputs": [
    {
     "data": {
      "text/html": [
       "<div>\n",
       "<style scoped>\n",
       "    .dataframe tbody tr th:only-of-type {\n",
       "        vertical-align: middle;\n",
       "    }\n",
       "\n",
       "    .dataframe tbody tr th {\n",
       "        vertical-align: top;\n",
       "    }\n",
       "\n",
       "    .dataframe thead th {\n",
       "        text-align: right;\n",
       "    }\n",
       "</style>\n",
       "<table border=\"1\" class=\"dataframe\">\n",
       "  <thead>\n",
       "    <tr style=\"text-align: right;\">\n",
       "      <th></th>\n",
       "      <th>imdbID</th>\n",
       "      <th>Freebase movie ID</th>\n",
       "      <th>Movie name</th>\n",
       "      <th>Movie release date</th>\n",
       "      <th>Year released</th>\n",
       "      <th>Movie genres</th>\n",
       "      <th>MBO_revenue</th>\n",
       "      <th>budget</th>\n",
       "      <th>averageRating</th>\n",
       "      <th>numVotes</th>\n",
       "      <th>Movie runtime</th>\n",
       "      <th>Profit</th>\n",
       "      <th>weighted_rating</th>\n",
       "      <th>nb actors</th>\n",
       "      <th>diversity</th>\n",
       "      <th>nb_female</th>\n",
       "      <th>nb_male</th>\n",
       "      <th>major awards prior movie</th>\n",
       "    </tr>\n",
       "  </thead>\n",
       "  <tbody>\n",
       "    <tr>\n",
       "      <th>0</th>\n",
       "      <td>tt0246460</td>\n",
       "      <td>/m/014kq6</td>\n",
       "      <td>Die Another Day</td>\n",
       "      <td>2002-11-18</td>\n",
       "      <td>2002</td>\n",
       "      <td>['Thriller', 'Glamorized Spy Film', 'Action', ...</td>\n",
       "      <td>5.236253e+08</td>\n",
       "      <td>1.721176e+08</td>\n",
       "      <td>6.1</td>\n",
       "      <td>219579</td>\n",
       "      <td>133</td>\n",
       "      <td>3.515077e+08</td>\n",
       "      <td>6.171448</td>\n",
       "      <td>17</td>\n",
       "      <td>8</td>\n",
       "      <td>5</td>\n",
       "      <td>6</td>\n",
       "      <td>5</td>\n",
       "    </tr>\n",
       "    <tr>\n",
       "      <th>1</th>\n",
       "      <td>tt1172991</td>\n",
       "      <td>/m/07kd1dr</td>\n",
       "      <td>The Company Men</td>\n",
       "      <td>2010-01-22</td>\n",
       "      <td>2010</td>\n",
       "      <td>['Drama', 'Indie']</td>\n",
       "      <td>4.882577e+06</td>\n",
       "      <td>1.500000e+07</td>\n",
       "      <td>6.7</td>\n",
       "      <td>45923</td>\n",
       "      <td>104</td>\n",
       "      <td>-1.011742e+07</td>\n",
       "      <td>6.429922</td>\n",
       "      <td>25</td>\n",
       "      <td>5</td>\n",
       "      <td>3</td>\n",
       "      <td>2</td>\n",
       "      <td>2</td>\n",
       "    </tr>\n",
       "    <tr>\n",
       "      <th>2</th>\n",
       "      <td>tt1375666</td>\n",
       "      <td>/m/0661ql3</td>\n",
       "      <td>Inception</td>\n",
       "      <td>2010-07-08</td>\n",
       "      <td>2010</td>\n",
       "      <td>['Thriller', 'Science Fiction', 'Adventure', '...</td>\n",
       "      <td>2.925873e+08</td>\n",
       "      <td>1.600000e+08</td>\n",
       "      <td>8.8</td>\n",
       "      <td>2321244</td>\n",
       "      <td>148</td>\n",
       "      <td>1.325873e+08</td>\n",
       "      <td>8.688890</td>\n",
       "      <td>15</td>\n",
       "      <td>8</td>\n",
       "      <td>2</td>\n",
       "      <td>7</td>\n",
       "      <td>1</td>\n",
       "    </tr>\n",
       "    <tr>\n",
       "      <th>3</th>\n",
       "      <td>tt0264395</td>\n",
       "      <td>/m/04z48q</td>\n",
       "      <td>Basic</td>\n",
       "      <td>2003-03-28</td>\n",
       "      <td>2003</td>\n",
       "      <td>['Thriller', 'Crime Fiction', 'Detective ficti...</td>\n",
       "      <td>4.977365e+07</td>\n",
       "      <td>5.925435e+07</td>\n",
       "      <td>6.4</td>\n",
       "      <td>63349</td>\n",
       "      <td>98</td>\n",
       "      <td>-9.480696e+06</td>\n",
       "      <td>6.346806</td>\n",
       "      <td>11</td>\n",
       "      <td>8</td>\n",
       "      <td>2</td>\n",
       "      <td>8</td>\n",
       "      <td>2</td>\n",
       "    </tr>\n",
       "    <tr>\n",
       "      <th>4</th>\n",
       "      <td>tt0282687</td>\n",
       "      <td>/m/089c83</td>\n",
       "      <td>Life or Something Like It</td>\n",
       "      <td>2002-04-26</td>\n",
       "      <td>2002</td>\n",
       "      <td>['Romantic comedy', 'Media Satire', 'Comedy-dr...</td>\n",
       "      <td>2.045129e+07</td>\n",
       "      <td>4.848382e+07</td>\n",
       "      <td>5.7</td>\n",
       "      <td>26529</td>\n",
       "      <td>103</td>\n",
       "      <td>-2.803253e+07</td>\n",
       "      <td>6.194975</td>\n",
       "      <td>12</td>\n",
       "      <td>3</td>\n",
       "      <td>1</td>\n",
       "      <td>2</td>\n",
       "      <td>3</td>\n",
       "    </tr>\n",
       "  </tbody>\n",
       "</table>\n",
       "</div>"
      ],
      "text/plain": [
       "      imdbID Freebase movie ID                 Movie name Movie release date  \\\n",
       "0  tt0246460         /m/014kq6            Die Another Day         2002-11-18   \n",
       "1  tt1172991        /m/07kd1dr            The Company Men         2010-01-22   \n",
       "2  tt1375666        /m/0661ql3                  Inception         2010-07-08   \n",
       "3  tt0264395         /m/04z48q                      Basic         2003-03-28   \n",
       "4  tt0282687         /m/089c83  Life or Something Like It         2002-04-26   \n",
       "\n",
       "   Year released                                       Movie genres  \\\n",
       "0           2002  ['Thriller', 'Glamorized Spy Film', 'Action', ...   \n",
       "1           2010                                 ['Drama', 'Indie']   \n",
       "2           2010  ['Thriller', 'Science Fiction', 'Adventure', '...   \n",
       "3           2003  ['Thriller', 'Crime Fiction', 'Detective ficti...   \n",
       "4           2002  ['Romantic comedy', 'Media Satire', 'Comedy-dr...   \n",
       "\n",
       "    MBO_revenue        budget  averageRating  numVotes  Movie runtime  \\\n",
       "0  5.236253e+08  1.721176e+08            6.1    219579            133   \n",
       "1  4.882577e+06  1.500000e+07            6.7     45923            104   \n",
       "2  2.925873e+08  1.600000e+08            8.8   2321244            148   \n",
       "3  4.977365e+07  5.925435e+07            6.4     63349             98   \n",
       "4  2.045129e+07  4.848382e+07            5.7     26529            103   \n",
       "\n",
       "         Profit  weighted_rating  nb actors  diversity  nb_female  nb_male  \\\n",
       "0  3.515077e+08         6.171448         17          8          5        6   \n",
       "1 -1.011742e+07         6.429922         25          5          3        2   \n",
       "2  1.325873e+08         8.688890         15          8          2        7   \n",
       "3 -9.480696e+06         6.346806         11          8          2        8   \n",
       "4 -2.803253e+07         6.194975         12          3          1        2   \n",
       "\n",
       "   major awards prior movie  \n",
       "0                         5  \n",
       "1                         2  \n",
       "2                         1  \n",
       "3                         2  \n",
       "4                         3  "
      ]
     },
     "execution_count": 40,
     "metadata": {},
     "output_type": "execute_result"
    }
   ],
   "source": [
    "#number of unique ethnicities per movie\n",
    "num_awards = pd.DataFrame(data=df.groupby(\"Freebase movie ID\")[\"major awards prior movie\"].sum())\n",
    "\n",
    "num_awards\n",
    "\n",
    "#merge with the movies data frame\n",
    "df1 = df_movies.merge(num_awards, on=\"Freebase movie ID\")\n",
    "df1.head()\n"
   ]
  },
  {
   "cell_type": "code",
   "execution_count": 41,
   "id": "61e750dd",
   "metadata": {},
   "outputs": [
    {
     "data": {
      "text/plain": [
       "SpearmanrResult(correlation=0.18841934617500838, pvalue=1.6929369522479663e-10)"
      ]
     },
     "execution_count": 41,
     "metadata": {},
     "output_type": "execute_result"
    }
   ],
   "source": [
    "stats.spearmanr(df1[\"major awards prior movie\"],df1[\"MBO_revenue\"])"
   ]
  },
  {
   "cell_type": "markdown",
   "id": "45c076e8",
   "metadata": {},
   "source": [
    "We can see that the relationship between the movie box office revenue and the major awards prior to the movie won by the cast is weak but we all know that the casting of a movie has some kind of weight on the success of a movie. In addition the p value is very small which means that it is still significant and so we should take a closer a look into it."
   ]
  },
  {
   "cell_type": "code",
   "execution_count": 42,
   "id": "e6d26a3a",
   "metadata": {},
   "outputs": [
    {
     "data": {
      "text/plain": [
       "SpearmanrResult(correlation=0.3008763474202, pvalue=4.268696408614328e-25)"
      ]
     },
     "execution_count": 42,
     "metadata": {},
     "output_type": "execute_result"
    }
   ],
   "source": [
    "stats.spearmanr(df1[\"weighted_rating\"],df1[\"Profit\"])"
   ]
  }
 ],
 "metadata": {
  "kernelspec": {
   "display_name": "Python 3",
   "language": "python",
   "name": "python3"
  },
  "language_info": {
   "codemirror_mode": {
    "name": "ipython",
    "version": 3
   },
   "file_extension": ".py",
   "mimetype": "text/x-python",
   "name": "python",
   "nbconvert_exporter": "python",
   "pygments_lexer": "ipython3",
   "version": "3.8.8"
  }
 },
 "nbformat": 4,
 "nbformat_minor": 5
}
