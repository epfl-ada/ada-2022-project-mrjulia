{
 "cells": [
  {
   "cell_type": "code",
   "execution_count": 1,
   "id": "5a6e5027",
   "metadata": {},
   "outputs": [],
   "source": [
    "'''\n",
    "File name : Data_handling.ipynb\n",
    "Author : Group MrJulia\n",
    "Date created : '18/11/2022'\n",
    "Python version : 3.6\n",
    "'''\n",
    "import pandas as pd \n",
    "import numpy as np\n",
    "import matplotlib.pyplot as plt\n",
    "import seaborn as sns\n",
    "import scipy.stats as stats\n",
    "import cpi\n",
    "import statsmodels.formula.api as smf\n",
    "import plotly.express as px\n",
    "import plotly.graph_objects as go\n",
    "import plotly \n",
    "\n",
    "\n",
    "cmu_folder = './Data/Cmu_data/'\n",
    "scraping_folder='./Data/Scraping/'\n",
    "queries_folder='./Data/Queries/'\n",
    "imdb_folder= './Data/Imdb_data/'"
   ]
  },
  {
   "cell_type": "markdown",
   "id": "d045db9a",
   "metadata": {},
   "source": [
    "# Data wrangling:"
   ]
  },
  {
   "cell_type": "markdown",
   "id": "17ddfd70",
   "metadata": {},
   "source": [
    "### 1. loading data :"
   ]
  },
  {
   "cell_type": "code",
   "execution_count": 2,
   "id": "4f98e971",
   "metadata": {},
   "outputs": [
    {
     "data": {
      "text/html": [
       "<div>\n",
       "<style scoped>\n",
       "    .dataframe tbody tr th:only-of-type {\n",
       "        vertical-align: middle;\n",
       "    }\n",
       "\n",
       "    .dataframe tbody tr th {\n",
       "        vertical-align: top;\n",
       "    }\n",
       "\n",
       "    .dataframe thead th {\n",
       "        text-align: right;\n",
       "    }\n",
       "</style>\n",
       "<table border=\"1\" class=\"dataframe\">\n",
       "  <thead>\n",
       "    <tr style=\"text-align: right;\">\n",
       "      <th></th>\n",
       "      <th>Wikipedia movie ID</th>\n",
       "      <th>Freebase movie ID</th>\n",
       "      <th>Movie name</th>\n",
       "      <th>Movie release date</th>\n",
       "      <th>Movie box office revenue</th>\n",
       "      <th>Movie runtime</th>\n",
       "      <th>Movie languages</th>\n",
       "      <th>Movie countries</th>\n",
       "      <th>Movie genres</th>\n",
       "    </tr>\n",
       "  </thead>\n",
       "  <tbody>\n",
       "    <tr>\n",
       "      <th>0</th>\n",
       "      <td>975900</td>\n",
       "      <td>/m/03vyhn</td>\n",
       "      <td>Ghosts of Mars</td>\n",
       "      <td>2001-08-24</td>\n",
       "      <td>14010832.0</td>\n",
       "      <td>98.0</td>\n",
       "      <td>{\"/m/02h40lc\": \"English Language\"}</td>\n",
       "      <td>{\"/m/09c7w0\": \"United States of America\"}</td>\n",
       "      <td>{\"/m/01jfsb\": \"Thriller\", \"/m/06n90\": \"Science...</td>\n",
       "    </tr>\n",
       "    <tr>\n",
       "      <th>1</th>\n",
       "      <td>3196793</td>\n",
       "      <td>/m/08yl5d</td>\n",
       "      <td>Getting Away with Murder: The JonBenét Ramsey ...</td>\n",
       "      <td>2000-02-16</td>\n",
       "      <td>NaN</td>\n",
       "      <td>95.0</td>\n",
       "      <td>{\"/m/02h40lc\": \"English Language\"}</td>\n",
       "      <td>{\"/m/09c7w0\": \"United States of America\"}</td>\n",
       "      <td>{\"/m/02n4kr\": \"Mystery\", \"/m/03bxz7\": \"Biograp...</td>\n",
       "    </tr>\n",
       "    <tr>\n",
       "      <th>2</th>\n",
       "      <td>28463795</td>\n",
       "      <td>/m/0crgdbh</td>\n",
       "      <td>Brun bitter</td>\n",
       "      <td>1988</td>\n",
       "      <td>NaN</td>\n",
       "      <td>83.0</td>\n",
       "      <td>{\"/m/05f_3\": \"Norwegian Language\"}</td>\n",
       "      <td>{\"/m/05b4w\": \"Norway\"}</td>\n",
       "      <td>{\"/m/0lsxr\": \"Crime Fiction\", \"/m/07s9rl0\": \"D...</td>\n",
       "    </tr>\n",
       "    <tr>\n",
       "      <th>3</th>\n",
       "      <td>9363483</td>\n",
       "      <td>/m/0285_cd</td>\n",
       "      <td>White Of The Eye</td>\n",
       "      <td>1987</td>\n",
       "      <td>NaN</td>\n",
       "      <td>110.0</td>\n",
       "      <td>{\"/m/02h40lc\": \"English Language\"}</td>\n",
       "      <td>{\"/m/07ssc\": \"United Kingdom\"}</td>\n",
       "      <td>{\"/m/01jfsb\": \"Thriller\", \"/m/0glj9q\": \"Erotic...</td>\n",
       "    </tr>\n",
       "    <tr>\n",
       "      <th>4</th>\n",
       "      <td>261236</td>\n",
       "      <td>/m/01mrr1</td>\n",
       "      <td>A Woman in Flames</td>\n",
       "      <td>1983</td>\n",
       "      <td>NaN</td>\n",
       "      <td>106.0</td>\n",
       "      <td>{\"/m/04306rv\": \"German Language\"}</td>\n",
       "      <td>{\"/m/0345h\": \"Germany\"}</td>\n",
       "      <td>{\"/m/07s9rl0\": \"Drama\"}</td>\n",
       "    </tr>\n",
       "  </tbody>\n",
       "</table>\n",
       "</div>"
      ],
      "text/plain": [
       "   Wikipedia movie ID Freebase movie ID  \\\n",
       "0              975900         /m/03vyhn   \n",
       "1             3196793         /m/08yl5d   \n",
       "2            28463795        /m/0crgdbh   \n",
       "3             9363483        /m/0285_cd   \n",
       "4              261236         /m/01mrr1   \n",
       "\n",
       "                                          Movie name Movie release date  \\\n",
       "0                                     Ghosts of Mars         2001-08-24   \n",
       "1  Getting Away with Murder: The JonBenét Ramsey ...         2000-02-16   \n",
       "2                                        Brun bitter               1988   \n",
       "3                                   White Of The Eye               1987   \n",
       "4                                  A Woman in Flames               1983   \n",
       "\n",
       "   Movie box office revenue  Movie runtime  \\\n",
       "0                14010832.0           98.0   \n",
       "1                       NaN           95.0   \n",
       "2                       NaN           83.0   \n",
       "3                       NaN          110.0   \n",
       "4                       NaN          106.0   \n",
       "\n",
       "                      Movie languages  \\\n",
       "0  {\"/m/02h40lc\": \"English Language\"}   \n",
       "1  {\"/m/02h40lc\": \"English Language\"}   \n",
       "2  {\"/m/05f_3\": \"Norwegian Language\"}   \n",
       "3  {\"/m/02h40lc\": \"English Language\"}   \n",
       "4   {\"/m/04306rv\": \"German Language\"}   \n",
       "\n",
       "                             Movie countries  \\\n",
       "0  {\"/m/09c7w0\": \"United States of America\"}   \n",
       "1  {\"/m/09c7w0\": \"United States of America\"}   \n",
       "2                     {\"/m/05b4w\": \"Norway\"}   \n",
       "3             {\"/m/07ssc\": \"United Kingdom\"}   \n",
       "4                    {\"/m/0345h\": \"Germany\"}   \n",
       "\n",
       "                                        Movie genres  \n",
       "0  {\"/m/01jfsb\": \"Thriller\", \"/m/06n90\": \"Science...  \n",
       "1  {\"/m/02n4kr\": \"Mystery\", \"/m/03bxz7\": \"Biograp...  \n",
       "2  {\"/m/0lsxr\": \"Crime Fiction\", \"/m/07s9rl0\": \"D...  \n",
       "3  {\"/m/01jfsb\": \"Thriller\", \"/m/0glj9q\": \"Erotic...  \n",
       "4                            {\"/m/07s9rl0\": \"Drama\"}  "
      ]
     },
     "execution_count": 2,
     "metadata": {},
     "output_type": "execute_result"
    }
   ],
   "source": [
    "colnames=[\"Wikipedia movie ID\",\"Freebase movie ID\",\"Movie name\",\"Movie release date\",\"Movie box office revenue\",\"Movie runtime\",\"Movie languages\",\"Movie countries\",\"Movie genres\"]\n",
    "df_movies=pd.read_csv(cmu_folder+'movie.metadata.tsv', sep=\"\\t\", names = colnames)\n",
    "df_movies.head(5)"
   ]
  },
  {
   "cell_type": "markdown",
   "id": "8c9f0ebe",
   "metadata": {},
   "source": [
    "### 2. General overview and informations about Movie dataset :"
   ]
  },
  {
   "cell_type": "code",
   "execution_count": 3,
   "id": "7fe7ba1e",
   "metadata": {},
   "outputs": [
    {
     "name": "stdout",
     "output_type": "stream",
     "text": [
      "<class 'pandas.core.frame.DataFrame'>\n",
      "RangeIndex: 81741 entries, 0 to 81740\n",
      "Data columns (total 9 columns):\n",
      " #   Column                    Non-Null Count  Dtype  \n",
      "---  ------                    --------------  -----  \n",
      " 0   Wikipedia movie ID        81741 non-null  int64  \n",
      " 1   Freebase movie ID         81741 non-null  object \n",
      " 2   Movie name                81741 non-null  object \n",
      " 3   Movie release date        74839 non-null  object \n",
      " 4   Movie box office revenue  8401 non-null   float64\n",
      " 5   Movie runtime             61291 non-null  float64\n",
      " 6   Movie languages           81741 non-null  object \n",
      " 7   Movie countries           81741 non-null  object \n",
      " 8   Movie genres              81741 non-null  object \n",
      "dtypes: float64(2), int64(1), object(6)\n",
      "memory usage: 5.6+ MB\n"
     ]
    }
   ],
   "source": [
    "df_movies.info()"
   ]
  },
  {
   "cell_type": "markdown",
   "id": "2eaeccfe",
   "metadata": {},
   "source": [
    "**we notice that :**\n",
    "\n",
    "* the size of our dataset is 81741 movies \n",
    "* we are missing a lot of values in the Movie Box office Revenue feature : (73 340 null values)\n",
    "* we are missing some values in the Movie runtime feature : (20 450 null values)\n",
    "* we are missing some values in the Movie release date feature : (6908 null values)"
   ]
  },
  {
   "cell_type": "code",
   "execution_count": 4,
   "id": "d34ea312",
   "metadata": {},
   "outputs": [
    {
     "data": {
      "text/html": [
       "<div>\n",
       "<style scoped>\n",
       "    .dataframe tbody tr th:only-of-type {\n",
       "        vertical-align: middle;\n",
       "    }\n",
       "\n",
       "    .dataframe tbody tr th {\n",
       "        vertical-align: top;\n",
       "    }\n",
       "\n",
       "    .dataframe thead th {\n",
       "        text-align: right;\n",
       "    }\n",
       "</style>\n",
       "<table border=\"1\" class=\"dataframe\">\n",
       "  <thead>\n",
       "    <tr style=\"text-align: right;\">\n",
       "      <th></th>\n",
       "      <th>Wikipedia movie ID</th>\n",
       "      <th>Movie box office revenue</th>\n",
       "      <th>Movie runtime</th>\n",
       "    </tr>\n",
       "  </thead>\n",
       "  <tbody>\n",
       "    <tr>\n",
       "      <th>count</th>\n",
       "      <td>8.174100e+04</td>\n",
       "      <td>8.401000e+03</td>\n",
       "      <td>6.129100e+04</td>\n",
       "    </tr>\n",
       "    <tr>\n",
       "      <th>mean</th>\n",
       "      <td>1.740784e+07</td>\n",
       "      <td>4.799363e+07</td>\n",
       "      <td>1.118192e+02</td>\n",
       "    </tr>\n",
       "    <tr>\n",
       "      <th>std</th>\n",
       "      <td>1.098791e+07</td>\n",
       "      <td>1.121753e+08</td>\n",
       "      <td>4.360070e+03</td>\n",
       "    </tr>\n",
       "    <tr>\n",
       "      <th>min</th>\n",
       "      <td>3.300000e+02</td>\n",
       "      <td>1.000000e+04</td>\n",
       "      <td>0.000000e+00</td>\n",
       "    </tr>\n",
       "    <tr>\n",
       "      <th>25%</th>\n",
       "      <td>7.323695e+06</td>\n",
       "      <td>2.083193e+06</td>\n",
       "      <td>8.100000e+01</td>\n",
       "    </tr>\n",
       "    <tr>\n",
       "      <th>50%</th>\n",
       "      <td>1.777899e+07</td>\n",
       "      <td>1.063969e+07</td>\n",
       "      <td>9.300000e+01</td>\n",
       "    </tr>\n",
       "    <tr>\n",
       "      <th>75%</th>\n",
       "      <td>2.715573e+07</td>\n",
       "      <td>4.071696e+07</td>\n",
       "      <td>1.060000e+02</td>\n",
       "    </tr>\n",
       "    <tr>\n",
       "      <th>max</th>\n",
       "      <td>3.750192e+07</td>\n",
       "      <td>2.782275e+09</td>\n",
       "      <td>1.079281e+06</td>\n",
       "    </tr>\n",
       "  </tbody>\n",
       "</table>\n",
       "</div>"
      ],
      "text/plain": [
       "       Wikipedia movie ID  Movie box office revenue  Movie runtime\n",
       "count        8.174100e+04              8.401000e+03   6.129100e+04\n",
       "mean         1.740784e+07              4.799363e+07   1.118192e+02\n",
       "std          1.098791e+07              1.121753e+08   4.360070e+03\n",
       "min          3.300000e+02              1.000000e+04   0.000000e+00\n",
       "25%          7.323695e+06              2.083193e+06   8.100000e+01\n",
       "50%          1.777899e+07              1.063969e+07   9.300000e+01\n",
       "75%          2.715573e+07              4.071696e+07   1.060000e+02\n",
       "max          3.750192e+07              2.782275e+09   1.079281e+06"
      ]
     },
     "execution_count": 4,
     "metadata": {},
     "output_type": "execute_result"
    }
   ],
   "source": [
    "df_movies.describe()"
   ]
  },
  {
   "cell_type": "markdown",
   "id": "597c28cb",
   "metadata": {},
   "source": [
    "**using the describtion of the dataset** :\n",
    "\n",
    "* we observe that amongst the MBO (the Movie Box office ) revenues that we have : \n",
    "* the mean revenue is approximetely 48 Million dollars.\n",
    "* From the quantile analysis of these revenues, we see that:\n",
    "    * 1. 25% of the movies have generated less than approximetly 2Million dollars.\n",
    "    * 2. 50% of these movies have generated less than approximetly 10Million dollars, and 50% have generated more.\n",
    "    * 3. only 25% of these movies have generated more than 40Million dollars"
   ]
  },
  {
   "cell_type": "code",
   "execution_count": 5,
   "id": "731b5edf",
   "metadata": {},
   "outputs": [
    {
     "data": {
      "text/html": [
       "<div>\n",
       "<style scoped>\n",
       "    .dataframe tbody tr th:only-of-type {\n",
       "        vertical-align: middle;\n",
       "    }\n",
       "\n",
       "    .dataframe tbody tr th {\n",
       "        vertical-align: top;\n",
       "    }\n",
       "\n",
       "    .dataframe thead th {\n",
       "        text-align: right;\n",
       "    }\n",
       "</style>\n",
       "<table border=\"1\" class=\"dataframe\">\n",
       "  <thead>\n",
       "    <tr style=\"text-align: right;\">\n",
       "      <th></th>\n",
       "      <th>Wikipedia movie ID</th>\n",
       "      <th>Freebase movie ID</th>\n",
       "      <th>Movie name</th>\n",
       "      <th>Movie release date</th>\n",
       "      <th>Movie box office revenue</th>\n",
       "      <th>Movie runtime</th>\n",
       "      <th>Movie languages</th>\n",
       "      <th>Movie countries</th>\n",
       "      <th>Movie genres</th>\n",
       "    </tr>\n",
       "  </thead>\n",
       "  <tbody>\n",
       "    <tr>\n",
       "      <th>23702</th>\n",
       "      <td>4273140</td>\n",
       "      <td>/m/0bth54</td>\n",
       "      <td>Avatar</td>\n",
       "      <td>2009-12-10</td>\n",
       "      <td>2.782275e+09</td>\n",
       "      <td>178.0</td>\n",
       "      <td>{\"/m/02h40lc\": \"English Language\", \"/m/06nm1\":...</td>\n",
       "      <td>{\"/m/09c7w0\": \"United States of America\", \"/m/...</td>\n",
       "      <td>{\"/m/01jfsb\": \"Thriller\", \"/m/06n90\": \"Science...</td>\n",
       "    </tr>\n",
       "  </tbody>\n",
       "</table>\n",
       "</div>"
      ],
      "text/plain": [
       "       Wikipedia movie ID Freebase movie ID Movie name Movie release date  \\\n",
       "23702             4273140         /m/0bth54     Avatar         2009-12-10   \n",
       "\n",
       "       Movie box office revenue  Movie runtime  \\\n",
       "23702              2.782275e+09          178.0   \n",
       "\n",
       "                                         Movie languages  \\\n",
       "23702  {\"/m/02h40lc\": \"English Language\", \"/m/06nm1\":...   \n",
       "\n",
       "                                         Movie countries  \\\n",
       "23702  {\"/m/09c7w0\": \"United States of America\", \"/m/...   \n",
       "\n",
       "                                            Movie genres  \n",
       "23702  {\"/m/01jfsb\": \"Thriller\", \"/m/06n90\": \"Science...  "
      ]
     },
     "execution_count": 5,
     "metadata": {},
     "output_type": "execute_result"
    }
   ],
   "source": [
    "max_revenue = df_movies['Movie box office revenue'].max()\n",
    "df_movies[df_movies['Movie box office revenue'] == max_revenue]"
   ]
  },
  {
   "cell_type": "markdown",
   "id": "9212f0da",
   "metadata": {},
   "source": [
    "***We see that the movie with the most revenue generated is : Avatar released in 2009 with an approximate revenue of 278Million dollars***"
   ]
  },
  {
   "cell_type": "code",
   "execution_count": 6,
   "id": "866eb9af",
   "metadata": {},
   "outputs": [
    {
     "data": {
      "text/html": [
       "<div>\n",
       "<style scoped>\n",
       "    .dataframe tbody tr th:only-of-type {\n",
       "        vertical-align: middle;\n",
       "    }\n",
       "\n",
       "    .dataframe tbody tr th {\n",
       "        vertical-align: top;\n",
       "    }\n",
       "\n",
       "    .dataframe thead th {\n",
       "        text-align: right;\n",
       "    }\n",
       "</style>\n",
       "<table border=\"1\" class=\"dataframe\">\n",
       "  <thead>\n",
       "    <tr style=\"text-align: right;\">\n",
       "      <th></th>\n",
       "      <th>Wikipedia movie ID</th>\n",
       "      <th>Freebase movie ID</th>\n",
       "      <th>Movie name</th>\n",
       "      <th>Movie release date</th>\n",
       "      <th>Movie box office revenue</th>\n",
       "      <th>Movie runtime</th>\n",
       "      <th>Movie languages</th>\n",
       "      <th>Movie countries</th>\n",
       "      <th>Movie genres</th>\n",
       "    </tr>\n",
       "  </thead>\n",
       "  <tbody>\n",
       "    <tr>\n",
       "      <th>35178</th>\n",
       "      <td>28223867</td>\n",
       "      <td>/m/07l4_10</td>\n",
       "      <td>Hugh Hefner: Playboy, Activist and Rebel</td>\n",
       "      <td>2010-07-30</td>\n",
       "      <td>10000.0</td>\n",
       "      <td>135.0</td>\n",
       "      <td>{\"/m/02h40lc\": \"English Language\"}</td>\n",
       "      <td>{\"/m/0d060g\": \"Canada\"}</td>\n",
       "      <td>{\"/m/0hj3n07\": \"Culture &amp; Society\", \"/m/017fp\"...</td>\n",
       "    </tr>\n",
       "  </tbody>\n",
       "</table>\n",
       "</div>"
      ],
      "text/plain": [
       "       Wikipedia movie ID Freebase movie ID  \\\n",
       "35178            28223867        /m/07l4_10   \n",
       "\n",
       "                                     Movie name Movie release date  \\\n",
       "35178  Hugh Hefner: Playboy, Activist and Rebel         2010-07-30   \n",
       "\n",
       "       Movie box office revenue  Movie runtime  \\\n",
       "35178                   10000.0          135.0   \n",
       "\n",
       "                          Movie languages          Movie countries  \\\n",
       "35178  {\"/m/02h40lc\": \"English Language\"}  {\"/m/0d060g\": \"Canada\"}   \n",
       "\n",
       "                                            Movie genres  \n",
       "35178  {\"/m/0hj3n07\": \"Culture & Society\", \"/m/017fp\"...  "
      ]
     },
     "execution_count": 6,
     "metadata": {},
     "output_type": "execute_result"
    }
   ],
   "source": [
    "min_revenue = df_movies['Movie box office revenue'].min()\n",
    "df_movies[df_movies['Movie box office revenue'] == min_revenue]"
   ]
  },
  {
   "cell_type": "markdown",
   "id": "1c16e6b4",
   "metadata": {},
   "source": [
    "***Whereas the movie with the least revenue generated is : Hugh Hefner released in 2010 with an approximate revenue of 10 thousand dollars***"
   ]
  },
  {
   "cell_type": "markdown",
   "id": "a0d3c845",
   "metadata": {},
   "source": [
    "### 3. data cleaning :"
   ]
  },
  {
   "cell_type": "code",
   "execution_count": 7,
   "id": "6d320193",
   "metadata": {},
   "outputs": [
    {
     "data": {
      "text/plain": [
       "0        {\"/m/02h40lc\": \"English Language\"}\n",
       "1        {\"/m/02h40lc\": \"English Language\"}\n",
       "2        {\"/m/05f_3\": \"Norwegian Language\"}\n",
       "3        {\"/m/02h40lc\": \"English Language\"}\n",
       "4         {\"/m/04306rv\": \"German Language\"}\n",
       "                        ...                \n",
       "81736    {\"/m/02h40lc\": \"English Language\"}\n",
       "81737    {\"/m/02h40lc\": \"English Language\"}\n",
       "81738    {\"/m/02h40lc\": \"English Language\"}\n",
       "81739     {\"/m/03_9r\": \"Japanese Language\"}\n",
       "81740    {\"/m/02h40lc\": \"English Language\"}\n",
       "Name: Movie languages, Length: 81741, dtype: object"
      ]
     },
     "execution_count": 7,
     "metadata": {},
     "output_type": "execute_result"
    }
   ],
   "source": [
    "df_movies['Movie languages']"
   ]
  },
  {
   "cell_type": "markdown",
   "id": "4ac3fdf2",
   "metadata": {},
   "source": [
    "***\n",
    "* Upon looking at the first 5 elements of the dataset, we notice that in the \"Movie languages\", \"Movie countries\" and \"Movie genres\" fields : the values are dictionnaries with the freebase identifier of the value as a key\n",
    "*** "
   ]
  },
  {
   "cell_type": "code",
   "execution_count": 8,
   "id": "9a190cd8",
   "metadata": {},
   "outputs": [
    {
     "data": {
      "text/plain": [
       "'{\"/m/01jfsb\": \"Thriller\", \"/m/06n90\": \"Science Fiction\", \"/m/03npn\": \"Horror\", \"/m/03k9fj\": \"Adventure\", \"/m/0fdjb\": \"Supernatural\", \"/m/02kdv5l\": \"Action\", \"/m/09zvmj\": \"Space western\"}'"
      ]
     },
     "execution_count": 8,
     "metadata": {},
     "output_type": "execute_result"
    }
   ],
   "source": [
    "#example\n",
    "df_movies.iloc[0]['Movie genres']"
   ]
  },
  {
   "cell_type": "markdown",
   "id": "e2519850",
   "metadata": {},
   "source": [
    "***\n",
    "Since we will not be using the identifier key of these dictionnaries, we are only interested by the values namely for this exmaple: the genres -> \"Thriller\", \"Science Fiction\", \"Horror\", \"Adventure\", \"Supernatural\", \"Action\", \"Space western\"\n",
    "* Thus we decided to represent each entry of these fields as a list of string values for the genres, the Movie countries and The movie languages.\n",
    "*** "
   ]
  },
  {
   "cell_type": "code",
   "execution_count": 9,
   "id": "26f8cf46",
   "metadata": {},
   "outputs": [],
   "source": [
    "def list_process_dict(x) :\n",
    "    '''\n",
    "    Extracts the values from a dictionary string\n",
    "    param: x : dictionary string to be processed\n",
    "    returns : a list of the dictionary values\n",
    "    '''\n",
    "    #split keys and values\n",
    "    b = x.split(':')\n",
    "    #extract strings\n",
    "    b = sum([xb.split('\"') for xb in b],[])\n",
    "    #reduce white spaces of any length to empty strings\n",
    "    b = [xb.strip() for xb in b]\n",
    "    #remove empty strings, only the values start with alphanumeric characters\n",
    "    b = [xb for xb in b if(xb!='' and xb[0].isalnum())]\n",
    "    return b"
   ]
  },
  {
   "cell_type": "code",
   "execution_count": 10,
   "id": "0bcff90e",
   "metadata": {},
   "outputs": [
    {
     "data": {
      "text/html": [
       "<div>\n",
       "<style scoped>\n",
       "    .dataframe tbody tr th:only-of-type {\n",
       "        vertical-align: middle;\n",
       "    }\n",
       "\n",
       "    .dataframe tbody tr th {\n",
       "        vertical-align: top;\n",
       "    }\n",
       "\n",
       "    .dataframe thead th {\n",
       "        text-align: right;\n",
       "    }\n",
       "</style>\n",
       "<table border=\"1\" class=\"dataframe\">\n",
       "  <thead>\n",
       "    <tr style=\"text-align: right;\">\n",
       "      <th></th>\n",
       "      <th>Wikipedia movie ID</th>\n",
       "      <th>Freebase movie ID</th>\n",
       "      <th>Movie name</th>\n",
       "      <th>Movie release date</th>\n",
       "      <th>Movie box office revenue</th>\n",
       "      <th>Movie runtime</th>\n",
       "      <th>Movie languages</th>\n",
       "      <th>Movie countries</th>\n",
       "      <th>Movie genres</th>\n",
       "    </tr>\n",
       "  </thead>\n",
       "  <tbody>\n",
       "    <tr>\n",
       "      <th>0</th>\n",
       "      <td>975900</td>\n",
       "      <td>/m/03vyhn</td>\n",
       "      <td>Ghosts of Mars</td>\n",
       "      <td>2001-08-24</td>\n",
       "      <td>14010832.0</td>\n",
       "      <td>98.0</td>\n",
       "      <td>[English Language]</td>\n",
       "      <td>[United States of America]</td>\n",
       "      <td>[Thriller, Science Fiction, Horror, Adventure,...</td>\n",
       "    </tr>\n",
       "    <tr>\n",
       "      <th>1</th>\n",
       "      <td>3196793</td>\n",
       "      <td>/m/08yl5d</td>\n",
       "      <td>Getting Away with Murder: The JonBenét Ramsey ...</td>\n",
       "      <td>2000-02-16</td>\n",
       "      <td>NaN</td>\n",
       "      <td>95.0</td>\n",
       "      <td>[English Language]</td>\n",
       "      <td>[United States of America]</td>\n",
       "      <td>[Mystery, Biographical film, Drama, Crime Drama]</td>\n",
       "    </tr>\n",
       "    <tr>\n",
       "      <th>2</th>\n",
       "      <td>28463795</td>\n",
       "      <td>/m/0crgdbh</td>\n",
       "      <td>Brun bitter</td>\n",
       "      <td>1988</td>\n",
       "      <td>NaN</td>\n",
       "      <td>83.0</td>\n",
       "      <td>[Norwegian Language]</td>\n",
       "      <td>[Norway]</td>\n",
       "      <td>[Crime Fiction, Drama]</td>\n",
       "    </tr>\n",
       "    <tr>\n",
       "      <th>3</th>\n",
       "      <td>9363483</td>\n",
       "      <td>/m/0285_cd</td>\n",
       "      <td>White Of The Eye</td>\n",
       "      <td>1987</td>\n",
       "      <td>NaN</td>\n",
       "      <td>110.0</td>\n",
       "      <td>[English Language]</td>\n",
       "      <td>[United Kingdom]</td>\n",
       "      <td>[Thriller, Erotic thriller, Psychological thri...</td>\n",
       "    </tr>\n",
       "    <tr>\n",
       "      <th>4</th>\n",
       "      <td>261236</td>\n",
       "      <td>/m/01mrr1</td>\n",
       "      <td>A Woman in Flames</td>\n",
       "      <td>1983</td>\n",
       "      <td>NaN</td>\n",
       "      <td>106.0</td>\n",
       "      <td>[German Language]</td>\n",
       "      <td>[Germany]</td>\n",
       "      <td>[Drama]</td>\n",
       "    </tr>\n",
       "  </tbody>\n",
       "</table>\n",
       "</div>"
      ],
      "text/plain": [
       "   Wikipedia movie ID Freebase movie ID  \\\n",
       "0              975900         /m/03vyhn   \n",
       "1             3196793         /m/08yl5d   \n",
       "2            28463795        /m/0crgdbh   \n",
       "3             9363483        /m/0285_cd   \n",
       "4              261236         /m/01mrr1   \n",
       "\n",
       "                                          Movie name Movie release date  \\\n",
       "0                                     Ghosts of Mars         2001-08-24   \n",
       "1  Getting Away with Murder: The JonBenét Ramsey ...         2000-02-16   \n",
       "2                                        Brun bitter               1988   \n",
       "3                                   White Of The Eye               1987   \n",
       "4                                  A Woman in Flames               1983   \n",
       "\n",
       "   Movie box office revenue  Movie runtime       Movie languages  \\\n",
       "0                14010832.0           98.0    [English Language]   \n",
       "1                       NaN           95.0    [English Language]   \n",
       "2                       NaN           83.0  [Norwegian Language]   \n",
       "3                       NaN          110.0    [English Language]   \n",
       "4                       NaN          106.0     [German Language]   \n",
       "\n",
       "              Movie countries  \\\n",
       "0  [United States of America]   \n",
       "1  [United States of America]   \n",
       "2                    [Norway]   \n",
       "3            [United Kingdom]   \n",
       "4                   [Germany]   \n",
       "\n",
       "                                        Movie genres  \n",
       "0  [Thriller, Science Fiction, Horror, Adventure,...  \n",
       "1   [Mystery, Biographical film, Drama, Crime Drama]  \n",
       "2                             [Crime Fiction, Drama]  \n",
       "3  [Thriller, Erotic thriller, Psychological thri...  \n",
       "4                                            [Drama]  "
      ]
     },
     "execution_count": 10,
     "metadata": {},
     "output_type": "execute_result"
    }
   ],
   "source": [
    "#we process our dictionnaries to get lists\n",
    "df_movies['Movie genres']=df_movies['Movie genres'].apply(lambda x : list_process_dict(x))\n",
    "df_movies['Movie languages']=df_movies['Movie languages'].apply(lambda x : list_process_dict(x))\n",
    "df_movies['Movie countries']=df_movies['Movie countries'].apply(lambda x : list_process_dict(x))\n",
    "df_movies.head(5)"
   ]
  },
  {
   "cell_type": "code",
   "execution_count": 11,
   "id": "bdaf4624",
   "metadata": {},
   "outputs": [
    {
     "data": {
      "text/html": [
       "<div>\n",
       "<style scoped>\n",
       "    .dataframe tbody tr th:only-of-type {\n",
       "        vertical-align: middle;\n",
       "    }\n",
       "\n",
       "    .dataframe tbody tr th {\n",
       "        vertical-align: top;\n",
       "    }\n",
       "\n",
       "    .dataframe thead th {\n",
       "        text-align: right;\n",
       "    }\n",
       "</style>\n",
       "<table border=\"1\" class=\"dataframe\">\n",
       "  <thead>\n",
       "    <tr style=\"text-align: right;\">\n",
       "      <th></th>\n",
       "      <th>Movie name</th>\n",
       "      <th>Movie countries</th>\n",
       "      <th>Movie languages</th>\n",
       "      <th>Movie genres</th>\n",
       "    </tr>\n",
       "  </thead>\n",
       "  <tbody>\n",
       "    <tr>\n",
       "      <th>81731</th>\n",
       "      <td>La Ragazza di Trieste</td>\n",
       "      <td>[Italy]</td>\n",
       "      <td>[Italian Language]</td>\n",
       "      <td>[Romance Film, Drama]</td>\n",
       "    </tr>\n",
       "    <tr>\n",
       "      <th>81732</th>\n",
       "      <td>Eşrefpaşalılar</td>\n",
       "      <td>[]</td>\n",
       "      <td>[]</td>\n",
       "      <td>[Comedy film, Drama]</td>\n",
       "    </tr>\n",
       "    <tr>\n",
       "      <th>81733</th>\n",
       "      <td>The Ghost Train</td>\n",
       "      <td>[United Kingdom]</td>\n",
       "      <td>[English Language]</td>\n",
       "      <td>[Crime Fiction, Thriller, Comedy, Supernatural]</td>\n",
       "    </tr>\n",
       "    <tr>\n",
       "      <th>81734</th>\n",
       "      <td>My Love</td>\n",
       "      <td>[Russia]</td>\n",
       "      <td>[Russian Language]</td>\n",
       "      <td>[Short Film]</td>\n",
       "    </tr>\n",
       "    <tr>\n",
       "      <th>81735</th>\n",
       "      <td>Shadow Boxing 2</td>\n",
       "      <td>[Russia]</td>\n",
       "      <td>[Russian Language, English Language]</td>\n",
       "      <td>[Sports, Crime Fiction, Action, Drama]</td>\n",
       "    </tr>\n",
       "    <tr>\n",
       "      <th>81736</th>\n",
       "      <td>Mermaids: The Body Found</td>\n",
       "      <td>[United States of America]</td>\n",
       "      <td>[English Language]</td>\n",
       "      <td>[Drama]</td>\n",
       "    </tr>\n",
       "    <tr>\n",
       "      <th>81737</th>\n",
       "      <td>Knuckle</td>\n",
       "      <td>[Ireland, United Kingdom]</td>\n",
       "      <td>[English Language]</td>\n",
       "      <td>[Biographical film, Drama, Documentary]</td>\n",
       "    </tr>\n",
       "    <tr>\n",
       "      <th>81738</th>\n",
       "      <td>Another Nice Mess</td>\n",
       "      <td>[United States of America]</td>\n",
       "      <td>[English Language]</td>\n",
       "      <td>[Satire, Comedy]</td>\n",
       "    </tr>\n",
       "    <tr>\n",
       "      <th>81739</th>\n",
       "      <td>The Super Dimension Fortress Macross II: Lover...</td>\n",
       "      <td>[Japan]</td>\n",
       "      <td>[Japanese Language]</td>\n",
       "      <td>[Science Fiction, Japanese Movies, Adventure, ...</td>\n",
       "    </tr>\n",
       "    <tr>\n",
       "      <th>81740</th>\n",
       "      <td>Spliced</td>\n",
       "      <td>[Canada]</td>\n",
       "      <td>[English Language]</td>\n",
       "      <td>[Thriller, Horror, Slasher, Teen]</td>\n",
       "    </tr>\n",
       "  </tbody>\n",
       "</table>\n",
       "</div>"
      ],
      "text/plain": [
       "                                              Movie name  \\\n",
       "81731                              La Ragazza di Trieste   \n",
       "81732                                     Eşrefpaşalılar   \n",
       "81733                                    The Ghost Train   \n",
       "81734                                            My Love   \n",
       "81735                                    Shadow Boxing 2   \n",
       "81736                           Mermaids: The Body Found   \n",
       "81737                                            Knuckle   \n",
       "81738                                  Another Nice Mess   \n",
       "81739  The Super Dimension Fortress Macross II: Lover...   \n",
       "81740                                            Spliced   \n",
       "\n",
       "                  Movie countries                       Movie languages  \\\n",
       "81731                     [Italy]                    [Italian Language]   \n",
       "81732                          []                                    []   \n",
       "81733            [United Kingdom]                    [English Language]   \n",
       "81734                    [Russia]                    [Russian Language]   \n",
       "81735                    [Russia]  [Russian Language, English Language]   \n",
       "81736  [United States of America]                    [English Language]   \n",
       "81737   [Ireland, United Kingdom]                    [English Language]   \n",
       "81738  [United States of America]                    [English Language]   \n",
       "81739                     [Japan]                   [Japanese Language]   \n",
       "81740                    [Canada]                    [English Language]   \n",
       "\n",
       "                                            Movie genres  \n",
       "81731                              [Romance Film, Drama]  \n",
       "81732                               [Comedy film, Drama]  \n",
       "81733    [Crime Fiction, Thriller, Comedy, Supernatural]  \n",
       "81734                                       [Short Film]  \n",
       "81735             [Sports, Crime Fiction, Action, Drama]  \n",
       "81736                                            [Drama]  \n",
       "81737            [Biographical film, Drama, Documentary]  \n",
       "81738                                   [Satire, Comedy]  \n",
       "81739  [Science Fiction, Japanese Movies, Adventure, ...  \n",
       "81740                  [Thriller, Horror, Slasher, Teen]  "
      ]
     },
     "execution_count": 11,
     "metadata": {},
     "output_type": "execute_result"
    }
   ],
   "source": [
    "df_movies[['Movie name', 'Movie countries', 'Movie languages', 'Movie genres']].tail(10)"
   ]
  },
  {
   "cell_type": "markdown",
   "id": "f3afcd56",
   "metadata": {},
   "source": [
    "***\n",
    "Furthermore, after doing this previous preprocessing, we discover that some movies have empty lists in the fields : 'Movie countries', 'Movie languages', 'Movie genres'\n",
    "***"
   ]
  },
  {
   "cell_type": "markdown",
   "id": "56e977da",
   "metadata": {},
   "source": [
    "***so we proceed by replacing all the empty lists and empty titles ( if there is any ) by nan values***"
   ]
  },
  {
   "cell_type": "code",
   "execution_count": 12,
   "id": "ffba7e9a",
   "metadata": {},
   "outputs": [],
   "source": [
    "#we change all the empty lists and empty name fields with nan values\n",
    "df_movies['Movie countries'] = df_movies['Movie countries'].apply(lambda x : np.nan if(not x) else x)\n",
    "df_movies['Movie languages'] = df_movies['Movie languages'].apply(lambda x : np.nan if(not x) else x)\n",
    "df_movies['Movie genres'] = df_movies['Movie genres'].apply(lambda x : np.nan if(not x) else x)\n",
    "df_movies['Movie name'] = df_movies['Movie name'].apply(lambda x : np.nan if(not x) else x)"
   ]
  },
  {
   "cell_type": "code",
   "execution_count": 13,
   "id": "90f2c9e1",
   "metadata": {},
   "outputs": [
    {
     "name": "stdout",
     "output_type": "stream",
     "text": [
      "<class 'pandas.core.frame.DataFrame'>\n",
      "RangeIndex: 81741 entries, 0 to 81740\n",
      "Data columns (total 9 columns):\n",
      " #   Column                    Non-Null Count  Dtype  \n",
      "---  ------                    --------------  -----  \n",
      " 0   Wikipedia movie ID        81741 non-null  int64  \n",
      " 1   Freebase movie ID         81741 non-null  object \n",
      " 2   Movie name                81741 non-null  object \n",
      " 3   Movie release date        74839 non-null  object \n",
      " 4   Movie box office revenue  8401 non-null   float64\n",
      " 5   Movie runtime             61291 non-null  float64\n",
      " 6   Movie languages           67875 non-null  object \n",
      " 7   Movie countries           73587 non-null  object \n",
      " 8   Movie genres              79447 non-null  object \n",
      "dtypes: float64(2), int64(1), object(6)\n",
      "memory usage: 5.6+ MB\n"
     ]
    }
   ],
   "source": [
    "df_movies.info()"
   ]
  },
  {
   "cell_type": "markdown",
   "id": "847978ba",
   "metadata": {},
   "source": [
    "**we notice that in addition to the previous infos we analysed:**\n",
    "* we are indeed missing some values in the Movie languages : (13 866 null values)\n",
    "* we are missing some values in the Movie countries : (8153 null values)\n",
    "* we are missing some values in the Movie genres : (2294 null values)"
   ]
  },
  {
   "cell_type": "markdown",
   "id": "50ee62bf",
   "metadata": {},
   "source": [
    "## for now we drop all na values :"
   ]
  },
  {
   "cell_type": "code",
   "execution_count": 14,
   "id": "1d5ab376",
   "metadata": {},
   "outputs": [],
   "source": [
    "df_movies = df_movies.dropna()\n",
    "\n",
    "#we add a column called year released to make it easier to visualize \n",
    "#the distribution of the number movies released over the years \n",
    "#to do so :we split our string field date using the '-' seperator\n",
    "years = df_movies['Movie release date'].copy().astype('str').apply(lambda x : x.split('-')[0])\n",
    "df_movies.insert(4, \"Year released\", years, True)\n"
   ]
  },
  {
   "cell_type": "markdown",
   "id": "61446eae",
   "metadata": {},
   "source": [
    "***\n",
    "### In the following section, we will identify our constraints on the dataset :\n",
    "* we start by exploding each one of the categorical fields we have (namely : genre, countries)"
   ]
  },
  {
   "cell_type": "code",
   "execution_count": 15,
   "id": "f6e05f97",
   "metadata": {},
   "outputs": [],
   "source": [
    "copie1 = df_movies.copy().explode('Movie countries')\n",
    "copie2 = df_movies.copy().explode('Movie genres')"
   ]
  },
  {
   "cell_type": "markdown",
   "id": "1199fade",
   "metadata": {},
   "source": [
    "* Followed by an analysis of the value count within the Movie countries field :"
   ]
  },
  {
   "cell_type": "code",
   "execution_count": 16,
   "id": "ec93bcd0",
   "metadata": {},
   "outputs": [],
   "source": [
    "count_countries = copie1['Movie countries'].value_counts()\n",
    "count_gen = copie2['Movie genres'].value_counts()"
   ]
  },
  {
   "cell_type": "code",
   "execution_count": 17,
   "id": "160f15d9",
   "metadata": {},
   "outputs": [
    {
     "name": "stdout",
     "output_type": "stream",
     "text": [
      "We have 88 different countries\n",
      "Here are the top 10 countries with the most movies in our dataset :\n"
     ]
    },
    {
     "data": {
      "text/plain": [
       "United States of America    6779\n",
       "United Kingdom               926\n",
       "France                       492\n",
       "Germany                      444\n",
       "Canada                       325\n",
       "South Korea                  239\n",
       "Japan                        197\n",
       "Australia                    165\n",
       "Italy                        149\n",
       "Spain                         95\n",
       "Name: Movie countries, dtype: int64"
      ]
     },
     "execution_count": 17,
     "metadata": {},
     "output_type": "execute_result"
    }
   ],
   "source": [
    "print(\"We have \" + str(len(count_countries)) +\" different countries\")\n",
    "print(\"Here are the top 10 countries with the most movies in our dataset :\")\n",
    "count_countries[:10]"
   ]
  },
  {
   "cell_type": "code",
   "execution_count": 18,
   "id": "aa387d6e",
   "metadata": {},
   "outputs": [
    {
     "data": {
      "image/png": "[encoded data removed]",
      "text/plain": [
       "<Figure size 432x288 with 1 Axes>"
      ]
     },
     "metadata": {
      "needs_background": "light"
     },
     "output_type": "display_data"
    }
   ],
   "source": [
    "#horizontal bar plot of count_countries\n",
    "plt.barh(count_countries.index[:20], count_countries[:20])\n",
    "plt.title(\"Distribution of movies countries count\")\n",
    "plt.show()"
   ]
  },
  {
   "cell_type": "markdown",
   "id": "33e212b8",
   "metadata": {},
   "source": [
    "### In light of these obtained results, we decided to constraint our data analysis to movies that were released in the U.S only. This will help us deal with the inflation effeciently by only considering US inflation over the years (more informations further down)"
   ]
  },
  {
   "cell_type": "markdown",
   "id": "8c2a0214",
   "metadata": {},
   "source": [
    "### 3. Constraining:"
   ]
  },
  {
   "cell_type": "code",
   "execution_count": 19,
   "id": "69b91e01",
   "metadata": {},
   "outputs": [
    {
     "data": {
      "text/html": [
       "<div>\n",
       "<style scoped>\n",
       "    .dataframe tbody tr th:only-of-type {\n",
       "        vertical-align: middle;\n",
       "    }\n",
       "\n",
       "    .dataframe tbody tr th {\n",
       "        vertical-align: top;\n",
       "    }\n",
       "\n",
       "    .dataframe thead th {\n",
       "        text-align: right;\n",
       "    }\n",
       "</style>\n",
       "<table border=\"1\" class=\"dataframe\">\n",
       "  <thead>\n",
       "    <tr style=\"text-align: right;\">\n",
       "      <th></th>\n",
       "      <th>Wikipedia movie ID</th>\n",
       "      <th>Freebase movie ID</th>\n",
       "      <th>Movie name</th>\n",
       "      <th>Movie release date</th>\n",
       "      <th>Year released</th>\n",
       "      <th>Movie box office revenue</th>\n",
       "      <th>Movie runtime</th>\n",
       "      <th>Movie languages</th>\n",
       "      <th>Movie countries</th>\n",
       "      <th>Movie genres</th>\n",
       "    </tr>\n",
       "  </thead>\n",
       "  <tbody>\n",
       "    <tr>\n",
       "      <th>0</th>\n",
       "      <td>975900</td>\n",
       "      <td>/m/03vyhn</td>\n",
       "      <td>Ghosts of Mars</td>\n",
       "      <td>2001-08-24</td>\n",
       "      <td>2001</td>\n",
       "      <td>14010832.0</td>\n",
       "      <td>98.0</td>\n",
       "      <td>[English Language]</td>\n",
       "      <td>United States of America</td>\n",
       "      <td>[Thriller, Science Fiction, Horror, Adventure,...</td>\n",
       "    </tr>\n",
       "    <tr>\n",
       "      <th>7</th>\n",
       "      <td>10408933</td>\n",
       "      <td>/m/02qc0j7</td>\n",
       "      <td>Alexander's Ragtime Band</td>\n",
       "      <td>1938-08-16</td>\n",
       "      <td>1938</td>\n",
       "      <td>3600000.0</td>\n",
       "      <td>106.0</td>\n",
       "      <td>[English Language]</td>\n",
       "      <td>United States of America</td>\n",
       "      <td>[Musical, Comedy, Black-and-white]</td>\n",
       "    </tr>\n",
       "    <tr>\n",
       "      <th>17</th>\n",
       "      <td>77856</td>\n",
       "      <td>/m/0kcn7</td>\n",
       "      <td>Mary Poppins</td>\n",
       "      <td>1964-08-27</td>\n",
       "      <td>1964</td>\n",
       "      <td>102272727.0</td>\n",
       "      <td>139.0</td>\n",
       "      <td>[English Language]</td>\n",
       "      <td>United States of America</td>\n",
       "      <td>[Children's/Family, Musical, Fantasy, Comedy, ...</td>\n",
       "    </tr>\n",
       "  </tbody>\n",
       "</table>\n",
       "</div>"
      ],
      "text/plain": [
       "    Wikipedia movie ID Freebase movie ID                Movie name  \\\n",
       "0               975900         /m/03vyhn            Ghosts of Mars   \n",
       "7             10408933        /m/02qc0j7  Alexander's Ragtime Band   \n",
       "17               77856          /m/0kcn7              Mary Poppins   \n",
       "\n",
       "   Movie release date Year released  Movie box office revenue  Movie runtime  \\\n",
       "0          2001-08-24          2001                14010832.0           98.0   \n",
       "7          1938-08-16          1938                 3600000.0          106.0   \n",
       "17         1964-08-27          1964               102272727.0          139.0   \n",
       "\n",
       "       Movie languages           Movie countries  \\\n",
       "0   [English Language]  United States of America   \n",
       "7   [English Language]  United States of America   \n",
       "17  [English Language]  United States of America   \n",
       "\n",
       "                                         Movie genres  \n",
       "0   [Thriller, Science Fiction, Horror, Adventure,...  \n",
       "7                  [Musical, Comedy, Black-and-white]  \n",
       "17  [Children's/Family, Musical, Fantasy, Comedy, ...  "
      ]
     },
     "execution_count": 19,
     "metadata": {},
     "output_type": "execute_result"
    }
   ],
   "source": [
    "#Us constraint language \n",
    "exploded_countries = df_movies.copy().explode('Movie countries')\n",
    "only_us_movies = exploded_countries[exploded_countries['Movie countries'] == 'United States of America']\n",
    "only_us_movies.head(3)"
   ]
  },
  {
   "cell_type": "code",
   "execution_count": 20,
   "id": "228848d4",
   "metadata": {},
   "outputs": [
    {
     "name": "stdout",
     "output_type": "stream",
     "text": [
      "We have 118 different languages\n",
      "Here are the top 10 languages with the most movies in our dataset :\n"
     ]
    },
    {
     "data": {
      "text/plain": [
       "English Language     6752\n",
       "Spanish Language      351\n",
       "French Language       324\n",
       "German Language       191\n",
       "Italian Language      176\n",
       "Russian Language      140\n",
       "Japanese Language     112\n",
       "Standard Mandarin      61\n",
       "Arabic Language        60\n",
       "Latin Language         37\n",
       "Name: Movie languages, dtype: int64"
      ]
     },
     "execution_count": 20,
     "metadata": {},
     "output_type": "execute_result"
    }
   ],
   "source": [
    "#next, we look at the distribution of our languages after our constrain\n",
    "df_movies = only_us_movies.copy()\n",
    "copie3 = df_movies.copy().explode('Movie languages')\n",
    "count_lang = copie3['Movie languages'].value_counts()\n",
    "print(\"We have \" + str(len(count_lang)) +\" different languages\")\n",
    "print(\"Here are the top 10 languages with the most movies in our dataset :\")\n",
    "count_lang[:10]"
   ]
  },
  {
   "cell_type": "code",
   "execution_count": 21,
   "id": "33efd771",
   "metadata": {},
   "outputs": [
    {
     "data": {
      "image/png": "[encoded data removed]",
      "text/plain": [
       "<Figure size 432x288 with 1 Axes>"
      ]
     },
     "metadata": {
      "needs_background": "light"
     },
     "output_type": "display_data"
    }
   ],
   "source": [
    "#horizontal bar plot of languages count\n",
    "plt.barh(count_lang.index[:20], count_lang[:20])\n",
    "plt.title(\"Distribution of languages count\")\n",
    "plt.show()"
   ]
  },
  {
   "cell_type": "markdown",
   "id": "0a213c51",
   "metadata": {},
   "source": [
    "***\n",
    "* Timeline constraint : We wanted to constraint our data analysis to the period from 1980 to 2010"
   ]
  },
  {
   "cell_type": "code",
   "execution_count": 22,
   "id": "a9e2f4fb",
   "metadata": {},
   "outputs": [
    {
     "name": "stdout",
     "output_type": "stream",
     "text": [
      "Percentage of movies released between 1980 and 2010 over the total number of movies in the dataset is :\n",
      "73.84569995574569 %\n"
     ]
    }
   ],
   "source": [
    "#compute the percentage our movies that were released between the period 1980 to 2010 in our dataset\n",
    "count_year = df_movies['Year released'].value_counts()\n",
    "count_year.index=count_year.index.astype(int)\n",
    "count_year= count_year.sort_index()\n",
    "percentage = (np.sum(count_year.loc[1980:2010])/len(df_movies))*100\n",
    "print(\"Percentage of movies released between 1980 and 2010 over the total number of movies in the dataset is :\")\n",
    "print(str(percentage) + \" %\")"
   ]
  },
  {
   "cell_type": "markdown",
   "id": "9854f583",
   "metadata": {},
   "source": [
    "***comments :***\n",
    "* Our time constraint is indeed justified, since ~74% of the movies were released between our constrained timeline"
   ]
  },
  {
   "cell_type": "markdown",
   "id": "210fdddb",
   "metadata": {},
   "source": [
    "***"
   ]
  },
  {
   "cell_type": "code",
   "execution_count": 23,
   "id": "f94bf9e9",
   "metadata": {},
   "outputs": [],
   "source": [
    "df_movies['Year released'] = df_movies['Year released'].astype(int)"
   ]
  },
  {
   "cell_type": "code",
   "execution_count": 24,
   "id": "a4d81777",
   "metadata": {},
   "outputs": [
    {
     "name": "stdout",
     "output_type": "stream",
     "text": [
      "The cmu dataset now has length: 5006\n"
     ]
    },
    {
     "data": {
      "text/html": [
       "<div>\n",
       "<style scoped>\n",
       "    .dataframe tbody tr th:only-of-type {\n",
       "        vertical-align: middle;\n",
       "    }\n",
       "\n",
       "    .dataframe tbody tr th {\n",
       "        vertical-align: top;\n",
       "    }\n",
       "\n",
       "    .dataframe thead th {\n",
       "        text-align: right;\n",
       "    }\n",
       "</style>\n",
       "<table border=\"1\" class=\"dataframe\">\n",
       "  <thead>\n",
       "    <tr style=\"text-align: right;\">\n",
       "      <th></th>\n",
       "      <th>Wikipedia movie ID</th>\n",
       "      <th>Freebase movie ID</th>\n",
       "      <th>Movie name</th>\n",
       "      <th>Movie release date</th>\n",
       "      <th>Year released</th>\n",
       "      <th>Movie box office revenue</th>\n",
       "      <th>Movie runtime</th>\n",
       "      <th>Movie languages</th>\n",
       "      <th>Movie countries</th>\n",
       "      <th>Movie genres</th>\n",
       "    </tr>\n",
       "  </thead>\n",
       "  <tbody>\n",
       "    <tr>\n",
       "      <th>0</th>\n",
       "      <td>975900</td>\n",
       "      <td>/m/03vyhn</td>\n",
       "      <td>Ghosts of Mars</td>\n",
       "      <td>2001-08-24</td>\n",
       "      <td>2001</td>\n",
       "      <td>14010832.0</td>\n",
       "      <td>98.0</td>\n",
       "      <td>[English Language]</td>\n",
       "      <td>United States of America</td>\n",
       "      <td>[Thriller, Science Fiction, Horror, Adventure,...</td>\n",
       "    </tr>\n",
       "    <tr>\n",
       "      <th>1</th>\n",
       "      <td>612710</td>\n",
       "      <td>/m/02wjqm</td>\n",
       "      <td>New Rose Hotel</td>\n",
       "      <td>1999-10-01</td>\n",
       "      <td>1999</td>\n",
       "      <td>21521.0</td>\n",
       "      <td>92.0</td>\n",
       "      <td>[English Language]</td>\n",
       "      <td>United States of America</td>\n",
       "      <td>[Thriller, Science Fiction, Future noir, Indie...</td>\n",
       "    </tr>\n",
       "    <tr>\n",
       "      <th>2</th>\n",
       "      <td>156558</td>\n",
       "      <td>/m/014k4y</td>\n",
       "      <td>Baby Boy</td>\n",
       "      <td>2001-06-27</td>\n",
       "      <td>2001</td>\n",
       "      <td>29381649.0</td>\n",
       "      <td>123.0</td>\n",
       "      <td>[English Language]</td>\n",
       "      <td>United States of America</td>\n",
       "      <td>[Crime Fiction, Drama, Coming of age]</td>\n",
       "    </tr>\n",
       "    <tr>\n",
       "      <th>3</th>\n",
       "      <td>12008535</td>\n",
       "      <td>/m/02vlsqt</td>\n",
       "      <td>Rudo y Cursi</td>\n",
       "      <td>2008</td>\n",
       "      <td>2008</td>\n",
       "      <td>11091868.0</td>\n",
       "      <td>103.0</td>\n",
       "      <td>[Spanish Language]</td>\n",
       "      <td>United States of America</td>\n",
       "      <td>[Sports, Drama, Family Drama, Comedy-drama, Co...</td>\n",
       "    </tr>\n",
       "    <tr>\n",
       "      <th>4</th>\n",
       "      <td>4951456</td>\n",
       "      <td>/m/0cws46</td>\n",
       "      <td>Kinjite: Forbidden Subjects</td>\n",
       "      <td>1989</td>\n",
       "      <td>1989</td>\n",
       "      <td>3416846.0</td>\n",
       "      <td>97.0</td>\n",
       "      <td>[English Language]</td>\n",
       "      <td>United States of America</td>\n",
       "      <td>[Crime Fiction, Action/Adventure, Action, Thri...</td>\n",
       "    </tr>\n",
       "  </tbody>\n",
       "</table>\n",
       "</div>"
      ],
      "text/plain": [
       "   Wikipedia movie ID Freebase movie ID                   Movie name  \\\n",
       "0              975900         /m/03vyhn               Ghosts of Mars   \n",
       "1              612710         /m/02wjqm               New Rose Hotel   \n",
       "2              156558         /m/014k4y                     Baby Boy   \n",
       "3            12008535        /m/02vlsqt                 Rudo y Cursi   \n",
       "4             4951456         /m/0cws46  Kinjite: Forbidden Subjects   \n",
       "\n",
       "  Movie release date  Year released  Movie box office revenue  Movie runtime  \\\n",
       "0         2001-08-24           2001                14010832.0           98.0   \n",
       "1         1999-10-01           1999                   21521.0           92.0   \n",
       "2         2001-06-27           2001                29381649.0          123.0   \n",
       "3               2008           2008                11091868.0          103.0   \n",
       "4               1989           1989                 3416846.0           97.0   \n",
       "\n",
       "      Movie languages           Movie countries  \\\n",
       "0  [English Language]  United States of America   \n",
       "1  [English Language]  United States of America   \n",
       "2  [English Language]  United States of America   \n",
       "3  [Spanish Language]  United States of America   \n",
       "4  [English Language]  United States of America   \n",
       "\n",
       "                                        Movie genres  \n",
       "0  [Thriller, Science Fiction, Horror, Adventure,...  \n",
       "1  [Thriller, Science Fiction, Future noir, Indie...  \n",
       "2              [Crime Fiction, Drama, Coming of age]  \n",
       "3  [Sports, Drama, Family Drama, Comedy-drama, Co...  \n",
       "4  [Crime Fiction, Action/Adventure, Action, Thri...  "
      ]
     },
     "execution_count": 24,
     "metadata": {},
     "output_type": "execute_result"
    }
   ],
   "source": [
    "df_movies = df_movies[df_movies['Year released']>=1980]\n",
    "df_movies = df_movies[df_movies['Year released']<=2010]\n",
    "df_movies.reset_index(drop=True, inplace=True)\n",
    "print(\"The cmu dataset now has length: \"+str(len(df_movies)))\n",
    "df_movies.head()"
   ]
  },
  {
   "cell_type": "markdown",
   "id": "1b03fd88",
   "metadata": {},
   "source": [
    "***After performing web scraping for budgets (and revenues at the same time), we will attempt to merge our scraped data with the initial cmu dataset in case we get some prevously unknown revenues***"
   ]
  },
  {
   "cell_type": "markdown",
   "id": "e6de93a9",
   "metadata": {},
   "source": [
    "## 4. Merging with additionnal datasets:"
   ]
  },
  {
   "cell_type": "code",
   "execution_count": 25,
   "id": "dcbda190",
   "metadata": {},
   "outputs": [
    {
     "data": {
      "text/html": [
       "<div>\n",
       "<style scoped>\n",
       "    .dataframe tbody tr th:only-of-type {\n",
       "        vertical-align: middle;\n",
       "    }\n",
       "\n",
       "    .dataframe tbody tr th {\n",
       "        vertical-align: top;\n",
       "    }\n",
       "\n",
       "    .dataframe thead th {\n",
       "        text-align: right;\n",
       "    }\n",
       "</style>\n",
       "<table border=\"1\" class=\"dataframe\">\n",
       "  <thead>\n",
       "    <tr style=\"text-align: right;\">\n",
       "      <th></th>\n",
       "      <th>Wikipedia movie ID</th>\n",
       "      <th>Freebase movie ID</th>\n",
       "      <th>Movie name</th>\n",
       "      <th>Movie release date</th>\n",
       "      <th>Year released</th>\n",
       "      <th>Movie box office revenue</th>\n",
       "      <th>Movie runtime</th>\n",
       "      <th>Movie languages</th>\n",
       "      <th>Movie countries</th>\n",
       "      <th>Movie genres</th>\n",
       "    </tr>\n",
       "  </thead>\n",
       "  <tbody>\n",
       "    <tr>\n",
       "      <th>0</th>\n",
       "      <td>975900</td>\n",
       "      <td>/m/03vyhn</td>\n",
       "      <td>Ghosts of Mars</td>\n",
       "      <td>2001-08-24</td>\n",
       "      <td>2001</td>\n",
       "      <td>14010832.0</td>\n",
       "      <td>98.0</td>\n",
       "      <td>{\"/m/02h40lc\": \"English Language\"}</td>\n",
       "      <td>{\"/m/09c7w0\": \"United States of America\"}</td>\n",
       "      <td>{\"/m/01jfsb\": \"Thriller\", \"/m/06n90\": \"Science...</td>\n",
       "    </tr>\n",
       "    <tr>\n",
       "      <th>1</th>\n",
       "      <td>3196793</td>\n",
       "      <td>/m/08yl5d</td>\n",
       "      <td>Getting Away with Murder: The JonBenét Ramsey ...</td>\n",
       "      <td>2000-02-16</td>\n",
       "      <td>2000</td>\n",
       "      <td>NaN</td>\n",
       "      <td>95.0</td>\n",
       "      <td>{\"/m/02h40lc\": \"English Language\"}</td>\n",
       "      <td>{\"/m/09c7w0\": \"United States of America\"}</td>\n",
       "      <td>{\"/m/02n4kr\": \"Mystery\", \"/m/03bxz7\": \"Biograp...</td>\n",
       "    </tr>\n",
       "    <tr>\n",
       "      <th>2</th>\n",
       "      <td>28463795</td>\n",
       "      <td>/m/0crgdbh</td>\n",
       "      <td>Brun bitter</td>\n",
       "      <td>1988</td>\n",
       "      <td>1988</td>\n",
       "      <td>NaN</td>\n",
       "      <td>83.0</td>\n",
       "      <td>{\"/m/05f_3\": \"Norwegian Language\"}</td>\n",
       "      <td>{\"/m/05b4w\": \"Norway\"}</td>\n",
       "      <td>{\"/m/0lsxr\": \"Crime Fiction\", \"/m/07s9rl0\": \"D...</td>\n",
       "    </tr>\n",
       "    <tr>\n",
       "      <th>3</th>\n",
       "      <td>9363483</td>\n",
       "      <td>/m/0285_cd</td>\n",
       "      <td>White Of The Eye</td>\n",
       "      <td>1987</td>\n",
       "      <td>1987</td>\n",
       "      <td>NaN</td>\n",
       "      <td>110.0</td>\n",
       "      <td>{\"/m/02h40lc\": \"English Language\"}</td>\n",
       "      <td>{\"/m/07ssc\": \"United Kingdom\"}</td>\n",
       "      <td>{\"/m/01jfsb\": \"Thriller\", \"/m/0glj9q\": \"Erotic...</td>\n",
       "    </tr>\n",
       "    <tr>\n",
       "      <th>4</th>\n",
       "      <td>261236</td>\n",
       "      <td>/m/01mrr1</td>\n",
       "      <td>A Woman in Flames</td>\n",
       "      <td>1983</td>\n",
       "      <td>1983</td>\n",
       "      <td>NaN</td>\n",
       "      <td>106.0</td>\n",
       "      <td>{\"/m/04306rv\": \"German Language\"}</td>\n",
       "      <td>{\"/m/0345h\": \"Germany\"}</td>\n",
       "      <td>{\"/m/07s9rl0\": \"Drama\"}</td>\n",
       "    </tr>\n",
       "  </tbody>\n",
       "</table>\n",
       "</div>"
      ],
      "text/plain": [
       "   Wikipedia movie ID Freebase movie ID  \\\n",
       "0              975900         /m/03vyhn   \n",
       "1             3196793         /m/08yl5d   \n",
       "2            28463795        /m/0crgdbh   \n",
       "3             9363483        /m/0285_cd   \n",
       "4              261236         /m/01mrr1   \n",
       "\n",
       "                                          Movie name Movie release date  \\\n",
       "0                                     Ghosts of Mars         2001-08-24   \n",
       "1  Getting Away with Murder: The JonBenét Ramsey ...         2000-02-16   \n",
       "2                                        Brun bitter               1988   \n",
       "3                                   White Of The Eye               1987   \n",
       "4                                  A Woman in Flames               1983   \n",
       "\n",
       "   Year released  Movie box office revenue  Movie runtime  \\\n",
       "0           2001                14010832.0           98.0   \n",
       "1           2000                       NaN           95.0   \n",
       "2           1988                       NaN           83.0   \n",
       "3           1987                       NaN          110.0   \n",
       "4           1983                       NaN          106.0   \n",
       "\n",
       "                      Movie languages  \\\n",
       "0  {\"/m/02h40lc\": \"English Language\"}   \n",
       "1  {\"/m/02h40lc\": \"English Language\"}   \n",
       "2  {\"/m/05f_3\": \"Norwegian Language\"}   \n",
       "3  {\"/m/02h40lc\": \"English Language\"}   \n",
       "4   {\"/m/04306rv\": \"German Language\"}   \n",
       "\n",
       "                             Movie countries  \\\n",
       "0  {\"/m/09c7w0\": \"United States of America\"}   \n",
       "1  {\"/m/09c7w0\": \"United States of America\"}   \n",
       "2                     {\"/m/05b4w\": \"Norway\"}   \n",
       "3             {\"/m/07ssc\": \"United Kingdom\"}   \n",
       "4                    {\"/m/0345h\": \"Germany\"}   \n",
       "\n",
       "                                        Movie genres  \n",
       "0  {\"/m/01jfsb\": \"Thriller\", \"/m/06n90\": \"Science...  \n",
       "1  {\"/m/02n4kr\": \"Mystery\", \"/m/03bxz7\": \"Biograp...  \n",
       "2  {\"/m/0lsxr\": \"Crime Fiction\", \"/m/07s9rl0\": \"D...  \n",
       "3  {\"/m/01jfsb\": \"Thriller\", \"/m/0glj9q\": \"Erotic...  \n",
       "4                            {\"/m/07s9rl0\": \"Drama\"}  "
      ]
     },
     "execution_count": 25,
     "metadata": {},
     "output_type": "execute_result"
    }
   ],
   "source": [
    "#loading initial cmu dataset\n",
    "colnames=[\"Wikipedia movie ID\",\"Freebase movie ID\",\"Movie name\",\"Movie release date\",\"Movie box office revenue\",\"Movie runtime\",\"Movie languages\",\"Movie countries\",\"Movie genres\"]\n",
    "df_test = pd.read_csv(cmu_folder+'movie.metadata.tsv', sep=\"\\t\", names = colnames)\n",
    "years = df_test['Movie release date'].copy().astype('str').apply(lambda x : x.split('-')[0])\n",
    "df_test.insert(4, \"Year released\", years, True)\n",
    "df_test= df_test[df_test['Year released']!='nan']\n",
    "df_test['Year released'] = df_test['Year released'].astype(int)\n",
    "df_test.head(5)"
   ]
  },
  {
   "cell_type": "code",
   "execution_count": 26,
   "id": "7613aa41",
   "metadata": {},
   "outputs": [
    {
     "data": {
      "text/html": [
       "<div>\n",
       "<style scoped>\n",
       "    .dataframe tbody tr th:only-of-type {\n",
       "        vertical-align: middle;\n",
       "    }\n",
       "\n",
       "    .dataframe tbody tr th {\n",
       "        vertical-align: top;\n",
       "    }\n",
       "\n",
       "    .dataframe thead th {\n",
       "        text-align: right;\n",
       "    }\n",
       "</style>\n",
       "<table border=\"1\" class=\"dataframe\">\n",
       "  <thead>\n",
       "    <tr style=\"text-align: right;\">\n",
       "      <th></th>\n",
       "      <th>name</th>\n",
       "      <th>revenue</th>\n",
       "      <th>budget</th>\n",
       "    </tr>\n",
       "  </thead>\n",
       "  <tbody>\n",
       "    <tr>\n",
       "      <th>0</th>\n",
       "      <td>/m/03vyhn</td>\n",
       "      <td>14010832</td>\n",
       "      <td>28000000</td>\n",
       "    </tr>\n",
       "    <tr>\n",
       "      <th>1</th>\n",
       "      <td>/m/02qc0j7</td>\n",
       "      <td>4000000</td>\n",
       "      <td>2000000</td>\n",
       "    </tr>\n",
       "    <tr>\n",
       "      <th>2</th>\n",
       "      <td>/m/0kcn7</td>\n",
       "      <td>103082380</td>\n",
       "      <td>6000000</td>\n",
       "    </tr>\n",
       "    <tr>\n",
       "      <th>3</th>\n",
       "      <td>/m/014k4y</td>\n",
       "      <td>29381649</td>\n",
       "      <td>16000000</td>\n",
       "    </tr>\n",
       "    <tr>\n",
       "      <th>4</th>\n",
       "      <td>/m/0b6kc_5</td>\n",
       "      <td>6718</td>\n",
       "      <td>4000000</td>\n",
       "    </tr>\n",
       "  </tbody>\n",
       "</table>\n",
       "</div>"
      ],
      "text/plain": [
       "         name    revenue    budget\n",
       "0   /m/03vyhn   14010832  28000000\n",
       "1  /m/02qc0j7    4000000   2000000\n",
       "2    /m/0kcn7  103082380   6000000\n",
       "3   /m/014k4y   29381649  16000000\n",
       "4  /m/0b6kc_5       6718   4000000"
      ]
     },
     "execution_count": 26,
     "metadata": {},
     "output_type": "execute_result"
    }
   ],
   "source": [
    "# loading scraped tmdb, data was queried over us movies present in cmu data\n",
    "df_tmdb_scrape = pd.read_csv(scraping_folder+'tmdb_scrape.csv')\n",
    "df_tmdb_scrape.head(5)"
   ]
  },
  {
   "cell_type": "code",
   "execution_count": 27,
   "id": "ac7b3778",
   "metadata": {},
   "outputs": [
    {
     "data": {
      "text/html": [
       "<div>\n",
       "<style scoped>\n",
       "    .dataframe tbody tr th:only-of-type {\n",
       "        vertical-align: middle;\n",
       "    }\n",
       "\n",
       "    .dataframe tbody tr th {\n",
       "        vertical-align: top;\n",
       "    }\n",
       "\n",
       "    .dataframe thead th {\n",
       "        text-align: right;\n",
       "    }\n",
       "</style>\n",
       "<table border=\"1\" class=\"dataframe\">\n",
       "  <thead>\n",
       "    <tr style=\"text-align: right;\">\n",
       "      <th></th>\n",
       "      <th>Wikipedia movie ID</th>\n",
       "      <th>Freebase movie ID</th>\n",
       "      <th>Movie name</th>\n",
       "      <th>Movie release date</th>\n",
       "      <th>Year released</th>\n",
       "      <th>Movie box office revenue</th>\n",
       "      <th>Movie runtime</th>\n",
       "      <th>Movie languages</th>\n",
       "      <th>Movie countries</th>\n",
       "      <th>Movie genres</th>\n",
       "      <th>revenue</th>\n",
       "      <th>budget</th>\n",
       "    </tr>\n",
       "  </thead>\n",
       "  <tbody>\n",
       "    <tr>\n",
       "      <th>0</th>\n",
       "      <td>975900</td>\n",
       "      <td>/m/03vyhn</td>\n",
       "      <td>Ghosts of Mars</td>\n",
       "      <td>2001-08-24</td>\n",
       "      <td>2001</td>\n",
       "      <td>14010832.0</td>\n",
       "      <td>98.0</td>\n",
       "      <td>{\"/m/02h40lc\": \"English Language\"}</td>\n",
       "      <td>{\"/m/09c7w0\": \"United States of America\"}</td>\n",
       "      <td>{\"/m/01jfsb\": \"Thriller\", \"/m/06n90\": \"Science...</td>\n",
       "      <td>14010832</td>\n",
       "      <td>28000000</td>\n",
       "    </tr>\n",
       "    <tr>\n",
       "      <th>3</th>\n",
       "      <td>156558</td>\n",
       "      <td>/m/014k4y</td>\n",
       "      <td>Baby Boy</td>\n",
       "      <td>2001-06-27</td>\n",
       "      <td>2001</td>\n",
       "      <td>29381649.0</td>\n",
       "      <td>123.0</td>\n",
       "      <td>{\"/m/02h40lc\": \"English Language\"}</td>\n",
       "      <td>{\"/m/09c7w0\": \"United States of America\"}</td>\n",
       "      <td>{\"/m/0lsxr\": \"Crime Fiction\", \"/m/07s9rl0\": \"D...</td>\n",
       "      <td>29381649</td>\n",
       "      <td>16000000</td>\n",
       "    </tr>\n",
       "    <tr>\n",
       "      <th>4</th>\n",
       "      <td>25960460</td>\n",
       "      <td>/m/0b6kc_5</td>\n",
       "      <td>Daddy and Them</td>\n",
       "      <td>2001</td>\n",
       "      <td>2001</td>\n",
       "      <td>NaN</td>\n",
       "      <td>101.0</td>\n",
       "      <td>{\"/m/02h40lc\": \"English Language\"}</td>\n",
       "      <td>{\"/m/09c7w0\": \"United States of America\", \"/m/...</td>\n",
       "      <td>{\"/m/0vgkd\": \"Black comedy\", \"/m/01z4y\": \"Come...</td>\n",
       "      <td>6718</td>\n",
       "      <td>4000000</td>\n",
       "    </tr>\n",
       "    <tr>\n",
       "      <th>5</th>\n",
       "      <td>4951456</td>\n",
       "      <td>/m/0cws46</td>\n",
       "      <td>Kinjite: Forbidden Subjects</td>\n",
       "      <td>1989</td>\n",
       "      <td>1989</td>\n",
       "      <td>3416846.0</td>\n",
       "      <td>97.0</td>\n",
       "      <td>{\"/m/02h40lc\": \"English Language\"}</td>\n",
       "      <td>{\"/m/09c7w0\": \"United States of America\"}</td>\n",
       "      <td>{\"/m/0lsxr\": \"Crime Fiction\", \"/m/03btsm8\": \"A...</td>\n",
       "      <td>3416846</td>\n",
       "      <td>5000000</td>\n",
       "    </tr>\n",
       "    <tr>\n",
       "      <th>9</th>\n",
       "      <td>3550323</td>\n",
       "      <td>/m/09kzfd</td>\n",
       "      <td>Things to Do in Denver When You're Dead</td>\n",
       "      <td>1995-10</td>\n",
       "      <td>1995</td>\n",
       "      <td>529677.0</td>\n",
       "      <td>115.0</td>\n",
       "      <td>{\"/m/02h40lc\": \"English Language\"}</td>\n",
       "      <td>{\"/m/09c7w0\": \"United States of America\"}</td>\n",
       "      <td>{\"/m/01jfsb\": \"Thriller\", \"/m/0lsxr\": \"Crime F...</td>\n",
       "      <td>529766</td>\n",
       "      <td>8000000</td>\n",
       "    </tr>\n",
       "  </tbody>\n",
       "</table>\n",
       "</div>"
      ],
      "text/plain": [
       "   Wikipedia movie ID Freebase movie ID  \\\n",
       "0              975900         /m/03vyhn   \n",
       "3              156558         /m/014k4y   \n",
       "4            25960460        /m/0b6kc_5   \n",
       "5             4951456         /m/0cws46   \n",
       "9             3550323         /m/09kzfd   \n",
       "\n",
       "                                Movie name Movie release date  Year released  \\\n",
       "0                           Ghosts of Mars         2001-08-24           2001   \n",
       "3                                 Baby Boy         2001-06-27           2001   \n",
       "4                           Daddy and Them               2001           2001   \n",
       "5              Kinjite: Forbidden Subjects               1989           1989   \n",
       "9  Things to Do in Denver When You're Dead            1995-10           1995   \n",
       "\n",
       "   Movie box office revenue  Movie runtime  \\\n",
       "0                14010832.0           98.0   \n",
       "3                29381649.0          123.0   \n",
       "4                       NaN          101.0   \n",
       "5                 3416846.0           97.0   \n",
       "9                  529677.0          115.0   \n",
       "\n",
       "                      Movie languages  \\\n",
       "0  {\"/m/02h40lc\": \"English Language\"}   \n",
       "3  {\"/m/02h40lc\": \"English Language\"}   \n",
       "4  {\"/m/02h40lc\": \"English Language\"}   \n",
       "5  {\"/m/02h40lc\": \"English Language\"}   \n",
       "9  {\"/m/02h40lc\": \"English Language\"}   \n",
       "\n",
       "                                     Movie countries  \\\n",
       "0          {\"/m/09c7w0\": \"United States of America\"}   \n",
       "3          {\"/m/09c7w0\": \"United States of America\"}   \n",
       "4  {\"/m/09c7w0\": \"United States of America\", \"/m/...   \n",
       "5          {\"/m/09c7w0\": \"United States of America\"}   \n",
       "9          {\"/m/09c7w0\": \"United States of America\"}   \n",
       "\n",
       "                                        Movie genres   revenue    budget  \n",
       "0  {\"/m/01jfsb\": \"Thriller\", \"/m/06n90\": \"Science...  14010832  28000000  \n",
       "3  {\"/m/0lsxr\": \"Crime Fiction\", \"/m/07s9rl0\": \"D...  29381649  16000000  \n",
       "4  {\"/m/0vgkd\": \"Black comedy\", \"/m/01z4y\": \"Come...      6718   4000000  \n",
       "5  {\"/m/0lsxr\": \"Crime Fiction\", \"/m/03btsm8\": \"A...   3416846   5000000  \n",
       "9  {\"/m/01jfsb\": \"Thriller\", \"/m/0lsxr\": \"Crime F...    529766   8000000  "
      ]
     },
     "execution_count": 27,
     "metadata": {},
     "output_type": "execute_result"
    }
   ],
   "source": [
    "# merging tmdb scraped data to cmu initial data and aplying time constraint\n",
    "df_tmdb_scrape = df_tmdb_scrape.rename(columns={\"name\": \"Freebase movie ID\"})\n",
    "cmu_tmdb = pd.merge(df_test, df_tmdb_scrape, on='Freebase movie ID')\n",
    "cmu_tmdb = cmu_tmdb[cmu_tmdb['Year released']>=1980]\n",
    "cmu_tmdb = cmu_tmdb[cmu_tmdb['Year released']<=2010]\n",
    "cmu_tmdb.head()"
   ]
  },
  {
   "cell_type": "code",
   "execution_count": 28,
   "id": "56b1f69c",
   "metadata": {},
   "outputs": [
    {
     "data": {
      "text/html": [
       "<div>\n",
       "<style scoped>\n",
       "    .dataframe tbody tr th:only-of-type {\n",
       "        vertical-align: middle;\n",
       "    }\n",
       "\n",
       "    .dataframe tbody tr th {\n",
       "        vertical-align: top;\n",
       "    }\n",
       "\n",
       "    .dataframe thead th {\n",
       "        text-align: right;\n",
       "    }\n",
       "</style>\n",
       "<table border=\"1\" class=\"dataframe\">\n",
       "  <thead>\n",
       "    <tr style=\"text-align: right;\">\n",
       "      <th></th>\n",
       "      <th>movie</th>\n",
       "      <th>movieLabel</th>\n",
       "      <th>freebaseID</th>\n",
       "      <th>revenue</th>\n",
       "      <th>budget</th>\n",
       "    </tr>\n",
       "  </thead>\n",
       "  <tbody>\n",
       "    <tr>\n",
       "      <th>0</th>\n",
       "      <td>Q40115</td>\n",
       "      <td>Chasing Amy</td>\n",
       "      <td>/m/0gd92</td>\n",
       "      <td>12021272.0</td>\n",
       "      <td>250000.0</td>\n",
       "    </tr>\n",
       "    <tr>\n",
       "      <th>1</th>\n",
       "      <td>Q45384</td>\n",
       "      <td>Carrie</td>\n",
       "      <td>/m/0jwzklz</td>\n",
       "      <td>84790678.0</td>\n",
       "      <td>30000000.0</td>\n",
       "    </tr>\n",
       "    <tr>\n",
       "      <th>2</th>\n",
       "      <td>Q39999</td>\n",
       "      <td>Mallrats</td>\n",
       "      <td>/m/01jc1h</td>\n",
       "      <td>2122561.0</td>\n",
       "      <td>6000000.0</td>\n",
       "    </tr>\n",
       "    <tr>\n",
       "      <th>3</th>\n",
       "      <td>Q46551</td>\n",
       "      <td>The Prestige</td>\n",
       "      <td>/m/084302</td>\n",
       "      <td>109676311.0</td>\n",
       "      <td>40000000.0</td>\n",
       "    </tr>\n",
       "    <tr>\n",
       "      <th>4</th>\n",
       "      <td>Q39970</td>\n",
       "      <td>Buffy the Vampire Slayer</td>\n",
       "      <td>/m/01cbx</td>\n",
       "      <td>16624456.0</td>\n",
       "      <td>7000000.0</td>\n",
       "    </tr>\n",
       "  </tbody>\n",
       "</table>\n",
       "</div>"
      ],
      "text/plain": [
       "    movie                movieLabel  freebaseID      revenue      budget\n",
       "0  Q40115               Chasing Amy    /m/0gd92   12021272.0    250000.0\n",
       "1  Q45384                    Carrie  /m/0jwzklz   84790678.0  30000000.0\n",
       "2  Q39999                  Mallrats   /m/01jc1h    2122561.0   6000000.0\n",
       "3  Q46551              The Prestige   /m/084302  109676311.0  40000000.0\n",
       "4  Q39970  Buffy the Vampire Slayer    /m/01cbx   16624456.0   7000000.0"
      ]
     },
     "execution_count": 28,
     "metadata": {},
     "output_type": "execute_result"
    }
   ],
   "source": [
    "# loading scrapped wiki, data was queried over movies from us\n",
    "df_wikis_scrape = pd.read_csv(scraping_folder+'wikis_scrape.csv')\n",
    "df_wikis_scrape.head(5)"
   ]
  },
  {
   "cell_type": "code",
   "execution_count": 29,
   "id": "c5d80f95",
   "metadata": {},
   "outputs": [
    {
     "data": {
      "text/html": [
       "<div>\n",
       "<style scoped>\n",
       "    .dataframe tbody tr th:only-of-type {\n",
       "        vertical-align: middle;\n",
       "    }\n",
       "\n",
       "    .dataframe tbody tr th {\n",
       "        vertical-align: top;\n",
       "    }\n",
       "\n",
       "    .dataframe thead th {\n",
       "        text-align: right;\n",
       "    }\n",
       "</style>\n",
       "<table border=\"1\" class=\"dataframe\">\n",
       "  <thead>\n",
       "    <tr style=\"text-align: right;\">\n",
       "      <th></th>\n",
       "      <th>Wikipedia movie ID</th>\n",
       "      <th>Freebase movie ID</th>\n",
       "      <th>Movie name</th>\n",
       "      <th>Movie release date</th>\n",
       "      <th>Year released</th>\n",
       "      <th>Movie box office revenue</th>\n",
       "      <th>Movie runtime</th>\n",
       "      <th>Movie languages</th>\n",
       "      <th>Movie countries</th>\n",
       "      <th>Movie genres</th>\n",
       "      <th>revenue</th>\n",
       "      <th>budget</th>\n",
       "    </tr>\n",
       "  </thead>\n",
       "  <tbody>\n",
       "    <tr>\n",
       "      <th>2</th>\n",
       "      <td>1940449</td>\n",
       "      <td>/m/067p6m</td>\n",
       "      <td>RoboCop 3</td>\n",
       "      <td>1993-11-05</td>\n",
       "      <td>1993</td>\n",
       "      <td>10600000.0</td>\n",
       "      <td>105.0</td>\n",
       "      <td>{\"/m/02h40lc\": \"English Language\"}</td>\n",
       "      <td>{\"/m/09c7w0\": \"United States of America\"}</td>\n",
       "      <td>{\"/m/0lsxr\": \"Crime Fiction\", \"/m/01jfsb\": \"Th...</td>\n",
       "      <td>10696210.0</td>\n",
       "      <td>22000000.0</td>\n",
       "    </tr>\n",
       "    <tr>\n",
       "      <th>3</th>\n",
       "      <td>5549065</td>\n",
       "      <td>/m/0ds11z</td>\n",
       "      <td>Sweeney Todd: The Demon Barber of Fleet Street</td>\n",
       "      <td>2007-12-03</td>\n",
       "      <td>2007</td>\n",
       "      <td>152523164.0</td>\n",
       "      <td>117.0</td>\n",
       "      <td>{\"/m/02h40lc\": \"English Language\"}</td>\n",
       "      <td>{\"/m/09c7w0\": \"United States of America\", \"/m/...</td>\n",
       "      <td>{\"/m/0lsxr\": \"Crime Fiction\", \"/m/0fx2s\": \"Tra...</td>\n",
       "      <td>152523164.0</td>\n",
       "      <td>50000000.0</td>\n",
       "    </tr>\n",
       "    <tr>\n",
       "      <th>4</th>\n",
       "      <td>2546429</td>\n",
       "      <td>/m/07m7j8</td>\n",
       "      <td>Friday the 13th: The Final Chapter</td>\n",
       "      <td>1984-04-13</td>\n",
       "      <td>1984</td>\n",
       "      <td>32980880.0</td>\n",
       "      <td>91.0</td>\n",
       "      <td>{\"/m/02h40lc\": \"English Language\"}</td>\n",
       "      <td>{\"/m/09c7w0\": \"United States of America\"}</td>\n",
       "      <td>{\"/m/01q03\": \"Cult\", \"/m/03npn\": \"Horror\", \"/m...</td>\n",
       "      <td>32980880.0</td>\n",
       "      <td>2600000.0</td>\n",
       "    </tr>\n",
       "    <tr>\n",
       "      <th>6</th>\n",
       "      <td>706803</td>\n",
       "      <td>/m/034f7w</td>\n",
       "      <td>G.I. Jane</td>\n",
       "      <td>1997-08-22</td>\n",
       "      <td>1997</td>\n",
       "      <td>97169156.0</td>\n",
       "      <td>125.0</td>\n",
       "      <td>{\"/m/02h40lc\": \"English Language\"}</td>\n",
       "      <td>{\"/m/09c7w0\": \"United States of America\"}</td>\n",
       "      <td>{\"/m/02kdv5l\": \"Action\", \"/m/07s9rl0\": \"Drama\"}</td>\n",
       "      <td>48169156.0</td>\n",
       "      <td>50000000.0</td>\n",
       "    </tr>\n",
       "    <tr>\n",
       "      <th>9</th>\n",
       "      <td>4501185</td>\n",
       "      <td>/m/0c5skt</td>\n",
       "      <td>Universal Soldier: The Return</td>\n",
       "      <td>1999-07-06</td>\n",
       "      <td>1999</td>\n",
       "      <td>10937893.0</td>\n",
       "      <td>89.0</td>\n",
       "      <td>{\"/m/02h40lc\": \"English Language\"}</td>\n",
       "      <td>{\"/m/09c7w0\": \"United States of America\"}</td>\n",
       "      <td>{\"/m/03btsm8\": \"Action/Adventure\", \"/m/01jfsb\"...</td>\n",
       "      <td>10667893.0</td>\n",
       "      <td>45000000.0</td>\n",
       "    </tr>\n",
       "  </tbody>\n",
       "</table>\n",
       "</div>"
      ],
      "text/plain": [
       "   Wikipedia movie ID Freebase movie ID  \\\n",
       "2             1940449         /m/067p6m   \n",
       "3             5549065         /m/0ds11z   \n",
       "4             2546429         /m/07m7j8   \n",
       "6              706803         /m/034f7w   \n",
       "9             4501185         /m/0c5skt   \n",
       "\n",
       "                                       Movie name Movie release date  \\\n",
       "2                                       RoboCop 3         1993-11-05   \n",
       "3  Sweeney Todd: The Demon Barber of Fleet Street         2007-12-03   \n",
       "4              Friday the 13th: The Final Chapter         1984-04-13   \n",
       "6                                       G.I. Jane         1997-08-22   \n",
       "9                   Universal Soldier: The Return         1999-07-06   \n",
       "\n",
       "   Year released  Movie box office revenue  Movie runtime  \\\n",
       "2           1993                10600000.0          105.0   \n",
       "3           2007               152523164.0          117.0   \n",
       "4           1984                32980880.0           91.0   \n",
       "6           1997                97169156.0          125.0   \n",
       "9           1999                10937893.0           89.0   \n",
       "\n",
       "                      Movie languages  \\\n",
       "2  {\"/m/02h40lc\": \"English Language\"}   \n",
       "3  {\"/m/02h40lc\": \"English Language\"}   \n",
       "4  {\"/m/02h40lc\": \"English Language\"}   \n",
       "6  {\"/m/02h40lc\": \"English Language\"}   \n",
       "9  {\"/m/02h40lc\": \"English Language\"}   \n",
       "\n",
       "                                     Movie countries  \\\n",
       "2          {\"/m/09c7w0\": \"United States of America\"}   \n",
       "3  {\"/m/09c7w0\": \"United States of America\", \"/m/...   \n",
       "4          {\"/m/09c7w0\": \"United States of America\"}   \n",
       "6          {\"/m/09c7w0\": \"United States of America\"}   \n",
       "9          {\"/m/09c7w0\": \"United States of America\"}   \n",
       "\n",
       "                                        Movie genres      revenue      budget  \n",
       "2  {\"/m/0lsxr\": \"Crime Fiction\", \"/m/01jfsb\": \"Th...   10696210.0  22000000.0  \n",
       "3  {\"/m/0lsxr\": \"Crime Fiction\", \"/m/0fx2s\": \"Tra...  152523164.0  50000000.0  \n",
       "4  {\"/m/01q03\": \"Cult\", \"/m/03npn\": \"Horror\", \"/m...   32980880.0   2600000.0  \n",
       "6    {\"/m/02kdv5l\": \"Action\", \"/m/07s9rl0\": \"Drama\"}   48169156.0  50000000.0  \n",
       "9  {\"/m/03btsm8\": \"Action/Adventure\", \"/m/01jfsb\"...   10667893.0  45000000.0  "
      ]
     },
     "execution_count": 29,
     "metadata": {},
     "output_type": "execute_result"
    }
   ],
   "source": [
    "# merging wiki scraped data to cmu initial data and aplying time constraint\n",
    "df_wikis_scrape = df_wikis_scrape.rename(columns={\"freebaseID\": \"Freebase movie ID\"})\n",
    "cmu_wiki = pd.merge(df_test, df_wikis_scrape, on='Freebase movie ID').drop(columns=['movie', 'movieLabel'])\n",
    "cmu_wiki = cmu_wiki[cmu_wiki['Year released']>=1980]\n",
    "cmu_wiki = cmu_wiki[cmu_wiki['Year released']<=2010]\n",
    "cmu_wiki.head()"
   ]
  },
  {
   "cell_type": "code",
   "execution_count": 30,
   "id": "0bb5377d",
   "metadata": {},
   "outputs": [
    {
     "name": "stdout",
     "output_type": "stream",
     "text": [
      "We get a data of length: 3773\n"
     ]
    },
    {
     "data": {
      "text/html": [
       "<div>\n",
       "<style scoped>\n",
       "    .dataframe tbody tr th:only-of-type {\n",
       "        vertical-align: middle;\n",
       "    }\n",
       "\n",
       "    .dataframe tbody tr th {\n",
       "        vertical-align: top;\n",
       "    }\n",
       "\n",
       "    .dataframe thead th {\n",
       "        text-align: right;\n",
       "    }\n",
       "</style>\n",
       "<table border=\"1\" class=\"dataframe\">\n",
       "  <thead>\n",
       "    <tr style=\"text-align: right;\">\n",
       "      <th></th>\n",
       "      <th>Wikipedia movie ID</th>\n",
       "      <th>Freebase movie ID</th>\n",
       "      <th>Movie name</th>\n",
       "      <th>Movie release date</th>\n",
       "      <th>Year released</th>\n",
       "      <th>Movie box office revenue</th>\n",
       "      <th>Movie runtime</th>\n",
       "      <th>Movie languages</th>\n",
       "      <th>Movie countries</th>\n",
       "      <th>Movie genres</th>\n",
       "      <th>revenue</th>\n",
       "      <th>budget</th>\n",
       "    </tr>\n",
       "  </thead>\n",
       "  <tbody>\n",
       "    <tr>\n",
       "      <th>0</th>\n",
       "      <td>1940449</td>\n",
       "      <td>/m/067p6m</td>\n",
       "      <td>RoboCop 3</td>\n",
       "      <td>1993-11-05</td>\n",
       "      <td>1993</td>\n",
       "      <td>10600000.0</td>\n",
       "      <td>105.0</td>\n",
       "      <td>{\"/m/02h40lc\": \"English Language\"}</td>\n",
       "      <td>{\"/m/09c7w0\": \"United States of America\"}</td>\n",
       "      <td>{\"/m/0lsxr\": \"Crime Fiction\", \"/m/01jfsb\": \"Th...</td>\n",
       "      <td>10696210.0</td>\n",
       "      <td>22000000.0</td>\n",
       "    </tr>\n",
       "    <tr>\n",
       "      <th>1</th>\n",
       "      <td>5549065</td>\n",
       "      <td>/m/0ds11z</td>\n",
       "      <td>Sweeney Todd: The Demon Barber of Fleet Street</td>\n",
       "      <td>2007-12-03</td>\n",
       "      <td>2007</td>\n",
       "      <td>152523164.0</td>\n",
       "      <td>117.0</td>\n",
       "      <td>{\"/m/02h40lc\": \"English Language\"}</td>\n",
       "      <td>{\"/m/09c7w0\": \"United States of America\", \"/m/...</td>\n",
       "      <td>{\"/m/0lsxr\": \"Crime Fiction\", \"/m/0fx2s\": \"Tra...</td>\n",
       "      <td>152523164.0</td>\n",
       "      <td>50000000.0</td>\n",
       "    </tr>\n",
       "    <tr>\n",
       "      <th>2</th>\n",
       "      <td>2546429</td>\n",
       "      <td>/m/07m7j8</td>\n",
       "      <td>Friday the 13th: The Final Chapter</td>\n",
       "      <td>1984-04-13</td>\n",
       "      <td>1984</td>\n",
       "      <td>32980880.0</td>\n",
       "      <td>91.0</td>\n",
       "      <td>{\"/m/02h40lc\": \"English Language\"}</td>\n",
       "      <td>{\"/m/09c7w0\": \"United States of America\"}</td>\n",
       "      <td>{\"/m/01q03\": \"Cult\", \"/m/03npn\": \"Horror\", \"/m...</td>\n",
       "      <td>32980880.0</td>\n",
       "      <td>2600000.0</td>\n",
       "    </tr>\n",
       "    <tr>\n",
       "      <th>3</th>\n",
       "      <td>706803</td>\n",
       "      <td>/m/034f7w</td>\n",
       "      <td>G.I. Jane</td>\n",
       "      <td>1997-08-22</td>\n",
       "      <td>1997</td>\n",
       "      <td>97169156.0</td>\n",
       "      <td>125.0</td>\n",
       "      <td>{\"/m/02h40lc\": \"English Language\"}</td>\n",
       "      <td>{\"/m/09c7w0\": \"United States of America\"}</td>\n",
       "      <td>{\"/m/02kdv5l\": \"Action\", \"/m/07s9rl0\": \"Drama\"}</td>\n",
       "      <td>48169156.0</td>\n",
       "      <td>50000000.0</td>\n",
       "    </tr>\n",
       "    <tr>\n",
       "      <th>4</th>\n",
       "      <td>4501185</td>\n",
       "      <td>/m/0c5skt</td>\n",
       "      <td>Universal Soldier: The Return</td>\n",
       "      <td>1999-07-06</td>\n",
       "      <td>1999</td>\n",
       "      <td>10937893.0</td>\n",
       "      <td>89.0</td>\n",
       "      <td>{\"/m/02h40lc\": \"English Language\"}</td>\n",
       "      <td>{\"/m/09c7w0\": \"United States of America\"}</td>\n",
       "      <td>{\"/m/03btsm8\": \"Action/Adventure\", \"/m/01jfsb\"...</td>\n",
       "      <td>10667893.0</td>\n",
       "      <td>45000000.0</td>\n",
       "    </tr>\n",
       "  </tbody>\n",
       "</table>\n",
       "</div>"
      ],
      "text/plain": [
       "   Wikipedia movie ID Freebase movie ID  \\\n",
       "0             1940449         /m/067p6m   \n",
       "1             5549065         /m/0ds11z   \n",
       "2             2546429         /m/07m7j8   \n",
       "3              706803         /m/034f7w   \n",
       "4             4501185         /m/0c5skt   \n",
       "\n",
       "                                       Movie name Movie release date  \\\n",
       "0                                       RoboCop 3         1993-11-05   \n",
       "1  Sweeney Todd: The Demon Barber of Fleet Street         2007-12-03   \n",
       "2              Friday the 13th: The Final Chapter         1984-04-13   \n",
       "3                                       G.I. Jane         1997-08-22   \n",
       "4                   Universal Soldier: The Return         1999-07-06   \n",
       "\n",
       "   Year released  Movie box office revenue  Movie runtime  \\\n",
       "0           1993                10600000.0          105.0   \n",
       "1           2007               152523164.0          117.0   \n",
       "2           1984                32980880.0           91.0   \n",
       "3           1997                97169156.0          125.0   \n",
       "4           1999                10937893.0           89.0   \n",
       "\n",
       "                      Movie languages  \\\n",
       "0  {\"/m/02h40lc\": \"English Language\"}   \n",
       "1  {\"/m/02h40lc\": \"English Language\"}   \n",
       "2  {\"/m/02h40lc\": \"English Language\"}   \n",
       "3  {\"/m/02h40lc\": \"English Language\"}   \n",
       "4  {\"/m/02h40lc\": \"English Language\"}   \n",
       "\n",
       "                                     Movie countries  \\\n",
       "0          {\"/m/09c7w0\": \"United States of America\"}   \n",
       "1  {\"/m/09c7w0\": \"United States of America\", \"/m/...   \n",
       "2          {\"/m/09c7w0\": \"United States of America\"}   \n",
       "3          {\"/m/09c7w0\": \"United States of America\"}   \n",
       "4          {\"/m/09c7w0\": \"United States of America\"}   \n",
       "\n",
       "                                        Movie genres      revenue      budget  \n",
       "0  {\"/m/0lsxr\": \"Crime Fiction\", \"/m/01jfsb\": \"Th...   10696210.0  22000000.0  \n",
       "1  {\"/m/0lsxr\": \"Crime Fiction\", \"/m/0fx2s\": \"Tra...  152523164.0  50000000.0  \n",
       "2  {\"/m/01q03\": \"Cult\", \"/m/03npn\": \"Horror\", \"/m...   32980880.0   2600000.0  \n",
       "3    {\"/m/02kdv5l\": \"Action\", \"/m/07s9rl0\": \"Drama\"}   48169156.0  50000000.0  \n",
       "4  {\"/m/03btsm8\": \"Action/Adventure\", \"/m/01jfsb\"...   10667893.0  45000000.0  "
      ]
     },
     "execution_count": 30,
     "metadata": {},
     "output_type": "execute_result"
    }
   ],
   "source": [
    "#removing all duplicate elements after we concatenate the merged dataframes (respectively with Freebase and WikiData)\n",
    "result=pd.concat([cmu_wiki,cmu_tmdb]).drop_duplicates(subset=['Freebase movie ID']).reset_index(drop=True)\n",
    "print('We get a data of length: '+str(len(result)))\n",
    "result.head()"
   ]
  },
  {
   "cell_type": "code",
   "execution_count": null,
   "id": "9996e4b7",
   "metadata": {},
   "outputs": [],
   "source": [
    "#loading Imdb datasets : ratings, metadata, akas\n",
    "df = pd.read_csv(imdb_folder+'title.ratings.tsv.gz', compression='gzip', sep='\\t', low_memory=False)\n",
    "df_akas = pd.read_csv(imdb_folder+'title.akas.tsv.gz', sep='\\t', compression='gzip', low_memory=False)\n",
    "df_akas = df_akas.rename(columns={\"titleId\": \"tconst\"})\n",
    "df_metadata = pd.read_csv(imdb_folder+'title.basics.tsv.gz', sep='\\t', compression='gzip', low_memory=False)\n",
    "\n",
    "#merging the 2 imdb datasets rating and akas \n",
    "df_rakas = pd.merge(df, df_akas, on=\"tconst\")\n",
    "df_rakas = df_rakas.drop(columns=['ordering', 'region', 'language', 'types', 'attributes', 'isOriginalTitle'])\n",
    "df_rakas = df_rakas.replace(\"\\\\N\", np.nan)\n",
    "\n",
    "#merging result with the metadata datasets\n",
    "df_Imdb = pd.merge(df_rakas, df_metadata, on=\"tconst\")\n",
    "df_Imdb = df_Imdb.replace(\"\\\\N\", np.nan)\n",
    "df_Imdb = df_Imdb[['tconst','averageRating','numVotes','title','primaryTitle']]\n",
    "df_Imdb = df_Imdb[df_Imdb['title']==df_Imdb['primaryTitle']]\n",
    "df_Imdb = df_Imdb.drop_duplicates().dropna().drop(columns=['title','primaryTitle'])\n",
    "print('The used imdb data set has length :'+str(len(df_Imdb)))\n",
    "df_Imdb.head()"
   ]
  },
  {
   "cell_type": "markdown",
   "id": "4c17d6cf",
   "metadata": {},
   "source": [
    "***We run then a query using sparql WkiData for Us movies to get a Mapping with freebase ids and tmdb ids :***"
   ]
  },
  {
   "cell_type": "markdown",
   "id": "d71c6552",
   "metadata": {},
   "source": [
    "    SELECT ?movie ?movieLabel ?freebaseID ?imdbID WHERE { \n",
    "      ?movie p:P646 [ps:P646 ?freebaseID].\n",
    "      ?movie p:P345 [ps:P345 ?imdbID].\n",
    "      ?movie wdt:P31 wd:Q11424.\n",
    "      ?movie wdt:P495 wd:Q30.               \n",
    "      SERVICE wikibase:label { bd:serviceParam wikibase:language \"[AUTO_LANGUAGE],en\". }\n",
    "    }"
   ]
  },
  {
   "cell_type": "code",
   "execution_count": null,
   "id": "4870f5b4",
   "metadata": {},
   "outputs": [],
   "source": [
    "#loading scrapped query for imdb freebase\n",
    "mapping_df = pd.read_csv(queries_folder+'query_imdb_freebase.csv')\n",
    "mapping_df.head(5)"
   ]
  },
  {
   "cell_type": "code",
   "execution_count": null,
   "id": "e1efc2bb",
   "metadata": {},
   "outputs": [],
   "source": [
    "#adding imdb ids to previous result films\n",
    "result=mapping_df.merge(result,right_on='Freebase movie ID',left_on='freebaseID').drop(columns=['movieLabel','movie','freebaseID'])\n",
    "result.head(5)"
   ]
  },
  {
   "cell_type": "code",
   "execution_count": null,
   "id": "4a22ab9a",
   "metadata": {},
   "outputs": [],
   "source": [
    "#merging \n",
    "df_Imdb = df_Imdb.rename(columns={\"title\": \"Movie name\", \"startYear\":\"Year released\"})\n",
    "df_with_rating = pd.merge(result, df_Imdb, left_on=\"imdbID\", right_on=\"tconst\")\n",
    "print('Our dataset had now length: '+str(len(df_with_rating)))\n",
    "df_with_rating.head()"
   ]
  },
  {
   "cell_type": "markdown",
   "id": "49fbe35f",
   "metadata": {},
   "source": [
    "*** \n",
    "## 5. Adjusting our Dataset for Inflation:"
   ]
  },
  {
   "cell_type": "markdown",
   "id": "a59d0c6a",
   "metadata": {},
   "source": [
    "***For this part we will be using, the cpi library (more explanations in the read me)***"
   ]
  },
  {
   "cell_type": "markdown",
   "id": "438b3b5b",
   "metadata": {},
   "source": [
    "*In order to adjust all the numbers (prices/revenues) for inflation over time, we will be using a python library, called cpi, which adjusts our data values using :*\n",
    "\n",
    "*the general formula for adjusting the prices for inflation using the CPI indicator: \n",
    "real_dollars = (current_dollars * cpi_new) / cpi_old.*\n",
    "\n",
    "*ex : cpi.inflate(100, 2000, to=year_we_want)*\n"
   ]
  },
  {
   "cell_type": "markdown",
   "id": "1b2f9fdd",
   "metadata": {},
   "source": [
    "* The outcome means that if something cost 100 dollars in 2000, thanks to inflation it would be worth approximetly 150 dollars in 2010. "
   ]
  },
  {
   "cell_type": "markdown",
   "id": "df3e81ff",
   "metadata": {},
   "source": [
    "The cpi library, makes the process of dealing with inflation much easier than manually downloading the CPI data and adjusting the values. However, this library works only with US Dollars.\n",
    "**This is fine with us since constrained our data to United states movies only.**\n",
    "* We also chose 2010 as our year for which we would like to adjust all the values to."
   ]
  },
  {
   "cell_type": "code",
   "execution_count": null,
   "id": "a05ff78e",
   "metadata": {},
   "outputs": [],
   "source": [
    "#updating the cpi library with the recent inflation rates\n",
    "#cpi.update()"
   ]
  },
  {
   "cell_type": "code",
   "execution_count": null,
   "id": "c638586d",
   "metadata": {},
   "outputs": [],
   "source": [
    "#typecasting our year released feature to int\n",
    "df_with_rating['Year released'] =  df_with_rating['Year released'].astype(int)"
   ]
  },
  {
   "cell_type": "code",
   "execution_count": null,
   "id": "7375a716",
   "metadata": {},
   "outputs": [],
   "source": [
    "#performing the adjustement on budget and revenue fields \n",
    "df_with_rating['revenue'] =  df_with_rating.apply(lambda x: cpi.inflate(x['revenue'], x['Year released'], to=2010), axis=1)\n",
    "df_with_rating['budget'] =  df_with_rating.apply(lambda x: cpi.inflate(x['budget'], x['Year released'], to=2010), axis=1)\n",
    "df_with_rating.head(5)"
   ]
  },
  {
   "cell_type": "markdown",
   "id": "8f354d77",
   "metadata": {},
   "source": [
    "***\n",
    "## 6. Cleaning and data wrangling of new merged dataset"
   ]
  },
  {
   "cell_type": "code",
   "execution_count": null,
   "id": "543e94b1",
   "metadata": {},
   "outputs": [],
   "source": [
    "#dropping useless features due to our constraint\n",
    "df_with_rating =  df_with_rating.drop(columns=['Movie languages', 'Movie countries'])\n",
    "#replacing all dictionnaries in genres by lists and them replacing all empty lists and empty Movie names fields by nan values\n",
    "df_with_rating['Movie genres'] =  df_with_rating['Movie genres'].apply(lambda x : list_process_dict(x))\n",
    "df_with_rating['Movie genres'] =  df_with_rating['Movie genres'].apply(lambda x : np.nan if(not x) else x)\n",
    "df_with_rating['Movie name'] =  df_with_rating['Movie name'].apply(lambda x : np.nan if(not x) else x)"
   ]
  },
  {
   "cell_type": "code",
   "execution_count": null,
   "id": "44581343",
   "metadata": {},
   "outputs": [],
   "source": [
    "#dropping useless features\n",
    "df_with_rating = df_with_rating.drop(columns=['Wikipedia movie ID', 'Movie box office revenue'])"
   ]
  },
  {
   "cell_type": "code",
   "execution_count": null,
   "id": "1ddfb86b",
   "metadata": {},
   "outputs": [],
   "source": [
    "#renaming the column for scrapped revenues \n",
    "df_with_rating = df_with_rating.rename(columns={\"revenue\": \"MBO_revenue\"})"
   ]
  },
  {
   "cell_type": "code",
   "execution_count": null,
   "id": "e1c0c15e",
   "metadata": {},
   "outputs": [],
   "source": [
    "df_with_rating.info()"
   ]
  },
  {
   "cell_type": "markdown",
   "id": "e8c2ea64",
   "metadata": {},
   "source": [
    "***commment :***\n",
    "* we have 4 movies that have null values in their Movie runtime"
   ]
  },
  {
   "cell_type": "code",
   "execution_count": null,
   "id": "2a0d6fb6",
   "metadata": {},
   "outputs": [],
   "source": [
    "#here are our 4 movies\n",
    "missing_runtime_data_points = df_with_rating[df_with_rating['Movie runtime'].isna()]\n",
    "missing_runtime_data_points"
   ]
  },
  {
   "cell_type": "markdown",
   "id": "55eef6ba",
   "metadata": {},
   "source": [
    "* thankfully, we notice that with our scrapping of the Imdb dataset, we managed to scrape these missing runtimes : runtimeMinutes feature"
   ]
  },
  {
   "cell_type": "code",
   "execution_count": null,
   "id": "4af6b4cd",
   "metadata": {},
   "outputs": [],
   "source": [
    "#since our runtimeMinutes feature is complete doesn't contain any missing value\n",
    "df_with_rating = df_with_rating.drop(columns=['tconst'])\n",
    "df_with_rating=df_with_rating.dropna()\n",
    "df_with_rating.head()"
   ]
  },
  {
   "cell_type": "code",
   "execution_count": null,
   "id": "e2316f7d",
   "metadata": {},
   "outputs": [],
   "source": [
    "df_with_rating = df_with_rating.dropna().reset_index(drop=True)\n",
    "print(\"Number of data points in our dataset : \" + str(len(df_with_rating)))"
   ]
  },
  {
   "cell_type": "markdown",
   "id": "1529bed9",
   "metadata": {},
   "source": [
    "### Plotting correlations and distributions:"
   ]
  },
  {
   "cell_type": "code",
   "execution_count": null,
   "id": "2c430bb3",
   "metadata": {},
   "outputs": [],
   "source": [
    "#First, we add a column profit which will be important to measure the financial success of the movie\n",
    "df_with_rating['Profit'] = df_with_rating['MBO_revenue'] -  df_with_rating['budget']"
   ]
  },
  {
   "cell_type": "code",
   "execution_count": null,
   "id": "9d15d984",
   "metadata": {},
   "outputs": [],
   "source": [
    "#desciption of \n",
    "data=df_with_rating[[\"numVotes\", \"averageRating\"]]\n",
    "data.describe()"
   ]
  },
  {
   "cell_type": "markdown",
   "id": "a4bad7c8",
   "metadata": {},
   "source": [
    "***comment :***\n",
    "* we notice that the number of voters varies a lot : min value = 5 and max value = 2million voters \n",
    "* So we need to arrange our averageRatings over all the datapoints"
   ]
  },
  {
   "cell_type": "markdown",
   "id": "d4e4a4f7",
   "metadata": {},
   "source": [
    "We decided to arrange our vote counts and vote averages with a weighted manner. The process is implemented below and explained as:\n",
    "\n",
    "    Weighted Rating for a row (WR) = [(v + 1) / (v + m) R] + [m / (m + v) C]\n",
    "    v: number of votes for the movie\n",
    "    m: minimum votes required to be listed in the chart (quantile 0.75)\n",
    "    R: average rating of the movie\n",
    "    C: mean vote across the whole dataset\n"
   ]
  },
  {
   "cell_type": "code",
   "execution_count": null,
   "id": "bcb384a2",
   "metadata": {},
   "outputs": [],
   "source": [
    "vote_counts = df_with_rating[df_with_rating['numVotes'].notnull()]['numVotes'].astype('int')\n",
    "vote_averages = df_with_rating[df_with_rating['averageRating'].notnull()]['averageRating'].astype('int')\n",
    "C = df_with_rating['averageRating'].mean()\n",
    "m = df_with_rating['numVotes'].quantile(0.75)\n",
    "def weighted_rating(data):\n",
    "    v = data['numVotes'] + 1 # added +1\n",
    "    R = data['averageRating']\n",
    "    return (v / (v + m) * R) + (m / (m + v) * C)\n",
    "\n",
    "df_with_rating['weighted_rating'] = df_with_rating.apply(weighted_rating, axis=1)\n",
    "df_with_rating.head(2)"
   ]
  },
  {
   "cell_type": "code",
   "execution_count": null,
   "id": "59b15e2b",
   "metadata": {},
   "outputs": [],
   "source": [
    "df_with_rating.to_csv(\"final_df_with_ratings.csv\", index=False)"
   ]
  },
  {
   "cell_type": "code",
   "execution_count": null,
   "id": "e042d287",
   "metadata": {},
   "outputs": [],
   "source": [
    "corr = df_with_rating.corr()\n",
    "\n",
    "# Generate a mask for the upper triangle\n",
    "mask = np.triu(np.ones_like(corr, dtype=bool))\n",
    "\n",
    "# figure size\n",
    "f, ax = plt.subplots(figsize=(11, 9))\n",
    "\n",
    "# Generate a custom diverging colormap\n",
    "cmap = sns.diverging_palette(230, 20, as_cmap=True)\n",
    "\n",
    "# plot the heatmap correlation\n",
    "sns.heatmap(corr, mask=mask, cmap=cmap, annot=True, linewidths=.5, fmt= '.2f',ax=ax).set_title(\"heatmap representing correlation between features\")\n",
    "\n",
    "plt.show()"
   ]
  },
  {
   "cell_type": "code",
   "execution_count": null,
   "id": "a3210b87",
   "metadata": {},
   "outputs": [],
   "source": [
    "# Convert the correlation data to a Pandas dataframe\n",
    "corr_df = pd.DataFrame(corr)\n",
    "\n",
    "# Get the list of feature names\n",
    "feature_names = list(corr_df.index)\n",
    "\n",
    "# Create a 2D list or array with the correlation values\n",
    "corr_values = corr_df.values.tolist()\n",
    "\n",
    "# Create the heatmap trace\n",
    "heatmap = go.Heatmap(z=corr_df, y=feature_names, x=feature_names, colorscale = px.colors.sequential.Blues, showscale=True, colorbar=dict(title='Correlation'), text=corr_values, hoverinfo='text')\n",
    "\n",
    "# Create the figure\n",
    "fig = go.Figure(data=[heatmap])\n",
    "\n",
    "# Set the figure title\n",
    "fig.update_layout(title_text='Interactive Heatmap representing correlation between features of the dataset')\n",
    "\n",
    "# Show the figure\n",
    "fig.show()\n",
    "plotly.offline.plot(fig, filename=\"heatmap.html\")"
   ]
  },
  {
   "cell_type": "markdown",
   "id": "6212b8ff",
   "metadata": {},
   "source": [
    "***comments:***\n",
    "* we notice that we have interesting correlation factors between :\n",
    " * 0.56 between the MBO revenue and the budget\n",
    " * 0.36 between NumVotes and budget\n",
    " * 0.30 between weighted_rating and Profit\n",
    " * 0.30 between weighted_rating and Movie Runtime\n",
    " * 0.49 between numVotes and MBO revenue\n",
    " * 0.44 between profit and numVotes\n",
    " * 0.96 between profit and MBO_revenue (logical since we defined profit as revenue - budget)"
   ]
  },
  {
   "cell_type": "code",
   "execution_count": null,
   "id": "a6a912e4",
   "metadata": {},
   "outputs": [],
   "source": [
    "#plotting distributin of Movie count over the years in our dataset\n",
    "sns.displot(df_with_rating, x=\"Year released\", kind=\"kde\").set(title=\"distribution of movies over the years\")\n",
    "plt.show()"
   ]
  },
  {
   "cell_type": "markdown",
   "id": "0d5099af",
   "metadata": {},
   "source": [
    "***comments:***\n",
    "* we notice that the distribution plot is right-skewed, which means that the density of movies (the bulk of movies) is towards 2010 (i.o.w: we have much more recent movies in our dataset) "
   ]
  },
  {
   "cell_type": "code",
   "execution_count": null,
   "id": "ab0083d4",
   "metadata": {},
   "outputs": [],
   "source": [
    "#exploding our genres lists \n",
    "exploded = df_with_rating.explode('Movie genres')"
   ]
  },
  {
   "cell_type": "code",
   "execution_count": null,
   "id": "c9f1afe4",
   "metadata": {},
   "outputs": [],
   "source": [
    "#choosing only the top 12 genres in our dataset \n",
    "genre_count = exploded['Movie genres'].value_counts().sort_values(ascending=False)\n",
    "top_genres = list(genre_count[:12].index)\n",
    "print(\"We have \" + str(len(genre_count)) +\" different genres\")\n",
    "print(\"Here are the top 15 genres with the most movies in our dataset :\")\n",
    "print(top_genres)\n",
    "plt.title(\"distribution of genres in our dataset\")\n",
    "plt.barh(genre_count.index[:20], genre_count[:20])\n",
    "plt.show()"
   ]
  },
  {
   "cell_type": "code",
   "execution_count": null,
   "id": "d74bfe96",
   "metadata": {},
   "outputs": [],
   "source": [
    "#only taking the top 12 genres in our exploded dataset \n",
    "exploded['Movie genres'] = exploded['Movie genres'].apply(lambda x : x if (x in top_genres) else np.nan )\n",
    "exploded=exploded.dropna().reset_index(drop=True)\n",
    "exploded.head(5)"
   ]
  },
  {
   "cell_type": "code",
   "execution_count": null,
   "id": "cadcead7",
   "metadata": {},
   "outputs": [],
   "source": [
    "#set up figure size\n",
    "f, ax = plt.subplots(figsize=(20, 14))\n",
    "#plotting historgram of movie genres over the years (we chose top 12 genres because of the color palette)\n",
    "sns.histplot(exploded, ax = ax , x=\"Year released\", hue=\"Movie genres\", multiple=\"stack\",  palette=sns.color_palette(\"Paired\")).set(title=\"distribution of genres over the years in our dataset\")\n",
    "plt.show()"
   ]
  },
  {
   "cell_type": "markdown",
   "id": "f431a353",
   "metadata": {},
   "source": [
    "**comments**"
   ]
  },
  {
   "cell_type": "markdown",
   "id": "001fe75c",
   "metadata": {},
   "source": [
    "* we notice that drama has approximately the most number of movies in each year followed respectively by comedy, thriller, action "
   ]
  },
  {
   "cell_type": "code",
   "execution_count": null,
   "id": "e9a32469",
   "metadata": {},
   "outputs": [],
   "source": [
    "df_with_rating.head()"
   ]
  },
  {
   "cell_type": "code",
   "execution_count": null,
   "id": "b254ef79",
   "metadata": {},
   "outputs": [],
   "source": [
    "#set up figure size\n",
    "f, ax = plt.subplots(figsize=(10, 5))\n",
    "#plotting distribution using histogram plot\n",
    "sns.histplot(df_with_rating, ax = ax , x=\"Movie runtime\", kde=True).set(title=\"distribution of Movie runtime over the years in our dataset\")\n",
    "plt.show()"
   ]
  },
  {
   "cell_type": "code",
   "execution_count": null,
   "id": "74de532d",
   "metadata": {},
   "outputs": [],
   "source": [
    "print(\"The mean duration of our movies in our dataset is : \" + str(df_with_rating['Movie runtime'].mean()) + \" min\")"
   ]
  },
  {
   "cell_type": "code",
   "execution_count": null,
   "id": "937b7acd",
   "metadata": {},
   "outputs": [],
   "source": [
    "#set up figure size\n",
    "f, ax = plt.subplots(figsize=(20, 9))\n",
    "#boxplot distribution of the profit feature\n",
    "sns.boxplot(data= df_with_rating, ax=ax, x=\"Profit\").set(title=\"distribution of the profit feature\")\n",
    "plt.show()"
   ]
  },
  {
   "attachments": {
    "image-2.png": {
     "image/png": "[encoded data removed]"
    }
   },
   "cell_type": "markdown",
   "id": "6686d40d",
   "metadata": {},
   "source": [
    "![image-2.png](attachment:image-2.png)"
   ]
  },
  {
   "cell_type": "markdown",
   "id": "36039ef7",
   "metadata": {},
   "source": [
    "* as stated in this legend picture, we can clearly see in our distribution plot of the profit, the presence of a lot of outliers"
   ]
  },
  {
   "cell_type": "code",
   "execution_count": null,
   "id": "8f2eae13",
   "metadata": {},
   "outputs": [],
   "source": [
    "#let's have a look at the description of our profit feature\n",
    "df_with_rating['Profit'].describe()"
   ]
  },
  {
   "cell_type": "markdown",
   "id": "d642e7b6",
   "metadata": {},
   "source": [
    "***commments:***\n",
    "* we notice that the max value of Profit generated by a movie is approximetly 2727 million dollars \n",
    "* whereas the minimum is -194 million dollars (loss of money)\n",
    "\n",
    "lets look at the top 3 profittable movies in our dataset "
   ]
  },
  {
   "cell_type": "code",
   "execution_count": null,
   "id": "2cb605ae",
   "metadata": {},
   "outputs": [],
   "source": [
    "df_with_rating.iloc[df_with_rating['Profit'].sort_values(ascending=False)[:3].index]"
   ]
  },
  {
   "cell_type": "markdown",
   "id": "2a9d7231",
   "metadata": {},
   "source": [
    "**Comment:**\n",
    "* We notice that these are very known blockbusters and thus we can not consider them as outliers and remove them\n",
    "* We decided to keep all movies and we will proceed by grouping them based on intervals of profits generated in our later steps ???????*"
   ]
  },
  {
   "cell_type": "code",
   "execution_count": null,
   "id": "90cd4cf3",
   "metadata": {},
   "outputs": [],
   "source": [
    "df_means_genres = pd.DataFrame(data=exploded.groupby(\"Movie genres\").mean())\n",
    "df_means_genres = df_means_genres.drop(columns=[\"Year released\"])\n",
    "df_means_genres"
   ]
  },
  {
   "cell_type": "code",
   "execution_count": null,
   "id": "b91fb979",
   "metadata": {},
   "outputs": [],
   "source": [
    "# Create a figure and an axis object using subplots\n",
    "f, ax = plt.subplots(figsize=(20, 5))\n",
    "\n",
    "# Set color codes for the first bar plot and create the plot\n",
    "sns.set_color_codes(\"deep\")\n",
    "sns.barplot(x=df_means_genres.index, ax=ax, y=\"MBO_revenue\", data=df_means_genres, label=\"Revenue\", color=\"b\")\n",
    "\n",
    "# Set color codes for the second bar plot and create the plot\n",
    "sns.set_color_codes(\"dark\")\n",
    "sns.barplot(x=df_means_genres.index, ax=ax, y=\"budget\", data=df_means_genres, label=\"Budget\", color=\"b\")\n",
    "\n",
    "# Add a legend to the plot to identify the two bar plots\n",
    "ax.legend(ncol=2, loc=\"upper right\", frameon=True)\n",
    "\n",
    "# Label the x-axis and y-axis\n",
    "ax.set(xlabel=\"Movie Types\", ylabel=\"Average Budget And Revenue w.r.t. Genres\")\n",
    "\n",
    "# Display the plot\n",
    "plt.show()\n"
   ]
  },
  {
   "cell_type": "code",
   "execution_count": null,
   "id": "d95842d5",
   "metadata": {},
   "outputs": [],
   "source": [
    "# Create a figure and an axis object using subplots\n",
    "f, ax = plt.subplots(figsize=(20, 5))\n",
    "\n",
    "# Set color codes for the bar plot and create the plot\n",
    "sns.set_color_codes(\"pastel\")\n",
    "sns.barplot(x=df_means_genres.index, ax=ax, y=\"Profit\", data=df_means_genres, label=\"Profit\", color=\"b\")\n",
    "\n",
    "# Add a legend to the plot to identify the bar plot\n",
    "ax.legend(ncol=2, loc=\"upper right\", frameon=True)\n",
    "\n",
    "# Label the x-axis and y-axis\n",
    "ax.set(xlabel=\"Movie Types\", ylabel=\"Profit\")\n",
    "\n",
    "# Display the plot\n",
    "plt.show()\n"
   ]
  },
  {
   "cell_type": "code",
   "execution_count": null,
   "id": "3e211fe1",
   "metadata": {},
   "outputs": [],
   "source": [
    "df_with_rating.to_csv('./Data/MrJulia_data/df_with_rating.csv')"
   ]
  },
  {
   "cell_type": "markdown",
   "id": "c4ed2c05",
   "metadata": {},
   "source": [
    "***\n",
    "## 7. Actors preprocessing"
   ]
  },
  {
   "cell_type": "code",
   "execution_count": null,
   "id": "2f0fe041",
   "metadata": {},
   "outputs": [],
   "source": [
    "df_movies = df_with_rating.copy()"
   ]
  },
  {
   "cell_type": "code",
   "execution_count": null,
   "id": "7df1a461",
   "metadata": {},
   "outputs": [],
   "source": [
    "#read the data file containing various information about characters and actors\n",
    "colnames1 = [\"Wikipedia movie ID\",\"Freebase movie ID\",\"Movie release date\",\"character name\",\"actor date of birth\",\"actor gender\",\"actor height\",\"actor ethnicity\",\"actor name\",\"actor age at movie release\",\"freebase character/actor map id\",\"freebase character id\",\"freebase actor id\"]\n",
    "df_characters=pd.read_csv(cmu_folder+'character.metadata.tsv', sep=\"\\t\", names = colnames1)\n",
    "df_characters.info()"
   ]
  },
  {
   "cell_type": "code",
   "execution_count": null,
   "id": "2fb3c4fa",
   "metadata": {},
   "outputs": [],
   "source": [
    "#remove acctors with na values as their freebase actor id\n",
    "df_characters = df_characters[~df_characters[\"freebase actor id\"].isna()]\n",
    "len(df_characters)"
   ]
  },
  {
   "cell_type": "code",
   "execution_count": null,
   "id": "e90eac4b",
   "metadata": {},
   "outputs": [],
   "source": [
    "#count number of characters per distinct movie\n",
    "nb_actors = df_characters.groupby(\"Freebase movie ID\")[\"freebase actor id\"].apply(\n",
    "    lambda x: x.count()\n",
    ")\n",
    "\n",
    "nb_actors.name = \"nb actors\"\n",
    "\n",
    "#merge with the movies dataframe\n",
    "df_movies = df_movies.merge(nb_actors, left_on=\"Freebase movie ID\", right_index=True)\n",
    "df_movies.head()"
   ]
  },
  {
   "cell_type": "code",
   "execution_count": null,
   "id": "2a380a5e",
   "metadata": {},
   "outputs": [],
   "source": [
    "# plot the distribution of actors\n",
    "maximum = np.max(df_movies[\"nb actors\"])\n",
    "bins = np.arange(maximum)\n",
    "plt.hist(df_movies[\"nb actors\"], bins=bins,log = True)\n",
    "plt.xlabel(\"Number of actors\")\n",
    "plt.ylabel(\"Number of movies\")\n",
    "plt.title(\"Distribution of actors\")\n",
    "plt.show()"
   ]
  },
  {
   "cell_type": "markdown",
   "id": "8779c551",
   "metadata": {},
   "source": [
    "***comments:***\n",
    "* we notice that the distribution plot is left-skewed, which means that most movies have around 13 to 20 actors"
   ]
  },
  {
   "cell_type": "code",
   "execution_count": null,
   "id": "1b6efa81",
   "metadata": {},
   "outputs": [],
   "source": [
    "#scatter plot to check relationship between two variables : number of actors and the box office revenue\n",
    "splot = sns.regplot(x=\"nb actors\", y=\"MBO_revenue\", \n",
    "                    data=df_movies,scatter_kws={'alpha':0.15}, fit_reg=False)\n",
    "splot.set(yscale=\"log\")\n",
    "splot.set(title='Relationship between the presence of a number of actors in a movie with its box office revenue')"
   ]
  },
  {
   "cell_type": "code",
   "execution_count": null,
   "id": "e3179b3e",
   "metadata": {},
   "outputs": [],
   "source": [
    "stats.spearmanr(df_movies[\"nb actors\"], df_movies[\"MBO_revenue\"])"
   ]
  },
  {
   "cell_type": "markdown",
   "id": "488fe7f7",
   "metadata": {},
   "source": [
    "correlation  of 0.32 which means that the relationship is weak uphill (positive).It is still significant since the p value is less than 0.05(p in range 10e-83) and do we should look closer into the relationship between the number of actors and the movie box office revenue"
   ]
  },
  {
   "cell_type": "code",
   "execution_count": null,
   "id": "eb9c0d7c",
   "metadata": {},
   "outputs": [],
   "source": [
    "stats.spearmanr(df_movies[\"nb actors\"], df_movies[\"Profit\"])"
   ]
  },
  {
   "cell_type": "markdown",
   "id": "c051bb90",
   "metadata": {},
   "source": [
    "correlation  of 0.22 between the number of actors and the profit which means that their relationship is weak uphill (positive).It is still significant since the p value is less than 0.05 (p in range 10e-38) and do we should look closer into the relationship between the number of actors and the movie box office revenue"
   ]
  },
  {
   "cell_type": "code",
   "execution_count": null,
   "id": "6ca2ef63",
   "metadata": {},
   "outputs": [],
   "source": [
    "#drop na values so that we can be able to compute correlation\n",
    "df_characters = df_characters[~df_characters[\"actor ethnicity\"].isna()]"
   ]
  },
  {
   "cell_type": "code",
   "execution_count": null,
   "id": "6e41cde3",
   "metadata": {},
   "outputs": [],
   "source": [
    "#number of unique ethnicities per movie\n",
    "num_ethnicity = df_characters.groupby(\"Freebase movie ID\")[\"actor ethnicity\"].apply(\n",
    "    lambda x: x.nunique()\n",
    ")\n",
    "\n",
    "num_ethnicity.name = \"diversity\"\n",
    "\n",
    "\n",
    "#merge with the movies data frame\n",
    "df_movies = df_movies.merge(num_ethnicity, left_on=\"Freebase movie ID\", right_index=True)\n",
    "df_movies.head()\n",
    "\n",
    "\n"
   ]
  },
  {
   "cell_type": "code",
   "execution_count": null,
   "id": "1afe6c5e",
   "metadata": {},
   "outputs": [],
   "source": [
    "#drop nan values\n",
    "df_characters = df_characters[~df_characters[\"actor gender\"].isna()]"
   ]
  },
  {
   "cell_type": "code",
   "execution_count": null,
   "id": "60278359",
   "metadata": {},
   "outputs": [],
   "source": [
    "#change the type to string to be able to filter out males from females\n",
    "df_characters[\"actor gender\"] = df_characters[\"actor gender\"].astype(str)"
   ]
  },
  {
   "cell_type": "code",
   "execution_count": null,
   "id": "ea84484f",
   "metadata": {},
   "outputs": [],
   "source": [
    "#number of females actors per movie\n",
    "female_actors = df_characters[df_characters[\"actor gender\"] == \"F\"]\n",
    "nb_female = female_actors.groupby(\"Freebase movie ID\")[\"actor gender\"].count()\n",
    "nb_female.name = \"nb_female\"\n",
    "#merge with the movie dataframe\n",
    "df_movies = df_movies.merge(nb_female, left_on=\"Freebase movie ID\", right_index=True)\n",
    "\n",
    "df_movies.head(3)"
   ]
  },
  {
   "cell_type": "code",
   "execution_count": null,
   "id": "54911bf1",
   "metadata": {},
   "outputs": [],
   "source": [
    "#number of male actors per movie\n",
    "male_actors = df_characters[df_characters[\"actor gender\"] == \"M\"]\n",
    "nb_male= male_actors.groupby(\"Freebase movie ID\")[\"actor gender\"].count()\n",
    "nb_male.name = \"nb_male\"\n",
    "#merge with the movie dataframe\n",
    "df_movies = df_movies.merge(nb_male, left_on=\"Freebase movie ID\", right_index=True)\n",
    "\n",
    "df_movies.head()"
   ]
  },
  {
   "cell_type": "code",
   "execution_count": null,
   "id": "18fdf788",
   "metadata": {},
   "outputs": [],
   "source": [
    "stats.spearmanr(df_movies[\"nb_male\"], df_movies[\"budget\"])"
   ]
  },
  {
   "cell_type": "code",
   "execution_count": null,
   "id": "1bd124fa",
   "metadata": {},
   "outputs": [],
   "source": [
    "corr = df_movies.corr()\n",
    "# Generate a mask for the upper triangle\n",
    "mask = np.triu(np.ones_like(corr, dtype=bool))\n",
    "\n",
    "# Set up the matplotlib figure\n",
    "f, ax = plt.subplots(figsize=(11, 9))\n",
    "\n",
    "# Generate a custom diverging colormap\n",
    "cmap = sns.diverging_palette(230, 20, as_cmap=True)\n",
    "\n",
    "# Draw the heatmap with the mask and correct aspect ratio\n",
    "sns.heatmap(corr, mask=mask, cmap=cmap, annot=True, linewidths=.5, fmt= '.1f',ax=ax).set_title(\"heatmap representing correlation between features\")"
   ]
  },
  {
   "cell_type": "code",
   "execution_count": null,
   "id": "32de85a0",
   "metadata": {},
   "outputs": [],
   "source": [
    "#create dataframe containing only female/male actors\n",
    "males = df_characters[df_characters[\"actor gender\"]=='M']\n",
    "females = df_characters[df_characters[\"actor gender\"]=='F']\n",
    "#compute the percentage of male and female actors\n",
    "malepercent =males.size/df_characters.size\n",
    "femalepercent = females.size/df_characters.size\n",
    "\n"
   ]
  },
  {
   "cell_type": "code",
   "execution_count": null,
   "id": "b14617e6",
   "metadata": {},
   "outputs": [],
   "source": [
    "#define data\n",
    "data = [malepercent, femalepercent]\n",
    "labels = ['Males' ,'Females']\n",
    "\n",
    "#define Seaborn color palette to use\n",
    "colors = sns.color_palette('pastel')[0:2]\n",
    "\n",
    "#create pie chart\n",
    "plt.pie(data, labels = labels,colors=colors, autopct='%.0f%%')\n",
    "plt.title(\"Distribution of male and female actors\")\n",
    "plt.show()"
   ]
  },
  {
   "cell_type": "code",
   "execution_count": null,
   "id": "82697a47",
   "metadata": {},
   "outputs": [],
   "source": [
    "#write data to csv filte\n",
    "df_movies.to_csv(\"Movies_with_nbactors.csv\")"
   ]
  },
  {
   "cell_type": "markdown",
   "id": "5eff210f",
   "metadata": {},
   "source": [
    "** we run a query to obtain ethnicity mapping:**\n",
    "\n",
    " \n",
    "***\n",
    "    SELECT ?freebaseID ?name WHERE { \n",
    "    \n",
    "    ?ethnicity p:P646 [ps:P646 ?freebaseID].  \n",
    "    ?ethnicity rdfs:label ?name.               \n",
    "    ?ethnicity p:P31 [ps:P31 wd:Q41710].       \n",
    "    filter(lang(?name) = \"en\")            \n",
    "}  \n",
    "***"
   ]
  },
  {
   "cell_type": "code",
   "execution_count": null,
   "id": "8bee68e0",
   "metadata": {},
   "outputs": [],
   "source": [
    "#read data of actors ethnicities from csv file\n",
    "df_ethnicities = pd.read_csv(queries_folder+\"query_ethnicities.csv\")\n",
    "df_ethnicities.head()"
   ]
  },
  {
   "cell_type": "code",
   "execution_count": null,
   "id": "b69b288e",
   "metadata": {},
   "outputs": [],
   "source": [
    "#we merge the ethnicities dataframe with the characters\n",
    "res=df_characters.merge(df_ethnicities,left_on='actor ethnicity',right_on='freebaseID').drop(['freebaseID'],axis=1)\n",
    "res\n",
    "del res[\"actor ethnicity\"]\n",
    "res = res.rename(columns={'name': 'ethnicity'})\n",
    "res.head()"
   ]
  },
  {
   "cell_type": "code",
   "execution_count": null,
   "id": "18561e6b",
   "metadata": {},
   "outputs": [],
   "source": [
    "#convert the column to string\n",
    "res['ethnicity'] = res['ethnicity'].astype(str)\n",
    "#Top 10 of ethnicities present in our data\n",
    "res['ethnicity'].value_counts().index[0:10]"
   ]
  },
  {
   "cell_type": "code",
   "execution_count": null,
   "id": "ab3b34e4",
   "metadata": {},
   "outputs": [],
   "source": [
    "#define data\n",
    "data = [x/len(res) for x in res['ethnicity'].value_counts()[0:10]]\n",
    "labels = [x for x in res['ethnicity'].value_counts().index[0:10]]\n",
    "\n",
    "#define Seaborn color palette to use\n",
    "colors = sns.color_palette('pastel')[0:10]\n",
    "\n",
    "#create pie chart\n",
    "plt.pie(data, labels = labels,colors=colors, autopct='%.0f%%')\n",
    "plt.title(\"Distribution of various ethnicities\")\n",
    "plt.show()"
   ]
  },
  {
   "cell_type": "markdown",
   "id": "d6dc534c",
   "metadata": {},
   "source": [
    "***We will try to measure an actor popularity using the awards he won prior to the concerned movie  \n",
    "We will only consider famous awards won :  \n",
    "Golden Globe Awards, British Academy Film Awards, Academy Awards, Screen Actors Guild Award and Critic's choice awards***\n",
    "\n",
    " \n",
    " \n",
    "***\n",
    "    SELECT ?actor ?actorLabel ?freebaseID ?date WHERE {\n",
    "\n",
    "    VALUES ?best { wd:Q1011547 wd:Q732997 wd:Q19020 wd:Q268200 wd:Q7585305 wd:Q110145}   \n",
    "    ?actor p:P646 [ps:P646 ?freebaseID].  \n",
    "    ?actor wdt:P106 wd:Q10800557.  \n",
    "    ?actor p:P166 ?awardstatement .  \n",
    "    ?awardstatement ps:P166 ?award .  \n",
    "    ?awardstatement pq:P585 ?date.  \n",
    "    ?award wdt:P31/wdt:P279* ?best.  \n",
    "    SERVICE wikibase:label { bd:serviceParam wikibase:language \"[AUTO_LANGUAGE],en\". }  \n",
    "    }  \n",
    "    \n",
    "    GROUP BY ?actor ?actorLabel ?freebaseID ?date\n",
    "***"
   ]
  },
  {
   "cell_type": "code",
   "execution_count": null,
   "id": "f5e96210",
   "metadata": {},
   "outputs": [],
   "source": []
  }
 ],
 "metadata": {
  "kernelspec": {
   "display_name": "Python 3 (ipykernel)",
   "language": "python",
   "name": "python3"
  },
  "language_info": {
   "codemirror_mode": {
    "name": "ipython",
    "version": 3
   },
   "file_extension": ".py",
   "mimetype": "text/x-python",
   "name": "python",
   "nbconvert_exporter": "python",
   "pygments_lexer": "ipython3",
   "version": "3.9.12"
  }
 },
 "nbformat": 4,
 "nbformat_minor": 5
}
